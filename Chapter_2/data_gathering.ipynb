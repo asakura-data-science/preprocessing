{
 "cells": [
  {
   "cell_type": "code",
   "execution_count": 1,
   "metadata": {
    "ExecuteTime": {
     "end_time": "2021-05-19T06:22:49.960197Z",
     "start_time": "2021-05-19T06:22:49.947984Z"
    }
   },
   "outputs": [],
   "source": [
    "# テキストファイルの先頭行を表示する関数\n",
    "# fname: テキストファイル名\n",
    "# n=: 表示する行数\n",
    "# encoding=: テキストのエンコーディング(cp932,shift_jis,utf-8(デフォルト)など)\n",
    "def head(fname,n=10,encoding='utf-8'):\n",
    "    with open(fname,encoding=encoding) as f:\n",
    "        for _ in range(n):\n",
    "            print(f.readline(),end='')"
   ]
  },
  {
   "cell_type": "code",
   "execution_count": 2,
   "metadata": {
    "ExecuteTime": {
     "end_time": "2021-05-19T06:22:50.897636Z",
     "start_time": "2021-05-19T06:22:49.965316Z"
    }
   },
   "outputs": [
    {
     "data": {
      "text/plain": [
       "('jpn3factor.zip', <http.client.HTTPMessage at 0x10d9a6cd0>)"
      ]
     },
     "execution_count": 2,
     "metadata": {},
     "output_type": "execute_result"
    }
   ],
   "source": [
    "# コード 2.1 Webからのファイルダウンロード\n",
    "\n",
    "import urllib.request  #urllibライブラリをインポート\n",
    "\n",
    "#ダウンロードファイルのURLは事前に確認する\n",
    "targetURL='http://mba.tuck.dartmouth.edu/pages/faculty/ken.french/ftp/Japan_3_Factors_Daily_CSV.zip'\n",
    "regFileName='jpn3factor.zip'   #保存ファイル名\n",
    "\n",
    "#urllib.request.urlretrieve()メソッドでファイルをダウンロードする\n",
    "#  対象ファイルのURL（第1引数）,保存するファイル名（第2引数）\n",
    "urllib.request.urlretrieve(targetURL,regFileName)"
   ]
  },
  {
   "cell_type": "code",
   "execution_count": 3,
   "metadata": {
    "ExecuteTime": {
     "end_time": "2021-05-19T06:22:50.935655Z",
     "start_time": "2021-05-19T06:22:50.904471Z"
    }
   },
   "outputs": [
    {
     "name": "stdout",
     "output_type": "stream",
     "text": [
      "['Japan_3_Factors_Daily.csv']\n",
      "This file was created using the 202103 Bloomberg database.\n",
      "\n",
      "Missing data are indicated by -99.99.\n",
      "\n",
      "\n",
      "\n",
      ",Mkt-RF,SMB,HML,RF\n",
      "19900702    ,0.85    ,0.38   ,-0.06    ,0.03\n",
      "19900703    ,0.07    ,0.72    ,0.30    ,0.03\n",
      "19900704    ,1.45    ,0.52    ,0.26    ,0.03\n"
     ]
    }
   ],
   "source": [
    "# コード 2.2 zipファイルの解凍\n",
    "#   先行実行コード：コード2.1\n",
    "\n",
    "import zipfile  #zipfileライブラリをインポート\n",
    "\n",
    "zipFileName='jpn3factor.zip'  #解凍対象のzipファイル名（ここではコード 2.1でダウンロードしたファイル）\n",
    "outDirName='./'  #解凍先のディレクトリ名\n",
    "outFileName='Japan_3_Factors_Daily.csv'  #解凍後のファイル名\n",
    "\n",
    "with zipfile.ZipFile(zipFileName) as zf: # zipファイルオープン\n",
    "    #zipファイルの中に格納されているファイル名を一覧表示\n",
    "    print(zf.namelist())\n",
    "    # ['Japan_3_Factors_Daily.csv']\n",
    "\n",
    "    #すべてのファイルを指定ディレクトリへ解凍\n",
    "    # （指定ディレクトリが存在しない場合は自動生成される）\n",
    "    zf.extractall(outDirName)\n",
    "\n",
    "    #特定ファイル（第1引数）を指定ディレクトリ（第2引数） へ解凍\n",
    "    zf.extract(outFileName, outDirName)\n",
    "\n",
    "    #パスワード付きzipファイルの場合はpwd引数にパスワードを指定\n",
    "    password=b'qwerty'  #パスワード値はバイト型で指定\n",
    "    zf.extract(outFileName, outDirName, pwd=password)\n",
    "\n",
    "#解凍したファイル内容の表示（先頭10行）\n",
    "head(outDirName+outFileName)\n"
   ]
  },
  {
   "cell_type": "code",
   "execution_count": 4,
   "metadata": {
    "ExecuteTime": {
     "end_time": "2021-05-19T06:22:51.224901Z",
     "start_time": "2021-05-19T06:22:50.946119Z"
    }
   },
   "outputs": [
    {
     "name": "stdout",
     "output_type": "stream",
     "text": [
      "﻿<!DOCTYPE html>\n",
      "<html lang=\"ja\">\n",
      "  <head>\n",
      "    <meta charset=\"utf-8\">\n",
      "    <meta http-equiv=\"X-UA-Compatible\" content=\"IE=edge\">\n",
      "    <meta name=\"viewport\" content=\"width=device-width, initial-scale=1\">\n",
      "    <meta name=\"description\" content=\"歴代内閣の情報をご覧になれます。\">\n",
      "    <meta name=\"keywords\" content=\"首相官邸,政府,内閣,総理,歴代内閣\">\n",
      "    <meta property=\"og:title\" content=\"歴代内閣 | 首相官邸ホームページ\">\n",
      "    <meta property=\"og:type\" content=\"article\">\n"
     ]
    }
   ],
   "source": [
    "# コード 2.3 Webページの取得\n",
    "\n",
    "import urllib  #urllibライブラリをインポート\n",
    "\n",
    "#取得するWebページのURLは事前に確認する\n",
    "targetURL='https://www.kantei.go.jp/jp/rekidainaikaku/index.html'\n",
    "regFileName='rekidainaikaku.html'  #保存ファイル名\n",
    "\n",
    "#urllib.request.urlretrieve()メソッドでWebページ（HTMLデータ）をダウンロードする\n",
    "#  対象ファイルのURL（第1引数）,保存するファイル名（第2引数）\n",
    "urllib.request.urlretrieve(targetURL,regFileName)\n",
    "\n",
    "#取得したデータ内容の表示（先頭10行）\n",
    "head(regFileName)\n"
   ]
  },
  {
   "cell_type": "code",
   "execution_count": 5,
   "metadata": {
    "ExecuteTime": {
     "end_time": "2021-05-19T06:22:51.656360Z",
     "start_time": "2021-05-19T06:22:51.229994Z"
    }
   },
   "outputs": [
    {
     "name": "stdout",
     "output_type": "stream",
     "text": [
      "歴代内閣 | 首相官邸ホームページ\n",
      "第98代安倍 晋三\n",
      "第97代安倍 晋三\n",
      "第96代安倍 晋三\n",
      "第95代野田 佳彦\n",
      "第94代菅 直人\n",
      "第93代鳩山 由紀夫\n",
      "第92代麻生 太郎\n",
      "第91代福田 康夫\n",
      "第90代安倍 晋三\n"
     ]
    }
   ],
   "source": [
    "# コード 2.4 HTMLファイルからのデータ取得\n",
    "#   先行実行コード：コード2.3\n",
    "\n",
    "from bs4 import BeautifulSoup  #BeautifulSoupライブラリをインポート\n",
    "\n",
    "inFileName='rekidainaikaku.html'  #対象のHTMLファイル（ここではコード 2.3で取得したHTMLファイル）\n",
    "outFileName='rekidainaikaku.txt'  #出力ファイル（対象HTMLを解析して出力したもの）\n",
    "\n",
    "#解析対象のhtmlファイルをオープン\n",
    "with open(inFileName, mode='r', encoding='utf-8') as f:\n",
    "  #htmlファイルの内容をBeautifulSoupパーサーに読み込ませる\n",
    "  soup = BeautifulSoup(f.read(), 'html.parser')\n",
    "\n",
    "  #出力用ファイルのオープン\n",
    "  with open(outFileName, mode='w', encoding='utf-8') as fo:\n",
    "    #titleタグの文字列を取得\n",
    "    _title = soup.find('title').get_text()\n",
    "    print(_title, file=fo)\n",
    "    #h3タグ内の文字列を取得\n",
    "    _names = [_h3.get_text() for _h3 in soup.find_all('h3')]\n",
    "    print('\\n'.join(_names), file=fo)\n",
    "\n",
    "#取得したデータ内容の表示（先頭10行）\n",
    "#Windowsではopenして書き込むとcp932エンコーディング(sjis)になる。\n",
    "head(outFileName)\n"
   ]
  },
  {
   "cell_type": "code",
   "execution_count": 6,
   "metadata": {
    "ExecuteTime": {
     "end_time": "2021-05-19T06:22:52.223182Z",
     "start_time": "2021-05-19T06:22:51.661581Z"
    }
   },
   "outputs": [
    {
     "name": "stdout",
     "output_type": "stream",
     "text": [
      "http://newsapi.org/v2/everything?language=jp&pageSize=50&qInTitle=%E6%A0%AA%E4%BE%A1&domains=yahoo.co.jp&apiKey=xxxxxxxxxxxxxxxxxxxxxxxxxxxxx\n",
      "{\"status\":\"ok\",\"totalResults\":1,\"articles\":[{\"source\":{\"id\":null,\"name\":\"Yahoo.co.jp\"},\"author\":\"オーサー一覧\",\"title\":\"血栓症の副反応、変異株への効果低下　5月承認予定のアストラゼネカ社の新型コロナワクチン 現時点の評価(忽那賢志)\",\"description\":\"日本国内でも5月にも承認される見込みとされるアストラゼネカ社の新型コロナワクチンに血栓症の副反応が報告されました。副反応の報告の詳細や変異株に対する有効性低下など、現時点での評価についてまとめました。\",\"url\":\"https://news.yahoo.co.jp/byline/kutsunasatoshi/20210418-00233281/\",\"urlToImage\":\"https://newsbyl-pctr.c.yimg.jp/r/iwiz-yn/rpr/kutsunasatoshi/00233281/title-1618732976941.jpeg\",\"publishedAt\":\"2021-04-18T08:23:00Z\",\"content\":\"25\\r\\nCDC \\\"How Viral Vector COVID-19 Vaccines Work\\\"\\r\\n/ChAdOx1 nCoV-19AZD1222\\r\\nChAdOx1 nCoV-19\\r\\n2\\r\\n3https://doi.org/10.7326/M21-0111\\r\\n2\\r\\n14122WHO812\\r\\n70.4mRNA95%\\r\\nmRNA28mRNA\\r\\nWHO situation report 13 Apr… [+101 chars]\"}]}"
     ]
    }
   ],
   "source": [
    "# コード 2.5 WebAPIデータの取得\n",
    "\n",
    "# NewsAPIを使ってニュースデータをダウンロードする\n",
    "#################################################################\n",
    "# news apiのキーを指定しないとエラーとなるので注意すること。\n",
    "#################################################################\n",
    "import urllib.parse\n",
    "import urllib.request\n",
    "\n",
    "# news apiを使ったニュースのダウンロード(https://newsapi.org/) 2020/07現在\n",
    "#   Developer plan\n",
    "#   検索期間：１ヶ月前〜1時間前\n",
    "#   リクエスト数：500/日\n",
    "# params (辞書で与える) 以下は指定可能な主なパラメータ(https://newsapi.org/docs/endpoints/everything#sources)\n",
    "#   apiKey: 個人で取得したnews apiのapi key(必須)\n",
    "#   q: titleとbodyのキーワードやフレーズ検索, AND/OR/NOTが使える ex. (ビール OR ワイン) AND 夏\n",
    "#   qInTitle: タイトルのみを検索する。書式はqに同じ\n",
    "#   language: 言語 (en,jpなど) デフォルトは全言語\n",
    "#   from,to: 検索期間(デフォルト: 契約planの最古と最新日) ex. from=2020-07-09\n",
    "#   pageSize: 取得する記事数\n",
    "#   domains: 取得する記事元のURLのドメイン(カンマで区切って複数指定可能)\n",
    "#   sortBy: relevancy, popularity, publishedAt(デフォルト)\n",
    "def downloadNews(params,jsonFile):\n",
    "    url='http://newsapi.org/v2/everything'\n",
    "    requestStr=url+'?'+ urllib.parse.urlencode(params)\n",
    "    print(requestStr)\n",
    "    urllib.request.urlretrieve(requestStr,jsonFile)\n",
    "    \n",
    "params = {'language':'jp',\n",
    "          'pageSize':50,\n",
    "          'qInTitle':'株価',\n",
    "          'domains': 'yahoo.co.jp',\n",
    "          'apiKey':'### 個人で取得したnews apiのキーを指定する ###'\n",
    "         }\n",
    "downloadNews(params,'./stock_yahoo.json')\n",
    "#################################################################\n",
    "# 最新のニュースタイトルを取得しているため、「株価」を含むタイトルが少ないこともありうる。\n",
    "# 出力された./stock_yahoo.jsonの中身を確認し、件数が少なければ、最近流行りの言葉に置き換えて検索されたい。\n",
    "#################################################################\n",
    "\n",
    "#出力ファイル内容の表示（先頭2000文字）\n",
    "with open('./stock_yahoo.json',encoding='utf-8') as f:\n",
    "    for i,c in enumerate(f.read()):\n",
    "        print(c,end='')\n",
    "        if i>2000:\n",
    "            break\n"
   ]
  },
  {
   "cell_type": "code",
   "execution_count": 7,
   "metadata": {
    "ExecuteTime": {
     "end_time": "2021-05-19T06:22:52.245559Z",
     "start_time": "2021-05-19T06:22:52.226444Z"
    }
   },
   "outputs": [
    {
     "name": "stdout",
     "output_type": "stream",
     "text": [
      "[\n",
      "    {\n",
      "        \"title\": \"血栓症の副反応、変異株への効果低下　5月承認予定のアストラゼネカ社の新型コロナワクチン 現時点の評価(忽那賢志)\",\n",
      "        \"author\": \"オーサー一覧\"\n",
      "    }\n",
      "]"
     ]
    }
   ],
   "source": [
    "# コード 2.6 JSONファイルの入出力\n",
    "#   先行実行コード：コード2.5\n",
    "\n",
    "import json  #jsonライブラリをインポート\n",
    "\n",
    "#入力JSONファイル名（ここではコード 2.5で取得したJSONファイル）\n",
    "inFileName='stock_yahoo.json'\n",
    "#出力JSONファイル名\n",
    "outFileName='stock_yahoo_mini.json'\n",
    "\n",
    "#対象のJSONファイルをオープン\n",
    "with open(inFileName, mode='r', encoding='utf-8') as f:\n",
    "    #json.load()関数によりJSONファイルを辞書型変数に変換\n",
    "    jsonDict = json.load(f)\n",
    "\n",
    "    outLst = []   #保存用のリスト変数\n",
    "    for item in jsonDict['articles']:\n",
    "        outLst.append({\n",
    "            'title': item['title'],\n",
    "            'author': item['author']\n",
    "        })\n",
    "\n",
    "    #保存用のJSONファイルをオープン\n",
    "    with open(outFileName, mode='w',encoding='utf-8') as fo:\n",
    "        #json.dump()関数によりJSONファイルとして保存\n",
    "        #  第1引数:保存する変数, 第2引数:保存するファイル名,\n",
    "        #     indent引数:整形時の字下げ数,\n",
    "        #     ensure_ascii引数:False指定で日本語の全角文字などをそのまま出力\n",
    "        json.dump(outLst, fo, indent=4, ensure_ascii=False)\n",
    "        \n",
    "#出力JSONファイル内容の表示（先頭20行）\n",
    "head(outFileName,n=20)\n"
   ]
  },
  {
   "cell_type": "code",
   "execution_count": 8,
   "metadata": {
    "ExecuteTime": {
     "end_time": "2021-05-19T06:22:52.301923Z",
     "start_time": "2021-05-19T06:22:52.250065Z"
    }
   },
   "outputs": [
    {
     "name": "stdout",
     "output_type": "stream",
     "text": [
      "in/stats/2018/a020047.csv\n",
      "in/stats/2018/a020013.csv\n",
      "in/stats/2018/a020001.csv\n",
      "in/stats/2018/a020014.csv\n",
      "\n",
      "■入力ファイルの一つ（in/stats/2018/a020001.csv）の内容表示（先頭10行）\n",
      "平成３０年,人口動態統計,,\n",
      "中巻　総覧　第２表－０１　人口動態総覧（件数），都道府県（北海道）・市部－郡部－保健所－市区町村別\n",
      ",出生数,（再掲）,死亡数,（再掲）, ,死産数, ,周産期死亡, , ,婚姻件数,離婚件数\n",
      ",　　　,2500g未満,　　　,乳児死亡数,新生児,自然死産,人工死産,総　数,22週以後,早期新生児,　　　,　　　\n",
      ",,,,,死亡数,,,,の死産数,死亡数,,\n",
      "０１北海道　　,32642,2987,64187,62,32,388,493,118,95,23,22916,9971\n",
      "　　札幌市　　,13248,1182,19343,34,20,138,208,47,32,15,9878,4024\n",
      "　　その他の市,14104,1371,30851,23,10,182,216,54,48,6,9665,4459\n",
      "　　郡　部　　,5290,434,13993,5,2,68,69,17,15,2,3373,1488\n",
      "0110札幌市　　　　　　　,13248,1182,19343,34,20,138,208,47,32,15,　　　　...,　　　　...\n",
      "\n",
      "■出力ファイルの一つ（in/stats/2018/a020001.csv_after）の内容表示（先頭10行）\n",
      "０１北海道　　,32642,2987,64187,62,32,388,493,118,95,23,22916,9971\n",
      "　　札幌市　　,13248,1182,19343,34,20,138,208,47,32,15,9878,4024\n",
      "　　その他の市,14104,1371,30851,23,10,182,216,54,48,6,9665,4459\n",
      "　　郡　部　　,5290,434,13993,5,2,68,69,17,15,2,3373,1488\n",
      "0110札幌市　　　　　　　,13248,1182,19343,34,20,138,208,47,32,15,　　　　...,　　　　...\n",
      "0136小樽市　　　　　　　,480,54,1901,1,1,1,16,2,1,1,　　　　...,　　　　...\n",
      "0137市立函館　　　　　　,1418,140,3761,1,-,15,23,5,5,-,　　　　...,　　　　...\n",
      "0138旭川市　　　　　　　,2120,218,4377,7,4,19,35,4,3,1,　　　　...,　　　　...\n",
      "0151江別　　　　　　　　,961,89,2148,1,-,12,25,3,3,-,　　　　...,　　　　...\n",
      "0153千歳　　　　　　　　,1455,126,2051,3,1,26,20,12,11,1,　　　　...,　　　　...\n"
     ]
    }
   ],
   "source": [
    "# コード 2.7 ディレクトリにあるファイルリストの抽出\n",
    "\n",
    "import glob  #globライブラリをインポート\n",
    "import os  #osライブラリをインポート（パス結合で使用するため）\n",
    "\n",
    "#対象ディレクトリ\n",
    "dir_in = 'in/stats/2018/'\n",
    "\n",
    "#glob.glob()関数の引数に対象ディレクトリのパスを指定することで、ディレクリトリ内に存在するファイルリストを取得できる。\n",
    "#ここでは、'in/stats/2018/*.csv'というパスを指定しており、*の箇所に任意の文字が含まれるファイルのパスが抽出される。\n",
    "#os.path.join()関数の引数にディレクトリ名とファイル名を指定するとパスの形式で結合してくれる。\n",
    "for f in glob.glob(os.path.join(dir_in, '*.csv')):\n",
    "    print(f)\n",
    "    # in/stats/2018/a020047.csv\n",
    "    # in/stats/2018/a020013.csv\n",
    "    # in/stats/2018/a020001.csv\n",
    "    # in/stats/2018/a020014.csv\n",
    "\n",
    "    #各ファイルの先頭5行がCSV形式以外の説明行であるため、\n",
    "    #先頭5行を削除したCSV形式ファイルを別名で作成\n",
    "    with open(f+'_after', mode='w',encoding='utf-8') as f_out:\n",
    "        with open(f, mode='r',encoding='cp932') as f_in:\n",
    "            f_out.write('\\n'.join(f_in.read().split('\\n')[5:]))\n",
    "\n",
    "#入力ファイルの一つ（in/stats/2018/a020001.csv）の内容表示（先頭10行）\n",
    "#このファイルはダウンロードした大元のエンコーディングがcp932である。\n",
    "print('\\n■入力ファイルの一つ（in/stats/2018/a020001.csv）の内容表示（先頭10行）')\n",
    "head('in/stats/2018/a020001.csv',encoding='cp932')\n",
    "\n",
    "#出力ファイルの一つ（in/stats/2018/a020001.csv_after）の内容表示（先頭10行）\n",
    "#出力のエンコーディングは上のopen関数でutf-8を指定している。\n",
    "print('\\n■出力ファイルの一つ（in/stats/2018/a020001.csv_after）の内容表示（先頭10行）')\n",
    "head('in/stats/2018/a020001.csv_after')\n"
   ]
  },
  {
   "cell_type": "code",
   "execution_count": 9,
   "metadata": {
    "ExecuteTime": {
     "end_time": "2021-05-19T06:22:52.561418Z",
     "start_time": "2021-05-19T06:22:52.312832Z"
    }
   },
   "outputs": [
    {
     "name": "stdout",
     "output_type": "stream",
     "text": [
      "01101札幌市中央区　　,1744,170,2174,6,5,21,58,6,4,2,1556,537\n",
      "01102札幌市北区　　　,1847,163,2842,3,1,20,17,8,7,1,1213,601\n",
      "01103札幌市東区　　　,1978,163,2512,5,4,17,37,5,2,3,1408,580\n",
      "01104札幌市白石区　　,1711,163,2032,4,1,17,18,4,3,1,1455,541\n",
      "01105札幌市豊平区　　,1682,130,2047,4,2,16,21,7,5,2,1458,445\n"
     ]
    }
   ],
   "source": [
    "# コード 2.8 nysol_pythonを利用したCSVファイルの入出力\n",
    "\n",
    "# ※Windows環境下ではnysol_pythonは動作させることができません。\n",
    "\n",
    "import nysol.mcmd as nm  #nysol.mcmdライブラリをインポート\n",
    "\n",
    "#入力CSVファイル名（ここではコード 2.7で生成したファイル群のワイルドカード表現）\n",
    "inFileName='in/stats/2018/*.csv_after'\n",
    "#出力CSVファイル名\n",
    "outFileName='nysol_python.csv'\n",
    "\n",
    "#MCMDコマンド格納変数を宣言\n",
    "mcmd=None\n",
    "#mcatメソッドはファイルの読み込み・統合ができる\n",
    "#msortfメソッドは指定項目で行の並び替えができる\n",
    "#  i=引数：入力CSVファイル名を指定\n",
    "#  nfn=True：先頭行をタイトル行とみなさない\n",
    "#  msortfでのf=引数：ソートの項目キーを指定（0項目）\n",
    "#  o=引数：出力CSVファイル名を指定\n",
    "#<<=記述子により処理メソッドを順番に格納\n",
    "mcmd<<=nm.mcat(i=inFileName, nfn=True)\n",
    "mcmd<<=nm.msortf(nfn=True, f='0', o=outFileName)\n",
    "#run()メソッドにより格納した処理メソッドが順番に実行される\n",
    "mcmd.run()\n",
    "\n",
    "#出力ファイル内容の表示（先頭5行）\n",
    "head(outFileName,n=5)\n"
   ]
  },
  {
   "cell_type": "code",
   "execution_count": 10,
   "metadata": {
    "ExecuteTime": {
     "end_time": "2021-05-19T06:22:55.361944Z",
     "start_time": "2021-05-19T06:22:52.565077Z"
    }
   },
   "outputs": [
    {
     "name": "stdout",
     "output_type": "stream",
     "text": [
      "   モニタ        日付 購入先区分送信ID 店舗  業態   商品  購入数量     単価     金額  都道府県  ... 中高生有無  \\\n",
      "0  00J  20140120       NaN  2   2  6JN     1  248.0  248.0     0  ...     0   \n",
      "1  00J  20140119      0CjU  D   1   u9     1   98.0   98.0     0  ...     0   \n",
      "2  00J  20140201       NaN  u   5  fEw     2  198.0  396.0     0  ...     0   \n",
      "\n",
      "   大人有無  老人有無  曜日  大分類名  中分類名    小分類名         細分類名      店舗名          業態名  \n",
      "0     1     0   月    食品  加工食品   漬物・佃煮           漬物  セブンイレブン   コンビニエンスストア  \n",
      "1     1     0   日    食品  生鮮食品      農産        その他農産     いなげや         スーパー  \n",
      "2     1     0   土   日用品  日用雑貨  住居用洗剤類  使い捨て紙クリーナー類  マツモトキヨシ  薬粧店・ドラッグストア  \n",
      "\n",
      "[3 rows x 31 columns]\n",
      "\n",
      "■入力ファイル内容の表示（先頭10行）\n",
      "モニタ,日付,購入先区分送信ID,店舗,業態,商品,購入数量,単価,金額,都道府県,メーカー,大分類,中分類,小分類,細分類,性別,年代,未既婚,メイン買物担当者,乳幼児有無,小学生有無,中高生有無,大人有無,老人有無,曜日,大分類名,中分類名,小分類名,細分類名,店舗名,業態名\n",
      "00J,20140120,,2,2,6JN,1,248,248,0,3z,1,11,1117,111701,1,10,1,1,0,0,0,1,0,月,食品,加工食品,漬物・佃煮,漬物,セブンイレブン,コンビニエンスストア\n",
      "00J,20140119,0CjU,D,1,u9,1,98,98,0,fo,1,12,1203,120397,1,10,1,1,0,0,0,1,0,日,食品,生鮮食品,農産,その他農産,いなげや,スーパー\n",
      "00J,20140201,,u,5,fEw,2,198,396,0,4j,2,21,2129,212917,1,10,1,1,0,0,0,1,0,土,日用品,日用雑貨,住居用洗剤類,使い捨て紙クリーナー類,マツモトキヨシ,薬粧店・ドラッグストア\n",
      "00J,20130826,,2,2,2hn,4,62,248,0,4,1,13,1304,130497,1,10,1,1,0,0,0,1,0,月,食品,菓子類,アイスクリーム類,パーソナルアイスその他,セブンイレブン,コンビニエンスストア\n",
      "00J,20130907,6bGe,D,1,fZh,1,198,198,0,fY,1,11,1119,111901,1,10,1,1,0,0,0,1,0,土,食品,加工食品,惣菜類,サラダ,いなげや,スーパー\n",
      "00J,20130622,,u,5,0JV,2,298,596,0,1o,2,21,2131,213101,1,10,1,1,0,0,0,1,0,土,日用品,日用雑貨,芳香・消臭剤,トイレ用芳香・消臭・防臭剤,マツモトキヨシ,薬粧店・ドラッグストア\n",
      "00J,20130828,a3Bk,2,2,6kW,2,88,176,0,0D,1,11,1118,111801,1,10,1,1,0,0,0,1,0,水,食品,加工食品,水物,豆腐,セブンイレブン,コンビニエンスストア\n",
      "00J,20130620,65BQ,F,5,GGC,1,2480,2480,0,Ch,2,22,2219,221907,1,10,1,1,0,0,0,1,0,木,日用品,ＯＴＣ医薬品類,外皮用薬,外用鎮痛・消炎薬（貼付・塗布薬）,ウエルシア,薬粧店・ドラッグストア\n",
      "00J,20131229,,u,5,0ot,2,699,1398,0,1o,2,21,2132,213201,1,10,1,1,0,0,0,1,0,日,日用品,日用雑貨,防虫・除湿・乾燥剤,防虫剤,マツモトキヨシ,薬粧店・ドラッグストア\n",
      "\n",
      "■出力ファイル内容の表示（先頭10行）\n",
      ",モニタ,日付,購入数量,都道府県,小分類名\n",
      "0,00J,20140120,1,0,漬物・佃煮\n",
      "1,00J,20140119,1,0,農産\n",
      "2,00J,20140201,2,0,住居用洗剤類\n",
      "3,00J,20130826,4,0,アイスクリーム類\n",
      "4,00J,20130907,1,0,惣菜類\n",
      "5,00J,20130622,2,0,芳香・消臭剤\n",
      "6,00J,20130828,2,0,水物\n",
      "7,00J,20130620,1,0,外皮用薬\n",
      "8,00J,20131229,2,0,防虫・除湿・乾燥剤\n"
     ]
    }
   ],
   "source": [
    "# コード 2.9 pandasを利用したCSVファイルの入出力\n",
    "\n",
    "import pandas as pd  #pandasライブラリをインポート\n",
    "\n",
    "#入力CSVファイル名\n",
    "inFileName='in/ds2qpr.csv'\n",
    "\n",
    "#出力CSVファイル名\n",
    "outFileName='pandas.csv'\n",
    "#CSVファイルの読み込み\n",
    "df_file = pd.read_csv(inFileName)\n",
    "\n",
    "#正常に読み込めているか、内容確認\n",
    "print(df_file.head(3))\n",
    "\n",
    "#一部の項目のみ抽出してCSVファイルとして出力\n",
    "df_file[[\"モニタ\",\"日付\",\"購入数量\",\"都道府県\",\"小分類名\"]].to_csv(outFileName)\n",
    "\n",
    "#入力ファイル内容の表示（先頭10行）\n",
    "print('\\n■入力ファイル内容の表示（先頭10行）')\n",
    "head(inFileName)\n",
    "\n",
    "#出力ファイル内容の表示（先頭10行）\n",
    "print('\\n■出力ファイル内容の表示（先頭10行）')\n",
    "head(outFileName)\n"
   ]
  },
  {
   "cell_type": "code",
   "execution_count": 11,
   "metadata": {
    "ExecuteTime": {
     "end_time": "2021-05-19T06:22:55.664056Z",
     "start_time": "2021-05-19T06:22:55.365654Z"
    }
   },
   "outputs": [
    {
     "name": "stdout",
     "output_type": "stream",
     "text": [
      ",団体コード,都道府県名,市区町村名,平成30年,Unnamed: 4,Unnamed: 5,Unnamed: 6,Unnamed: 7,Unnamed: 8,平成29年,Unnamed: 10,Unnamed: 11,Unnamed: 12,Unnamed: 13,Unnamed: 14,Unnamed: 15,Unnamed: 16,Unnamed: 17,Unnamed: 18,Unnamed: 19,Unnamed: 20,Unnamed: 21,Unnamed: 22,Unnamed: 23,Unnamed: 24,Unnamed: 25,Unnamed: 26,Unnamed: 27,Unnamed: 28,Unnamed: 29,Unnamed: 30\n",
      "0,,,,人口,,,世帯数,,,住民票記載数,,,,,,,,住民票消除数,,,,,,,,増減数(Ａ)-(Ｂ),増減率,自然増減数,自然増減率,社会増減数,社会増減率\n",
      "1,,,,男,女,計,日本人住民,複数国籍,計,転入者数（国内）,転入者数（国外）,転入者数（計）,出生者数,その他（帰化等）,その他（その他）,その他（計）,計（Ａ）,転出者数（国内）,転出者数（国外）,転出者数（計）,死亡者数,その他（国籍喪失）,その他（その他）,その他（計）,計（Ｂ）,,,,,,\n",
      "2,,合計,,61098245,64111358,125209603,56153341,460658,56613999,4890267,171093,5061360,948396,11110,60360,71470,6081226,4905882,172536,5078418,1340774,156,35933,36089,6455281,-374055,-0.2978532445678561,-392378,-0.3124435187259795,18323,0.014590274158123343\n",
      "3,10006.0,北海道,,2508580,2799233,5307813,2745228,5112,2750340,240776,4038,244814,34204,76,2055,2131,281149,248428,4098,252526,62651,5,772,777,315954,-34805,-0.6514596401988688,-28447,-0.5324543135968172,-6358,-0.11900532660205165\n",
      "4,11002.0,北海道,札幌市,907013,1033022,1940035,1038412,2498,1040910,119129,2040,121169,13883,31,627,658,135710,110666,2132,112798,18807,3,240,243,131848,3862,0.1994656469230797,-4924,-0.25431611741306176,8786,0.4537817643361415\n",
      "5,11011.0,北海道,札幌市中央区,104586,126808,231394,137901,534,138435,20532,393,20925,1772,6,88,94,22791,18775,374,19149,2014,0,34,34,21197,1594,0.6936466492602262,-242,-0.1053089643167972,1836,0.7989556135770235\n",
      "6,11029.0,北海道,札幌市北区,133948,148577,282525,148222,289,148511,15307,283,15590,1945,7,105,112,17647,14159,331,14490,2650,0,32,32,17172,475,0.16840985640843822,-705,-0.24995568161673465,1180,0.41836553802517285\n",
      "7,11037.0,北海道,札幌市東区,123840,136667,260507,140097,281,140378,15028,203,15231,2143,2,127,129,17503,14096,233,14329,2422,2,61,63,16814,689,0.2651856299409587,-279,-0.10738286030990923,968,0.3725684902508679\n",
      "8,11045.0,北海道,札幌市白石区,100391,110449,210840,119718,225,119943,13813,139,13952,1731,1,71,72,15755,13265,157,13422,2072,0,33,33,15527,228,0.10825593983248818,-341,-0.16190910299508102,569,0.27016504282756915\n"
     ]
    }
   ],
   "source": [
    "# コード 2.10 EXCELから表データを取得する例\n",
    "\n",
    "import pandas as pd  #pandasライブラリをインポート\n",
    "\n",
    "#入力EXCELファイル名\n",
    "inFileName='./in/1807nsjin.xls'\n",
    "#出力CSVファイル名\n",
    "outFileName='pandas2excel.csv'\n",
    "# 第1引数にCSVファイル名を指定、その他必要な引数を指定\n",
    "df = pd.read_excel(\n",
    "    inFileName,\n",
    "    sheet_name='人口、世帯数、人口動態（市区町村別）【日本人住民】',\n",
    "    header=1\n",
    ")\n",
    "df.to_csv(outFileName)\n",
    "\n",
    "#出力ファイル内容の表示（先頭10行）\n",
    "head(outFileName)\n"
   ]
  },
  {
   "cell_type": "code",
   "execution_count": 12,
   "metadata": {
    "ExecuteTime": {
     "end_time": "2021-05-19T06:22:55.892248Z",
     "start_time": "2021-05-19T06:22:55.675276Z"
    }
   },
   "outputs": [
    {
     "name": "stdout",
     "output_type": "stream",
     "text": [
      "行 6 列 1 セル形式 1 値 北海道\n",
      "行 6 列 2 セル形式 1 値 札幌市\n",
      "行 6 列 3 セル形式 2 値 907013.0\n"
     ]
    }
   ],
   "source": [
    "# コード 2.11 EXCELから表形式以外のデータを取得する例\n",
    "\n",
    "import xlrd  #xlrdライブラリをインポート\n",
    "\n",
    "#入力EXCELファイル名\n",
    "inFileName='./in/1807nsjin.xls'\n",
    "wb = xlrd.open_workbook(inFileName)  #Excelファイルオープン\n",
    "sheet_1 = wb.sheet_by_index(0)  #読み込むシート番号を指定\n",
    "#7行目の2,3,4列目のセルを取得\n",
    "row = 6  #0からカウントされるため7行目のこと\n",
    "cols = [1, 2, 3]  #0からカウントされるため2,3,4列目のこと\n",
    "for col in cols:\n",
    "    _type = sheet_1.cell_type(row, col) #セルの型を取得\n",
    "    _value = sheet_1.cell(row, col).value #セルの値を取得\n",
    "    #セルの型が3=日付の場合は値の変換が必要\n",
    "    if _type == 3:\n",
    "        _value = xlrd.xldate.xldate_as_tuple(_value,0)\n",
    "    print(\"行\", row, \"列\", col, \"セル形式\", _type, \"値\", _value)"
   ]
  },
  {
   "cell_type": "code",
   "execution_count": 13,
   "metadata": {
    "ExecuteTime": {
     "end_time": "2021-05-19T06:22:55.988846Z",
     "start_time": "2021-05-19T06:22:55.895457Z"
    }
   },
   "outputs": [
    {
     "name": "stdout",
     "output_type": "stream",
     "text": [
      "MySQLサーバーの環境設定に不備があります。 (2003, \"Can't connect to MySQL server on 'localhost' ([Errno 61] Connection refused)\")\n"
     ]
    }
   ],
   "source": [
    "# コード 2.12 RDBMSからのデータ取得例\n",
    "\n",
    "#事前に下記の環境設定が必要。環境がない場合はこのスクリプトは動作しない。\n",
    "# - ローカルマシン（localhost）にMySQLサーバーがインストールされていて起動済み\n",
    "# - 'db'という名前のデータベースが作成済み\n",
    "# - 'username'というユーザーが作成済み（パスワードは'password'）\n",
    "# - 「住民基本台帳による人口」というテーブルが作成され、データ格納済み\n",
    "\n",
    "import pymysql  #pymysqlライブラリをインポート\n",
    "\n",
    "#mysqlサーバーへの接続関連情報を格納する辞書型変数\n",
    "_mysql={}\n",
    "_mysql[\"_host\"]='localhost'\n",
    "_mysql[\"_user\"]='username'\n",
    "_mysql[\"_password\"]='password'\n",
    "_mysql[\"_charset\"]='utf8mb4'\n",
    "_mysql[\"_db\"]='mydb'\n",
    "try:\n",
    "    #mysql接続\n",
    "    connection = pymysql.connect(host=_mysql[\"_host\"],\n",
    "                                 user=_mysql[\"_user\"],\n",
    "                                 password=_mysql[\"_password\"],\n",
    "                                 charset=_mysql[\"_charset\"],\n",
    "                                 local_infile=True)\n",
    "    #操作のためのカーソルオープン\n",
    "    #（引数にpymysql.cursors.DictCursorを指定すると辞書型で出力）\n",
    "    cur = connection.cursor()\n",
    "    #使用するデータベースへの接続\n",
    "    cur.execute(\"use {_db};\".format(**_mysql))\n",
    "\n",
    "    #実行したいsql文を文字列で生成\n",
    "    sql='''\n",
    "    select\n",
    "        集計年, 団体コード, 人口_計\n",
    "    from 住民基本台帳による人口\n",
    "    ;\n",
    "    '''\n",
    "    cur.execute(sql)  #sqlの実行\n",
    "    rows = cur.fetchall()   #sqlの実行結果をすべて取得\n",
    "    print(\"件数\", len(rows))\n",
    "    print([title[0] for title in cur.description])\n",
    "    print(rows[:3])\n",
    "    #出力内容\n",
    "    # ['集計年', '団体コード', '人口_計']\n",
    "    # (('2017', '010006', 5342618),\n",
    "    #  ('2017', '011002', 1936173),\n",
    "    #  ('2017', '011011', 229800))\n",
    "\n",
    "    #操作カーソルとサーバー接続の切断\n",
    "    cur.close()\n",
    "    connection.close()\n",
    "except Exception as e:\n",
    "    print('MySQLサーバーの環境設定に不備があります。', e)"
   ]
  },
  {
   "cell_type": "code",
   "execution_count": null,
   "metadata": {},
   "outputs": [],
   "source": []
  }
 ],
 "metadata": {
  "kernelspec": {
   "display_name": "Python 3",
   "language": "python",
   "name": "python3"
  },
  "language_info": {
   "codemirror_mode": {
    "name": "ipython",
    "version": 3
   },
   "file_extension": ".py",
   "mimetype": "text/x-python",
   "name": "python",
   "nbconvert_exporter": "python",
   "pygments_lexer": "ipython3",
   "version": "3.8.6"
  }
 },
 "nbformat": 4,
 "nbformat_minor": 4
}
