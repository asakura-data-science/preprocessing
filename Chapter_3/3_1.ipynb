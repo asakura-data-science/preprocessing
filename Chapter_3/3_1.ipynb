{
 "cells": [
  {
   "cell_type": "code",
   "execution_count": 3,
   "metadata": {
    "ExecuteTime": {
     "end_time": "2020-09-30T09:27:02.322675Z",
     "start_time": "2020-09-30T09:27:02.265931Z"
    }
   },
   "outputs": [
    {
     "name": "stdout",
     "output_type": "stream",
     "text": [
      "<class 'pandas.core.frame.DataFrame'>\n"
     ]
    },
    {
     "data": {
      "text/html": [
       "<div>\n",
       "<style scoped>\n",
       "    .dataframe tbody tr th:only-of-type {\n",
       "        vertical-align: middle;\n",
       "    }\n",
       "\n",
       "    .dataframe tbody tr th {\n",
       "        vertical-align: top;\n",
       "    }\n",
       "\n",
       "    .dataframe thead th {\n",
       "        text-align: right;\n",
       "    }\n",
       "</style>\n",
       "<table border=\"1\" class=\"dataframe\">\n",
       "  <thead>\n",
       "    <tr style=\"text-align: right;\">\n",
       "      <th></th>\n",
       "      <th>企業管理コード</th>\n",
       "      <th>資本金_千円</th>\n",
       "      <th>従業員数</th>\n",
       "      <th>所在地_都道府県名</th>\n",
       "    </tr>\n",
       "  </thead>\n",
       "  <tbody>\n",
       "    <tr>\n",
       "      <th>0</th>\n",
       "      <td>A01132330</td>\n",
       "      <td>913</td>\n",
       "      <td>378</td>\n",
       "      <td>広島県</td>\n",
       "    </tr>\n",
       "    <tr>\n",
       "      <th>1</th>\n",
       "      <td>A03112202</td>\n",
       "      <td>970</td>\n",
       "      <td>88</td>\n",
       "      <td>福岡県</td>\n",
       "    </tr>\n",
       "    <tr>\n",
       "      <th>2</th>\n",
       "      <td>A03124920</td>\n",
       "      <td>902</td>\n",
       "      <td>148</td>\n",
       "      <td>三重県</td>\n",
       "    </tr>\n",
       "    <tr>\n",
       "      <th>3</th>\n",
       "      <td>A04113912</td>\n",
       "      <td>1127</td>\n",
       "      <td>72</td>\n",
       "      <td>福岡県</td>\n",
       "    </tr>\n",
       "    <tr>\n",
       "      <th>4</th>\n",
       "      <td>A04116769</td>\n",
       "      <td>1037</td>\n",
       "      <td>114</td>\n",
       "      <td>東京都</td>\n",
       "    </tr>\n",
       "    <tr>\n",
       "      <th>5</th>\n",
       "      <td>A04122570</td>\n",
       "      <td>1158</td>\n",
       "      <td>103</td>\n",
       "      <td>大阪府</td>\n",
       "    </tr>\n",
       "  </tbody>\n",
       "</table>\n",
       "</div>"
      ],
      "text/plain": [
       "     企業管理コード  資本金_千円  従業員数 所在地_都道府県名\n",
       "0  A01132330     913   378       広島県\n",
       "1  A03112202     970    88       福岡県\n",
       "2  A03124920     902   148       三重県\n",
       "3  A04113912    1127    72       福岡県\n",
       "4  A04116769    1037   114       東京都\n",
       "5  A04122570    1158   103       大阪府"
      ]
     },
     "execution_count": 3,
     "metadata": {},
     "output_type": "execute_result"
    }
   ],
   "source": [
    "# コード 3.2 DataFrameの生成（CSVファイルから）\n",
    "\n",
    "import pandas as pd\n",
    "import numpy as np\n",
    "import os\n",
    "from glob import glob\n",
    "\n",
    "#CSVファイルの読み込み\n",
    "df_0 = pd.read_csv('in/0_company_data.csv')\n",
    "\n",
    "#df_0はDataFrame\n",
    "print(type(df_0))  #<class 'pandas.core.frame.DataFrame'>\n",
    "\n",
    "#DataFrame変数(df_0)の中身表示（Jupyter環境）\n",
    "df_0"
   ]
  },
  {
   "cell_type": "code",
   "execution_count": 4,
   "metadata": {
    "ExecuteTime": {
     "end_time": "2020-09-30T09:27:10.807186Z",
     "start_time": "2020-09-30T09:27:10.778891Z"
    }
   },
   "outputs": [
    {
     "name": "stdout",
     "output_type": "stream",
     "text": [
      "<class 'numpy.ndarray'>\n",
      "[['A01132330' 913 378 '広島県']\n",
      " ['A03112202' 970 88 '福岡県']\n",
      " ['A03124920' 902 148 '三重県']\n",
      " ['A04113912' 1127 72 '福岡県']\n",
      " ['A04116769' 1037 114 '東京都']\n",
      " ['A04122570' 1158 103 '大阪府']]\n",
      "<class 'pandas.core.series.Series'>\n",
      "0    広島県\n",
      "1    福岡県\n",
      "2    三重県\n",
      "3    福岡県\n",
      "4    東京都\n",
      "5    大阪府\n",
      "Name: 所在地_都道府県名, dtype: object\n",
      "<class 'pandas.core.indexes.base.Index'>\n",
      "Index(['企業管理コード', '資本金_千円', '従業員数', '所在地_都道府県名'], dtype='object')\n",
      "['企業管理コード', '資本金_千円', '従業員数', '所在地_都道府県名']\n",
      "<class 'pandas.core.indexes.range.RangeIndex'>\n",
      "RangeIndex(start=0, stop=6, step=1)\n",
      "[0, 1, 2, 3, 4, 5]\n",
      "企業管理コード      object\n",
      "資本金_千円        int64\n",
      "従業員数          int64\n",
      "所在地_都道府県名    object\n",
      "dtype: object\n"
     ]
    }
   ],
   "source": [
    "# コード 3.3 DataFrameの3要素とデータ型\n",
    "\n",
    "#values\n",
    "print(type(df_0.values))  #<class 'numpy.ndarray'>\n",
    "print(df_0.values)\n",
    "#出力結果\n",
    "# [['A01132330' 913 378 '広島県']\n",
    "#  ['A03112202' 970 88 '福岡県']\n",
    "#  ['A03124920' 902 148 '三重県']\n",
    "#  ['A04113912' 1127 72 '福岡県']\n",
    "#  ['A04116769' 1037 114 '東京都']\n",
    "#  ['A04122570' 1158 103 '大阪府']]\n",
    "\n",
    "#列データはSeries型\n",
    "sr_0 = df_0['所在地_都道府県名']\n",
    "print(type(sr_0))  #<class 'numpy.ndarray'>\n",
    "print(sr_0)\n",
    "\n",
    "#columns\n",
    "print(type(df_0.columns))  # <class 'pandas.core.indexes.base.Index'>\n",
    "print(df_0.columns)\n",
    "# Index(['企業管理コード', '資本金_千円', '従業員数', '所在地_都道府県名'], dtype='object')\n",
    "print(df_0.columns.tolist())\n",
    "# ['企業管理コード', '資本金_千円', '従業員数', '所在地_都道府県名']\n",
    "\n",
    "#index\n",
    "print(type(df_0.index))  #<class 'pandas.core.indexes.range.RangeIndex'>\n",
    "print(df_0.index)  # RangeIndex(start=0, stop=6, step=1)\n",
    "print(df_0.index.tolist())  # [0, 1, 2, 3, 4, 5]\n",
    "\n",
    "#列のデータ型\n",
    "print(df_0.dtypes)\n",
    "# 企業管理コード      object\n",
    "# 資本金_千円        int64\n",
    "# 従業員数          int64\n",
    "# 所在地_都道府県名    object\n",
    "# dtype: object"
   ]
  },
  {
   "cell_type": "code",
   "execution_count": null,
   "metadata": {},
   "outputs": [],
   "source": []
  }
 ],
 "metadata": {
  "kernelspec": {
   "display_name": "Python 3",
   "language": "python",
   "name": "python3"
  },
  "language_info": {
   "codemirror_mode": {
    "name": "ipython",
    "version": 3
   },
   "file_extension": ".py",
   "mimetype": "text/x-python",
   "name": "python",
   "nbconvert_exporter": "python",
   "pygments_lexer": "ipython3",
   "version": "3.6.10"
  }
 },
 "nbformat": 4,
 "nbformat_minor": 4
}
