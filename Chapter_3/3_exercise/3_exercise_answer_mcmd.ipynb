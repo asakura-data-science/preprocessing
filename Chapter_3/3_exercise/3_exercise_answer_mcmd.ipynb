{
 "cells": [
  {
   "cell_type": "markdown",
   "metadata": {},
   "source": [
    "# データ前処理 3章 章末問題 【解答例】<br>\n",
    "\n",
    "### <font color=\"red\" weight=\"bold\">※本ノートブックではデータフレームをファイルとして読み替えること.<br>　また, データフレームの変数名dfx_xxxの内容はファイル名dfx_xxx.csvに出力されており, <br>　そのファイルのパス文字列が変数dfx_xxxに格納されている.</font>\n",
    "\n",
    "#### [1. サポートサイトにあるファイル「企業リスト1.csv」「企業リスト2.csv」「企業リスト3.csv」をそれぞれ読み込み，それらを縦に結合し，企業コード昇順で重複を除いたデータフレームdf4_ex1を作成しなさい。](#EXE3_1)<br><br>\n",
    "\n",
    "#### [2. df4_ex1に，ファイル「市区町村マスタ.csv」「業種マスタ.csv」を用いて，カラム「市区町村コード」「市区町村名」「日本標準産業分類中分類コード」「日本標準産業分類中分類」を付与したdf4_ex2を作成しなさい。](#EXE3_2)<br><br>\n",
    "\n",
    "#### [3. df4_ex2 を用いて，市区町村別の売上高の合計を求めたdf4_ex3_1と，日本標準産業分類中分類別の平均従業員数を求めたdf4_ex3_2を作成しなさい。](#EXE3_3)<br><br>\n",
    "\n",
    "#### [4. df4_ex2に，「日本標準産業分類中分類別の平均従業員数」より従業員数が多い企業は「01平均超」，従業員数が少ない企業に「02平均以下」という新たなカラム「従業員数区分」を追加したdf4_ex4を作成しなさい。](#EXE3_4)<br><br>\n",
    "#### [5. df4_ex4と正解ファイルである「3章章末問題正解ファイル.csv」を比較し，完全に一致するまでプログラムを修正しなさい。](#EXE3_5)<br><br>\n"
   ]
  },
  {
   "cell_type": "markdown",
   "metadata": {},
   "source": [
    "<br>\n",
    "\n",
    "*** \n",
    "<h3><font color='darkblue'>\n",
    "0. 事前準備<a name='EXE3_0'>\n",
    "</h3>\n",
    "\n",
    "*** \n",
    "\n",
    "読み込みデータと出力先の設定：当コードと同意フォルダに、「in」と「out」フォルダを作成し、「in」フォルダにcsvファイルを格納する\n"
   ]
  },
  {
   "cell_type": "code",
   "execution_count": 1,
   "metadata": {
    "ExecuteTime": {
     "end_time": "2021-05-18T09:02:57.785490Z",
     "start_time": "2021-05-18T09:02:57.517714Z"
    }
   },
   "outputs": [],
   "source": [
    "#必要なライブラリの読み込み\n",
    "import os\n",
    "from glob import glob\n",
    "import nysol.mcmd as nm\n",
    "\n",
    "os.makedirs('out_m',exist_ok=True)"
   ]
  },
  {
   "cell_type": "markdown",
   "metadata": {},
   "source": [
    "<br>\n",
    "\n",
    "*** \n",
    "<h3><font color='darkblue'>\n",
    "1. 「企業リスト1.csv」「企業リスト2.csv」「企業リスト3.csv」をそれぞれ読み込み，それらを縦に結合し，企業コード昇順で重複を除いたデータフレームdf4_ex1を作成しなさい。<a name='EXE3_1'>\n",
    "</h3>"
   ]
  },
  {
   "cell_type": "code",
   "execution_count": 2,
   "metadata": {
    "ExecuteTime": {
     "end_time": "2021-05-18T09:02:58.400552Z",
     "start_time": "2021-05-18T09:02:57.792020Z"
    }
   },
   "outputs": [
    {
     "name": "stderr",
     "output_type": "stream",
     "text": [
      "#END# kgcat i=./out_m/企業リスト*.csv; IN=3015 OUT=3015; 2021/05/18 18:02:58; 2021/05/18 18:02:58\n",
      "#END# kgdelnull f=*; IN=3015 OUT=3015; 2021/05/18 18:02:58; 2021/05/18 18:02:58\n",
      "#END# kguniq k=企業コード; IN=3015 OUT=2334; 2021/05/18 18:02:58; 2021/05/18 18:02:58\n",
      "#END# kgsortf f=企業コード o=./out_m/df4_ex1.csv; IN=2334 OUT=2334; 2021/05/18 18:02:58; 2021/05/18 18:02:58\n"
     ]
    },
    {
     "data": {
      "text/plain": [
       "'./out_m/df4_ex1.csv'"
      ]
     },
     "metadata": {},
     "output_type": "display_data"
    },
    {
     "data": {
      "text/html": [
       "<style scoped>\n",
       ".dataframe tbody tr th:only-of-type {\n",
       "vertical-align: middle;\n",
       "}\n",
       ".dataframe tbody tr th {\n",
       "vertical-align: top;\n",
       "}\n",
       ".dataframe thead th {\n",
       "text-align: right;\n",
       "}\n",
       "</style>\n",
       "<div>\n",
       "<table class='dataframe'>\n",
       "<thead>\n",
       "<tr>\n",
       "<th></th>\n",
       "<th>企業コード</th>\n",
       "<th>住所コード</th>\n",
       "<th>ＴＤＢ産業分類コード</th>\n",
       "<th>資本金(千円)</th>\n",
       "<th>従業員数</th>\n",
       "<th>最新期業績売上高(百万円)</th>\n",
       "</tr>\n",
       "</thead>\n",
       "<tbody>\n",
       "<tr>\n",
       "<th>0</th>\n",
       "<td>025314331</td>\n",
       "<td>1020213400</td>\n",
       "<td>39909</td>\n",
       "<td>100000</td>\n",
       "<td>12</td>\n",
       "<td>30</td>\n",
       "</tr>\n",
       "<tr>\n",
       "<th>1</th>\n",
       "<td>025322378</td>\n",
       "<td>1020105600</td>\n",
       "<td>35971</td>\n",
       "<td>5000</td>\n",
       "<td>8</td>\n",
       "<td>75</td>\n",
       "</tr>\n",
       "<tr>\n",
       "<th>2</th>\n",
       "<td>030018642</td>\n",
       "<td>1020204300</td>\n",
       "<td>34421</td>\n",
       "<td>20000</td>\n",
       "<td>22</td>\n",
       "<td>45</td>\n",
       "</tr>\n",
       "<tr>\n",
       "<th>3</th>\n",
       "<td>030019112</td>\n",
       "<td>1020215300</td>\n",
       "<td>35431</td>\n",
       "<td>3000</td>\n",
       "<td>5</td>\n",
       "<td>100</td>\n",
       "</tr>\n",
       "<tr>\n",
       "<th>4</th>\n",
       "<td>030019209</td>\n",
       "<td>1021003400</td>\n",
       "<td>27502</td>\n",
       "<td>0</td>\n",
       "<td>0</td>\n",
       "<td>16</td>\n",
       "</tr>\n",
       "<tr>\n",
       "<th>...</th>\n",
       "<td>...</td>\n",
       "<td>...</td>\n",
       "<td>...</td>\n",
       "<td>...</td>\n",
       "<td>...</td>\n",
       "<td>...</td>\n",
       "</tr>\n",
       "<tr>\n",
       "<th>2333</th>\n",
       "<td>989314585</td>\n",
       "<td>1021003400</td>\n",
       "<td>36133</td>\n",
       "<td>3000</td>\n",
       "<td>6</td>\n",
       "<td>92</td>\n",
       "</tr>\n",
       "</tbody>\n",
       "</table>\n",
       "</div>"
      ],
      "text/plain": [
       "<Nysol_Readcsv at 0x10f29a040>"
      ]
     },
     "metadata": {},
     "output_type": "display_data"
    }
   ],
   "source": [
    "#入力ファイルの変換（文字コード、CSVフォーマット）\n",
    "for _file in glob('./in/企業リスト*.csv' ):\n",
    "    #shift_jisのファイルをutf-8に変換\n",
    "    _out_file = _file.replace('in', 'out_m')\n",
    "    _work_file = _out_file.replace('.csv', '.txt')\n",
    "    !nkf -wLu {_file} > {_work_file}\n",
    "    #1行目の空白行を削除\n",
    "    with open(_work_file, mode='r') as _f_r:\n",
    "        with open(_out_file, mode='w') as _f_w:\n",
    "            cnt=0\n",
    "            for line in _f_r.readlines():\n",
    "                if cnt>0:\n",
    "                    _f_w.write(line)\n",
    "                cnt += 1\n",
    "\n",
    "file4_ex1='./out_m/df4_ex1.csv'\n",
    "f=None\n",
    "f<<=nm.mcat(i='./out_m/企業リスト*.csv')  #縦結合\n",
    "f<<=nm.mdelnull(f='*')  #空行の削除\n",
    "f<<=nm.muniq(k='企業コード')  #重複行の単一化\n",
    "f<<=nm.msortf(f='企業コード', o=file4_ex1)  #並び替え\n",
    "f.run(msg=\"on\")\n",
    "\n",
    "display(file4_ex1, nm.p(file4_ex1, head=5, tail=1))"
   ]
  },
  {
   "cell_type": "markdown",
   "metadata": {},
   "source": [
    "<br>\n",
    "\n",
    "*** \n",
    "<h3><font color='darkblue'>\n",
    "2. df4_ex1に，ファイル「市区町村マスタ.csv」「業種マスタ.csv」を用いて，カラム「市区町村コード」「市区町村名」「日本標準産業分類中分類コード」「日本標準産業分類中分類」を付与したdf4_ex2を作成しなさい。<a name='EXE3_2'>\n",
    "</h3>\n",
    "\n",
    "*** \n",
    "\n",
    "* 市区町村マスタとの結合キーは「住所コード」，業種マスタとの結合キーは「TDB産業分類コード」とする。<br><br>\n",
    "* 日本標準産業分類の中分類コードは，日本標準産業分類の小分類コードの上2桁が該当するものとする。<br><br>"
   ]
  },
  {
   "cell_type": "code",
   "execution_count": 3,
   "metadata": {
    "ExecuteTime": {
     "end_time": "2021-05-18T09:02:58.730048Z",
     "start_time": "2021-05-18T09:02:58.404395Z"
    }
   },
   "outputs": [
    {
     "data": {
      "text/plain": [
       "'./out_m/業種マスタ.csv'"
      ]
     },
     "metadata": {},
     "output_type": "display_data"
    },
    {
     "data": {
      "text/html": [
       "<style scoped>\n",
       ".dataframe tbody tr th:only-of-type {\n",
       "vertical-align: middle;\n",
       "}\n",
       ".dataframe tbody tr th {\n",
       "vertical-align: top;\n",
       "}\n",
       ".dataframe thead th {\n",
       "text-align: right;\n",
       "}\n",
       "</style>\n",
       "<div>\n",
       "<table class='dataframe'>\n",
       "<thead>\n",
       "<tr>\n",
       "<th></th>\n",
       "<th>ＴＤＢ産業分類コード</th>\n",
       "<th>日本標準産業分類_中分類名</th>\n",
       "<th>日本標準産業分類_小分類コード</th>\n",
       "<th>日本標準産業分類_小分類名</th>\n",
       "</tr>\n",
       "</thead>\n",
       "<tbody>\n",
       "<tr>\n",
       "<th>0</th>\n",
       "<td>20111</td>\n",
       "<td>食料品製造業</td>\n",
       "<td>091</td>\n",
       "<td>畜産食料品製造業</td>\n",
       "</tr>\n",
       "<tr>\n",
       "<th>1</th>\n",
       "<td>20121</td>\n",
       "<td>食料品製造業</td>\n",
       "<td>091</td>\n",
       "<td>畜産食料品製造業</td>\n",
       "</tr>\n",
       "<tr>\n",
       "<th>2</th>\n",
       "<td>20199</td>\n",
       "<td>食料品製造業</td>\n",
       "<td>091</td>\n",
       "<td>畜産食料品製造業</td>\n",
       "</tr>\n",
       "<tr>\n",
       "<th>3</th>\n",
       "<td>20202</td>\n",
       "<td>食料品製造業</td>\n",
       "<td>092</td>\n",
       "<td>水産食料品製造業</td>\n",
       "</tr>\n",
       "<tr>\n",
       "<th>4</th>\n",
       "<td>20209</td>\n",
       "<td>食料品製造業</td>\n",
       "<td>092</td>\n",
       "<td>水産食料品製造業</td>\n",
       "</tr>\n",
       "<tr>\n",
       "<th>...</th>\n",
       "<td>...</td>\n",
       "<td>...</td>\n",
       "<td>...</td>\n",
       "<td>...</td>\n",
       "</tr>\n",
       "<tr>\n",
       "<th>311</th>\n",
       "<td>39909</td>\n",
       "<td>その他の製造業</td>\n",
       "<td>329</td>\n",
       "<td>他に分類されない製造業</td>\n",
       "</tr>\n",
       "</tbody>\n",
       "</table>\n",
       "</div>"
      ],
      "text/plain": [
       "<Nysol_Readcsv at 0x10de48640>"
      ]
     },
     "metadata": {},
     "output_type": "display_data"
    },
    {
     "data": {
      "text/plain": [
       "'./out_m/市区町村マスタ.csv'"
      ]
     },
     "metadata": {},
     "output_type": "display_data"
    },
    {
     "data": {
      "text/html": [
       "<style scoped>\n",
       ".dataframe tbody tr th:only-of-type {\n",
       "vertical-align: middle;\n",
       "}\n",
       ".dataframe tbody tr th {\n",
       "vertical-align: top;\n",
       "}\n",
       ".dataframe thead th {\n",
       "text-align: right;\n",
       "}\n",
       "</style>\n",
       "<div>\n",
       "<table class='dataframe'>\n",
       "<thead>\n",
       "<tr>\n",
       "<th></th>\n",
       "<th>住所コード</th>\n",
       "<th>市区町村コード</th>\n",
       "<th>市区町村名</th>\n",
       "</tr>\n",
       "</thead>\n",
       "<tbody>\n",
       "<tr>\n",
       "<th>0</th>\n",
       "<td>1020100100</td>\n",
       "<td>10201</td>\n",
       "<td>前橋市</td>\n",
       "</tr>\n",
       "<tr>\n",
       "<th>1</th>\n",
       "<td>1020100300</td>\n",
       "<td>10201</td>\n",
       "<td>前橋市</td>\n",
       "</tr>\n",
       "<tr>\n",
       "<th>2</th>\n",
       "<td>1020100302</td>\n",
       "<td>10201</td>\n",
       "<td>前橋市</td>\n",
       "</tr>\n",
       "<tr>\n",
       "<th>3</th>\n",
       "<td>1020100600</td>\n",
       "<td>10201</td>\n",
       "<td>前橋市</td>\n",
       "</tr>\n",
       "<tr>\n",
       "<th>4</th>\n",
       "<td>1020100601</td>\n",
       "<td>10201</td>\n",
       "<td>前橋市</td>\n",
       "</tr>\n",
       "<tr>\n",
       "<th>...</th>\n",
       "<td>...</td>\n",
       "<td>...</td>\n",
       "<td>...</td>\n",
       "</tr>\n",
       "<tr>\n",
       "<th>843</th>\n",
       "<td>1052000517</td>\n",
       "<td>10522</td>\n",
       "<td>明和町</td>\n",
       "</tr>\n",
       "</tbody>\n",
       "</table>\n",
       "</div>"
      ],
      "text/plain": [
       "<Nysol_Readcsv at 0x10de48f10>"
      ]
     },
     "metadata": {},
     "output_type": "display_data"
    }
   ],
   "source": [
    "#マスタファイルの変換（文字コード）\n",
    "for _file in glob('./in/*マスタ.csv' ):\n",
    "    #shift_jisのファイルをutf-8に変換\n",
    "    _out_file = _file.replace('in', 'out_m')\n",
    "    !nkf -wLu {_file} > {_out_file}\n",
    "\n",
    "#マスタファイル確認\n",
    "file_gyo_mst = './out_m/業種マスタ.csv'\n",
    "file_j5_mst = './out_m/市区町村マスタ.csv'\n",
    "display(file_gyo_mst, nm.p(file_gyo_mst, head=5, tail=1))\n",
    "display(file_j5_mst, nm.p(file_j5_mst, head=5, tail=1))"
   ]
  },
  {
   "cell_type": "code",
   "execution_count": 4,
   "metadata": {
    "ExecuteTime": {
     "end_time": "2021-05-18T09:02:58.969518Z",
     "start_time": "2021-05-18T09:02:58.735117Z"
    }
   },
   "outputs": [
    {
     "name": "stderr",
     "output_type": "stream",
     "text": [
      "#END# kgjoin -n f=日本標準産業分類_中分類名,日本標準産業分類_小分類コード i=./out_m/df4_ex1.csv k=ＴＤＢ産業分類コード m=./out_m/業種マスタ.csv; IN=2334 OUT=2334; 2021/05/18 18:02:58; 2021/05/18 18:02:58\n",
      "#END# kgcal a=日本標準産業分類_中分類コード c=left($s{日本標準産業分類_小分類コード},2); IN=2334 OUT=2334; 2021/05/18 18:02:58; 2021/05/18 18:02:58\n",
      "#END# kgcut -r f=日本標準産業分類_小分類コード; IN=2334 OUT=2334; 2021/05/18 18:02:58; 2021/05/18 18:02:58\n",
      "#END# kgjoin -n k=住所コード m=./out_m/市区町村マスタ.csv; IN=2334 OUT=2334; 2021/05/18 18:02:58; 2021/05/18 18:02:58\n",
      "#END# kgsortf f=企業コード o=./out_m/df4_ex2.csv; IN=2334 OUT=2334; 2021/05/18 18:02:58; 2021/05/18 18:02:58\n"
     ]
    },
    {
     "data": {
      "text/plain": [
       "'./out_m/df4_ex2.csv'"
      ]
     },
     "metadata": {},
     "output_type": "display_data"
    },
    {
     "data": {
      "text/html": [
       "<style scoped>\n",
       ".dataframe tbody tr th:only-of-type {\n",
       "vertical-align: middle;\n",
       "}\n",
       ".dataframe tbody tr th {\n",
       "vertical-align: top;\n",
       "}\n",
       ".dataframe thead th {\n",
       "text-align: right;\n",
       "}\n",
       "</style>\n",
       "<div>\n",
       "<table class='dataframe'>\n",
       "<thead>\n",
       "<tr>\n",
       "<th></th>\n",
       "<th>企業コード</th>\n",
       "<th>住所コード</th>\n",
       "<th>ＴＤＢ産業分類コード</th>\n",
       "<th>資本金(千円)</th>\n",
       "<th>従業員数</th>\n",
       "<th>最新期業績売上高(百万円)</th>\n",
       "<th>日本標準産業分類_中分類名</th>\n",
       "<th>日本標準産業分類_中分類コード</th>\n",
       "<th>市区町村コード</th>\n",
       "<th>市区町村名</th>\n",
       "</tr>\n",
       "</thead>\n",
       "<tbody>\n",
       "<tr>\n",
       "<th>0</th>\n",
       "<td>025314331</td>\n",
       "<td>1020213400</td>\n",
       "<td>39909</td>\n",
       "<td>100000</td>\n",
       "<td>12</td>\n",
       "<td>30</td>\n",
       "<td>その他の製造業</td>\n",
       "<td>32</td>\n",
       "<td>10202</td>\n",
       "<td>高崎市</td>\n",
       "</tr>\n",
       "<tr>\n",
       "<th>1</th>\n",
       "<td>025322378</td>\n",
       "<td>1020105600</td>\n",
       "<td>35971</td>\n",
       "<td>5000</td>\n",
       "<td>8</td>\n",
       "<td>75</td>\n",
       "<td>はん用機械器具製造業</td>\n",
       "<td>25</td>\n",
       "<td>10201</td>\n",
       "<td>前橋市</td>\n",
       "</tr>\n",
       "<tr>\n",
       "<th>2</th>\n",
       "<td>030018642</td>\n",
       "<td>1020204300</td>\n",
       "<td>34421</td>\n",
       "<td>20000</td>\n",
       "<td>22</td>\n",
       "<td>45</td>\n",
       "<td>金属製品製造業</td>\n",
       "<td>24</td>\n",
       "<td>10202</td>\n",
       "<td>高崎市</td>\n",
       "</tr>\n",
       "<tr>\n",
       "<th>3</th>\n",
       "<td>030019112</td>\n",
       "<td>1020215300</td>\n",
       "<td>35431</td>\n",
       "<td>3000</td>\n",
       "<td>5</td>\n",
       "<td>100</td>\n",
       "<td>生産用機械器具製造業</td>\n",
       "<td>26</td>\n",
       "<td>10202</td>\n",
       "<td>高崎市</td>\n",
       "</tr>\n",
       "<tr>\n",
       "<th>4</th>\n",
       "<td>030019209</td>\n",
       "<td>1021003400</td>\n",
       "<td>27502</td>\n",
       "<td>0</td>\n",
       "<td>0</td>\n",
       "<td>16</td>\n",
       "<td>印刷・同関連業</td>\n",
       "<td>15</td>\n",
       "<td>10210</td>\n",
       "<td>富岡市</td>\n",
       "</tr>\n",
       "<tr>\n",
       "<th>...</th>\n",
       "<td>...</td>\n",
       "<td>...</td>\n",
       "<td>...</td>\n",
       "<td>...</td>\n",
       "<td>...</td>\n",
       "<td>...</td>\n",
       "<td>...</td>\n",
       "<td>...</td>\n",
       "<td>...</td>\n",
       "<td>...</td>\n",
       "</tr>\n",
       "<tr>\n",
       "<th>2333</th>\n",
       "<td>989314585</td>\n",
       "<td>1021003400</td>\n",
       "<td>36133</td>\n",
       "<td>3000</td>\n",
       "<td>6</td>\n",
       "<td>92</td>\n",
       "<td>電気機械器具製造業</td>\n",
       "<td>29</td>\n",
       "<td>10210</td>\n",
       "<td>富岡市</td>\n",
       "</tr>\n",
       "</tbody>\n",
       "</table>\n",
       "</div>"
      ],
      "text/plain": [
       "<Nysol_Readcsv at 0x10f29a130>"
      ]
     },
     "metadata": {},
     "output_type": "display_data"
    }
   ],
   "source": [
    "file4_ex2='./out_m/df4_ex2.csv'\n",
    "\n",
    "f=None\n",
    "# 横結合1：業種マスタ\n",
    "f<<=nm.mjoin(i=file4_ex1, m=file_gyo_mst, k='ＴＤＢ産業分類コード', f='日本標準産業分類_中分類名,日本標準産業分類_小分類コード', n=True)\n",
    "# 日本標準産業分類_中分類コード加工\n",
    "f<<=nm.mcal(c='left($s{日本標準産業分類_小分類コード},2)', a='日本標準産業分類_中分類コード')\n",
    "f<<=nm.mcut(r=True, f='日本標準産業分類_小分類コード')\n",
    "# 横結合2：市区町村マスタ\n",
    "f<<=nm.mjoin(m=file_j5_mst, k='住所コード', n=True)\n",
    "f<<=nm.msortf(f='企業コード', o=file4_ex2)\n",
    "f.run(msg=\"on\")\n",
    "\n",
    "display(file4_ex2, nm.p(file4_ex2, head=5, tail=1))"
   ]
  },
  {
   "cell_type": "markdown",
   "metadata": {},
   "source": [
    "<br>\n",
    "\n",
    "*** \n",
    "<h3><font color='darkblue'>\n",
    "3. df4_ex2 を用いて，市区町村別の売上高の合計を求めたdf4_ex3_1と，日本標準産業分類中分類別の平均従業員数を求めたdf4_ex3_2を作成しなさい。<a name='EXE3_3'>\n",
    "</h3>\n",
    "\n",
    "*** \n",
    "\n",
    "[注意点]\n",
    "* df4_ex3_1の作成条件<br><br>\n",
    "    * 売上高が0あるいはnullのレコードは除く<br><br>\n",
    "    * 項目：市区町村コード，市区町村名，対象企業数，売上高合計<br><br>"
   ]
  },
  {
   "cell_type": "code",
   "execution_count": 5,
   "metadata": {
    "ExecuteTime": {
     "end_time": "2021-05-18T09:02:59.090590Z",
     "start_time": "2021-05-18T09:02:58.981545Z"
    }
   },
   "outputs": [
    {
     "name": "stderr",
     "output_type": "stream",
     "text": [
      "#END# kgsetstr a=cnt i=./out_m/df4_ex2.csv v=1; IN=2334 OUT=2334; 2021/05/18 18:02:59; 2021/05/18 18:02:59\n",
      "#END# kgnullto f=最新期業績売上高(百万円) v=0; IN=2334 OUT=2334; 2021/05/18 18:02:59; 2021/05/18 18:02:59\n",
      "#END# kgsel c=${最新期業績売上高(百万円)}>0; IN=2334 OUT=2330; 2021/05/18 18:02:59; 2021/05/18 18:02:59\n",
      "#END# kgsum f=cnt:対象企業数,最新期業績売上高(百万円):売上高合計 k=市区町村コード; IN=2330 OUT=32; 2021/05/18 18:02:59; 2021/05/18 18:02:59\n",
      "#END# kgcut f=市区町村コード,市区町村名,対象企業数,売上高合計; IN=32 OUT=32; 2021/05/18 18:02:59; 2021/05/18 18:02:59\n",
      "#END# kgsortf f=市区町村コード o=./out_m/df4_ex3_1.csv; IN=32 OUT=32; 2021/05/18 18:02:59; 2021/05/18 18:02:59\n"
     ]
    },
    {
     "data": {
      "text/plain": [
       "'./out_m/df4_ex3_1.csv'"
      ]
     },
     "metadata": {},
     "output_type": "display_data"
    },
    {
     "data": {
      "text/html": [
       "<style scoped>\n",
       ".dataframe tbody tr th:only-of-type {\n",
       "vertical-align: middle;\n",
       "}\n",
       ".dataframe tbody tr th {\n",
       "vertical-align: top;\n",
       "}\n",
       ".dataframe thead th {\n",
       "text-align: right;\n",
       "}\n",
       "</style>\n",
       "<div>\n",
       "<table class='dataframe'>\n",
       "<thead>\n",
       "<tr>\n",
       "<th></th>\n",
       "<th>市区町村コード</th>\n",
       "<th>市区町村名</th>\n",
       "<th>対象企業数</th>\n",
       "<th>売上高合計</th>\n",
       "</tr>\n",
       "</thead>\n",
       "<tbody>\n",
       "<tr>\n",
       "<th>0</th>\n",
       "<td>10201</td>\n",
       "<td>前橋市</td>\n",
       "<td>284</td>\n",
       "<td>104666</td>\n",
       "</tr>\n",
       "<tr>\n",
       "<th>1</th>\n",
       "<td>10202</td>\n",
       "<td>高崎市</td>\n",
       "<td>352</td>\n",
       "<td>254787</td>\n",
       "</tr>\n",
       "<tr>\n",
       "<th>2</th>\n",
       "<td>10203</td>\n",
       "<td>桐生市</td>\n",
       "<td>190</td>\n",
       "<td>229838</td>\n",
       "</tr>\n",
       "<tr>\n",
       "<th>3</th>\n",
       "<td>10204</td>\n",
       "<td>伊勢崎市</td>\n",
       "<td>291</td>\n",
       "<td>324501</td>\n",
       "</tr>\n",
       "<tr>\n",
       "<th>4</th>\n",
       "<td>10205</td>\n",
       "<td>太田市</td>\n",
       "<td>388</td>\n",
       "<td>143684</td>\n",
       "</tr>\n",
       "<tr>\n",
       "<th>...</th>\n",
       "<td>...</td>\n",
       "<td>...</td>\n",
       "<td>...</td>\n",
       "<td>...</td>\n",
       "</tr>\n",
       "<tr>\n",
       "<th>31</th>\n",
       "<td>10525</td>\n",
       "<td>邑楽町</td>\n",
       "<td>49</td>\n",
       "<td>63651</td>\n",
       "</tr>\n",
       "</tbody>\n",
       "</table>\n",
       "</div>"
      ],
      "text/plain": [
       "<Nysol_Readcsv at 0x10f2b9a90>"
      ]
     },
     "metadata": {},
     "output_type": "display_data"
    }
   ],
   "source": [
    "# 市区町村別の売上高の合計\n",
    "file4_ex3_1='./out_m/df4_ex3_1.csv'\n",
    "\n",
    "f=None\n",
    "f<<=nm.msetstr(i=file4_ex2, a='cnt', v='1')\n",
    "f<<=nm.mnullto(f='最新期業績売上高(百万円)', v='0')\n",
    "f<<=nm.msel(c='${最新期業績売上高(百万円)}>0')\n",
    "f<<=nm.msum(k='市区町村コード', f='cnt:対象企業数,最新期業績売上高(百万円):売上高合計')\n",
    "f<<=nm.mcut(f='市区町村コード,市区町村名,対象企業数,売上高合計')\n",
    "f<<=nm.msortf(f='市区町村コード', o=file4_ex3_1)\n",
    "f.run(msg=\"on\")\n",
    "display(file4_ex3_1, nm.p(file4_ex3_1, head=5, tail=1))"
   ]
  },
  {
   "cell_type": "markdown",
   "metadata": {},
   "source": [
    "[注意点]\n",
    "* df4_ex3_2の作成条件<br><br>\n",
    "    * 従業員数が 0 あるいは null のレコードは除く<br><br>\n",
    "    * 項目：日本標準産業分類中分類コード(日本標準産業分類上位2桁)，日本標準産業分類中分類名，対象企業数，平均従業員数<br><br>\n",
    "    * 業種別平均従業員数は小数点第4位を四捨五入<br><br>"
   ]
  },
  {
   "cell_type": "code",
   "execution_count": 6,
   "metadata": {
    "ExecuteTime": {
     "end_time": "2021-05-18T09:02:59.226385Z",
     "start_time": "2021-05-18T09:02:59.097417Z"
    }
   },
   "outputs": [
    {
     "name": "stderr",
     "output_type": "stream",
     "text": [
      "#END# kgsetstr a=cnt i=./out_m/df4_ex2.csv v=1; IN=2334 OUT=2334; 2021/05/18 18:02:59; 2021/05/18 18:02:59\n",
      "#END# kgnullto f=従業員数 v=0; IN=2334 OUT=2334; 2021/05/18 18:02:59; 2021/05/18 18:02:59\n",
      "#END# kgsel c=${従業員数}>0; IN=2334 OUT=2072; 2021/05/18 18:02:59; 2021/05/18 18:02:59\n",
      "#END# kgsortf f=日本標準産業分類中分類コード o=./out_m/df4_ex3_2.csv; IN=25 OUT=25; 2021/05/18 18:02:59; 2021/05/18 18:02:59\n",
      "#END# kgcut f=日本標準産業分類_中分類コード:日本標準産業分類中分類コード,日本標準産業分類_中分類名:日本標準産業分類中分類名,対象企業数,平均従業員数; IN=25 OUT=25; 2021/05/18 18:02:59; 2021/05/18 18:02:59\n",
      "#END# kgcal a=平均従業員数 c=round(${従業員数合計}/${対象企業数},0.001); IN=25 OUT=25; 2021/05/18 18:02:59; 2021/05/18 18:02:59\n",
      "#END# kgsum f=cnt:対象企業数,従業員数:従業員数合計 k=日本標準産業分類_中分類コード; IN=2072 OUT=25; 2021/05/18 18:02:59; 2021/05/18 18:02:59\n"
     ]
    },
    {
     "data": {
      "text/plain": [
       "'./out_m/df4_ex3_2.csv'"
      ]
     },
     "metadata": {},
     "output_type": "display_data"
    },
    {
     "data": {
      "text/html": [
       "<style scoped>\n",
       ".dataframe tbody tr th:only-of-type {\n",
       "vertical-align: middle;\n",
       "}\n",
       ".dataframe tbody tr th {\n",
       "vertical-align: top;\n",
       "}\n",
       ".dataframe thead th {\n",
       "text-align: right;\n",
       "}\n",
       "</style>\n",
       "<div>\n",
       "<table class='dataframe'>\n",
       "<thead>\n",
       "<tr>\n",
       "<th></th>\n",
       "<th>日本標準産業分類中分類コード</th>\n",
       "<th>日本標準産業分類中分類名</th>\n",
       "<th>対象企業数</th>\n",
       "<th>平均従業員数</th>\n",
       "</tr>\n",
       "</thead>\n",
       "<tbody>\n",
       "<tr>\n",
       "<th>0</th>\n",
       "<td>09</td>\n",
       "<td>食料品製造業</td>\n",
       "<td>180</td>\n",
       "<td>18.75</td>\n",
       "</tr>\n",
       "<tr>\n",
       "<th>1</th>\n",
       "<td>10</td>\n",
       "<td>飲料・たばこ・飼料製造業</td>\n",
       "<td>28</td>\n",
       "<td>14.75</td>\n",
       "</tr>\n",
       "<tr>\n",
       "<th>2</th>\n",
       "<td>11</td>\n",
       "<td>繊維工業</td>\n",
       "<td>143</td>\n",
       "<td>16.336</td>\n",
       "</tr>\n",
       "<tr>\n",
       "<th>3</th>\n",
       "<td>12</td>\n",
       "<td>木材・木製品製造業（家具を除く）</td>\n",
       "<td>49</td>\n",
       "<td>14.224</td>\n",
       "</tr>\n",
       "<tr>\n",
       "<th>4</th>\n",
       "<td>13</td>\n",
       "<td>家具・装備品製造業</td>\n",
       "<td>58</td>\n",
       "<td>25.31</td>\n",
       "</tr>\n",
       "<tr>\n",
       "<th>...</th>\n",
       "<td>...</td>\n",
       "<td>...</td>\n",
       "<td>...</td>\n",
       "<td>...</td>\n",
       "</tr>\n",
       "<tr>\n",
       "<th>24</th>\n",
       "<td>41</td>\n",
       "<td>映像・音声・文字情報制作業</td>\n",
       "<td>8</td>\n",
       "<td>9.5</td>\n",
       "</tr>\n",
       "</tbody>\n",
       "</table>\n",
       "</div>"
      ],
      "text/plain": [
       "<Nysol_Readcsv at 0x10f284bb0>"
      ]
     },
     "metadata": {},
     "output_type": "display_data"
    }
   ],
   "source": [
    "# 日本標準産業分類中分類別の平均従業員数\n",
    "file4_ex3_2='./out_m/df4_ex3_2.csv'\n",
    "\n",
    "f=None\n",
    "f<<=nm.msetstr(i=file4_ex2, a='cnt', v='1')\n",
    "f<<=nm.mnullto(f='従業員数', v='0')\n",
    "f<<=nm.msel(c='${従業員数}>0')\n",
    "f<<=nm.msum(k='日本標準産業分類_中分類コード', f='cnt:対象企業数,従業員数:従業員数合計')\n",
    "f<<=nm.mcal(c='round(${従業員数合計}/${対象企業数},0.001)', a='平均従業員数')\n",
    "f<<=nm.mcut(f='日本標準産業分類_中分類コード:日本標準産業分類中分類コード,日本標準産業分類_中分類名:日本標準産業分類中分類名,対象企業数,平均従業員数')\n",
    "f<<=nm.msortf(f='日本標準産業分類中分類コード', o=file4_ex3_2)\n",
    "f.run(msg=\"on\")\n",
    "display(file4_ex3_2, nm.p(file4_ex3_2, head=5, tail=1))"
   ]
  },
  {
   "cell_type": "markdown",
   "metadata": {},
   "source": [
    "<br>\n",
    "\n",
    "*** \n",
    "<h3><font color='darkblue'>\n",
    "4. df4_ex2に，「日本標準産業分類中分類別の平均従業員数」より従業員数が多い企業は「01平均超」，従業員数が少ない企業に「02平均以下」という新たなカラム「従業員数区分」を追加したdf4_ex4を作成しなさい。<a name='EXE3_4'>\n",
    "</h3>\n",
    "\n",
    "*** \n",
    "\n",
    "* df4_ex4の作成条件<br><br>\n",
    "    * 項目：企業コード，従業員数，日本標準産業分類中分類名，従業員数区分<br><br>\n",
    "    * ソート順：企業コード"
   ]
  },
  {
   "cell_type": "code",
   "execution_count": 7,
   "metadata": {
    "ExecuteTime": {
     "end_time": "2021-05-18T09:02:59.442575Z",
     "start_time": "2021-05-18T09:02:59.230488Z"
    }
   },
   "outputs": [
    {
     "name": "stderr",
     "output_type": "stream",
     "text": [
      "#END# kgjoin K=日本標準産業分類中分類コード f=平均従業員数 i=./out_m/df4_ex2.csv k=日本標準産業分類_中分類コード m=./out_m/df4_ex3_2.csv; IN=2334 OUT=2334; 2021/05/18 18:02:59; 2021/05/18 18:02:59\n",
      "#END# kgcal a=従業員数区分 c=if(${従業員数}>${平均従業員数}, \"01平均超\", \"02平均以下\"); IN=2334 OUT=2334; 2021/05/18 18:02:59; 2021/05/18 18:02:59\n",
      "#END# kgcut f=企業コード,従業員数,日本標準産業分類_中分類名:日本標準産業分類中分類名,従業員数区分; IN=2334 OUT=2334; 2021/05/18 18:02:59; 2021/05/18 18:02:59\n",
      "#END# kgsortf f=企業コード; IN=2334 OUT=2334; 2021/05/18 18:02:59; 2021/05/18 18:02:59\n",
      "#END# kgfldname -q o=./out_m/df4_ex4.csv; IN=2334 OUT=2334; 2021/05/18 18:02:59; 2021/05/18 18:02:59\n"
     ]
    },
    {
     "data": {
      "text/plain": [
       "'./out_m/df4_ex4.csv'"
      ]
     },
     "metadata": {},
     "output_type": "display_data"
    },
    {
     "data": {
      "text/html": [
       "<style scoped>\n",
       ".dataframe tbody tr th:only-of-type {\n",
       "vertical-align: middle;\n",
       "}\n",
       ".dataframe tbody tr th {\n",
       "vertical-align: top;\n",
       "}\n",
       ".dataframe thead th {\n",
       "text-align: right;\n",
       "}\n",
       "</style>\n",
       "<div>\n",
       "<table class='dataframe'>\n",
       "<thead>\n",
       "<tr>\n",
       "<th></th>\n",
       "<th>企業コード</th>\n",
       "<th>従業員数</th>\n",
       "<th>日本標準産業分類中分類名</th>\n",
       "<th>従業員数区分</th>\n",
       "</tr>\n",
       "</thead>\n",
       "<tbody>\n",
       "<tr>\n",
       "<th>0</th>\n",
       "<td>025314331</td>\n",
       "<td>12</td>\n",
       "<td>その他の製造業</td>\n",
       "<td>02平均以下</td>\n",
       "</tr>\n",
       "<tr>\n",
       "<th>1</th>\n",
       "<td>025322378</td>\n",
       "<td>8</td>\n",
       "<td>はん用機械器具製造業</td>\n",
       "<td>02平均以下</td>\n",
       "</tr>\n",
       "<tr>\n",
       "<th>2</th>\n",
       "<td>030018642</td>\n",
       "<td>22</td>\n",
       "<td>金属製品製造業</td>\n",
       "<td>01平均超</td>\n",
       "</tr>\n",
       "<tr>\n",
       "<th>3</th>\n",
       "<td>030019112</td>\n",
       "<td>5</td>\n",
       "<td>生産用機械器具製造業</td>\n",
       "<td>02平均以下</td>\n",
       "</tr>\n",
       "<tr>\n",
       "<th>4</th>\n",
       "<td>030019209</td>\n",
       "<td>0</td>\n",
       "<td>印刷・同関連業</td>\n",
       "<td>02平均以下</td>\n",
       "</tr>\n",
       "<tr>\n",
       "<th>...</th>\n",
       "<td>...</td>\n",
       "<td>...</td>\n",
       "<td>...</td>\n",
       "<td>...</td>\n",
       "</tr>\n",
       "<tr>\n",
       "<th>2333</th>\n",
       "<td>989314585</td>\n",
       "<td>6</td>\n",
       "<td>電気機械器具製造業</td>\n",
       "<td>02平均以下</td>\n",
       "</tr>\n",
       "</tbody>\n",
       "</table>\n",
       "</div>"
      ],
      "text/plain": [
       "<Nysol_Readcsv at 0x10f284e50>"
      ]
     },
     "metadata": {},
     "output_type": "display_data"
    }
   ],
   "source": [
    "file4_ex4='./out_m/df4_ex4.csv'\n",
    "\n",
    "f=None\n",
    "f<<=nm.mjoin(i=file4_ex2, m=file4_ex3_2, k='日本標準産業分類_中分類コード', K='日本標準産業分類中分類コード',  f='平均従業員数')\n",
    "f<<=nm.mcal(c='if(${従業員数}>${平均従業員数}, \"01平均超\", \"02平均以下\")', a='従業員数区分')\n",
    "f<<=nm.mcut(f='企業コード,従業員数,日本標準産業分類_中分類名:日本標準産業分類中分類名,従業員数区分')\n",
    "f<<=nm.msortf(f='企業コード')\n",
    "f<<=nm.mfldname(q=True, o=file4_ex4)  #項目名に付加されているソート順などの記号を削除（後続のファイル比較のため）\n",
    "f.run(msg=\"on\")\n",
    "display(file4_ex4, nm.p(file4_ex4, head=5, tail=1))"
   ]
  },
  {
   "cell_type": "markdown",
   "metadata": {},
   "source": [
    "<br>\n",
    "\n",
    "*** \n",
    "<h3><font color='darkblue'>\n",
    "5. df4_ex4と正解ファイルである「3章章末問題正解ファイル.csv」を比較し，完全に一致するまでプログラムを修正しなさい。<a name='EXE3_5'>\n",
    "</h3>\n",
    "\n",
    "*** \n",
    "\n",
    "OSシェルコマンドのdiffを使うとファイルを比較してくれるので利用するとよい."
   ]
  },
  {
   "cell_type": "code",
   "execution_count": 11,
   "metadata": {
    "ExecuteTime": {
     "end_time": "2021-05-18T09:05:14.980945Z",
     "start_time": "2021-05-18T09:05:14.823570Z"
    }
   },
   "outputs": [],
   "source": [
    "#Jupyterでは!を先頭に付与することでOSシェルコマンドを実行できる.\n",
    "#その際, Pythonの変数値を {変数名} の形式で渡すことができる.\n",
    "!diff ./in/3章章末問題正解ファイル.csv {file4_ex4}"
   ]
  },
  {
   "cell_type": "code",
   "execution_count": null,
   "metadata": {},
   "outputs": [],
   "source": []
  }
 ],
 "metadata": {
  "kernelspec": {
   "display_name": "Python 3",
   "language": "python",
   "name": "python3"
  },
  "language_info": {
   "codemirror_mode": {
    "name": "ipython",
    "version": 3
   },
   "file_extension": ".py",
   "mimetype": "text/x-python",
   "name": "python",
   "nbconvert_exporter": "python",
   "pygments_lexer": "ipython3",
   "version": "3.8.5"
  }
 },
 "nbformat": 4,
 "nbformat_minor": 2
}
