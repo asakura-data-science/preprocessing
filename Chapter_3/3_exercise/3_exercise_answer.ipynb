{
 "cells": [
  {
   "cell_type": "markdown",
   "metadata": {},
   "source": [
    "# データ前処理 3章 章末問題 【解答例】<br>\n",
    "\n",
    "#### [1. サポートサイトにあるファイル「企業リスト1.csv」「企業リスト2.csv」「企業リスト3.csv」をそれぞれ読み込み，それらを縦に結合し，企業コード昇順で重複を除いたデータフレームdf4_ex1を作成しなさい。](#EXE3_1)<br><br>\n",
    "\n",
    "#### [2. df4_ex1に，ファイル「市区町村マスタ.csv」「業種マスタ.csv」を用いて，カラム「市区町村コード」「市区町村名」「日本標準産業分類中分類コード」「日本標準産業分類中分類」を付与したdf4_ex2を作成しなさい。](#EXE3_2)<br><br>\n",
    "\n",
    "#### [3. df4_ex2 を用いて，市区町村別の売上高の合計を求めたdf4_ex3_1と，日本標準産業分類中分類別の平均従業員数を求めたdf4_ex3_2を作成しなさい。](#EXE3_3)<br><br>\n",
    "\n",
    "#### [4. df4_ex2に，「日本標準産業分類中分類別の平均従業員数」より従業員数が多い企業は「01平均超」，従業員数が少ない企業に「02平均以下」という新たなカラム「従業員数区分」を追加したdf4_ex4を作成しなさい。](#EXE3_4)<br><br>\n",
    "#### [5. df4_ex4と正解ファイルである「3章章末問題正解ファイル.csv」を比較し，完全に一致するまでプログラムを修正しなさい。](#EXE3_5)<br><br>\n"
   ]
  },
  {
   "cell_type": "markdown",
   "metadata": {},
   "source": [
    "<br>\n",
    "\n",
    "*** \n",
    "<h3><font color='darkblue'>\n",
    "0. 事前準備<a name='EXE3_0'>\n",
    "</h3>\n",
    "\n",
    "*** \n",
    "\n",
    "読み込みデータと出力先の設定：当コードと同意フォルダに、「in」と「out」フォルダを作成し、「in」フォルダにcsvファイルを格納する\n"
   ]
  },
  {
   "cell_type": "code",
   "execution_count": 1,
   "metadata": {
    "ExecuteTime": {
     "end_time": "2021-05-18T08:57:44.846826Z",
     "start_time": "2021-05-18T08:57:43.858226Z"
    }
   },
   "outputs": [],
   "source": [
    "#ファイルパスの指定\n",
    "root_in = \"./in/\"\n",
    "root_out = \"./out/\"\n",
    "\n",
    "#必要なライブラリの読み込み\n",
    "import pandas as pd\n",
    "import numpy as np \n",
    "import os \n",
    "from glob import glob\n",
    "\n",
    "os.makedirs('out',exist_ok=True)"
   ]
  },
  {
   "cell_type": "markdown",
   "metadata": {},
   "source": [
    "<br>\n",
    "\n",
    "*** \n",
    "<h3><font color='darkblue'>\n",
    "1. 「企業リスト1.csv」「企業リスト2.csv」「企業リスト3.csv」をそれぞれ読み込み，それらを縦に結合し，企業コード昇順で重複を除いたデータフレームdf4_ex1を作成しなさい。<a name='EXE3_1'>\n",
    "</h3>\n",
    "\n",
    "*** \n",
    "\n",
    "[注意点]\n",
    "* コード類は必ずゼロ落ちしないように読み込みを行う\n",
    "* 企業リストの読み込みは、2パターン（①力技、②リストの活用）で実施する\n"
   ]
  },
  {
   "cell_type": "code",
   "execution_count": 2,
   "metadata": {
    "ExecuteTime": {
     "end_time": "2021-05-18T08:57:45.065723Z",
     "start_time": "2021-05-18T08:57:44.850962Z"
    }
   },
   "outputs": [
    {
     "name": "stdout",
     "output_type": "stream",
     "text": [
      "kg_a\n"
     ]
    },
    {
     "data": {
      "text/html": [
       "<div>\n",
       "<style scoped>\n",
       "    .dataframe tbody tr th:only-of-type {\n",
       "        vertical-align: middle;\n",
       "    }\n",
       "\n",
       "    .dataframe tbody tr th {\n",
       "        vertical-align: top;\n",
       "    }\n",
       "\n",
       "    .dataframe thead th {\n",
       "        text-align: right;\n",
       "    }\n",
       "</style>\n",
       "<table border=\"1\" class=\"dataframe\">\n",
       "  <thead>\n",
       "    <tr style=\"text-align: right;\">\n",
       "      <th></th>\n",
       "      <th>企業コード</th>\n",
       "      <th>住所コード</th>\n",
       "      <th>ＴＤＢ産業分類コード</th>\n",
       "      <th>資本金(千円)</th>\n",
       "      <th>従業員数</th>\n",
       "      <th>最新期業績売上高(百万円)</th>\n",
       "    </tr>\n",
       "  </thead>\n",
       "  <tbody>\n",
       "    <tr>\n",
       "      <th>0</th>\n",
       "      <td>786320312</td>\n",
       "      <td>1020202600</td>\n",
       "      <td>28271</td>\n",
       "      <td>40000</td>\n",
       "      <td>3</td>\n",
       "      <td>20</td>\n",
       "    </tr>\n",
       "    <tr>\n",
       "      <th>1</th>\n",
       "      <td>786037337</td>\n",
       "      <td>1020213400</td>\n",
       "      <td>34541</td>\n",
       "      <td>3000</td>\n",
       "      <td>5</td>\n",
       "      <td>30</td>\n",
       "    </tr>\n",
       "    <tr>\n",
       "      <th>2</th>\n",
       "      <td>756604268</td>\n",
       "      <td>1020105600</td>\n",
       "      <td>20994</td>\n",
       "      <td>0</td>\n",
       "      <td>1</td>\n",
       "      <td>180</td>\n",
       "    </tr>\n",
       "    <tr>\n",
       "      <th>3</th>\n",
       "      <td>786030105</td>\n",
       "      <td>1052000107</td>\n",
       "      <td>39301</td>\n",
       "      <td>10000</td>\n",
       "      <td>10</td>\n",
       "      <td>129</td>\n",
       "    </tr>\n",
       "    <tr>\n",
       "      <th>4</th>\n",
       "      <td>078800858</td>\n",
       "      <td>1046000413</td>\n",
       "      <td>20523</td>\n",
       "      <td>3000</td>\n",
       "      <td>5</td>\n",
       "      <td>10425</td>\n",
       "    </tr>\n",
       "  </tbody>\n",
       "</table>\n",
       "</div>"
      ],
      "text/plain": [
       "       企業コード       住所コード ＴＤＢ産業分類コード  資本金(千円)  従業員数  最新期業績売上高(百万円)\n",
       "0  786320312  1020202600      28271    40000     3             20\n",
       "1  786037337  1020213400      34541     3000     5             30\n",
       "2  756604268  1020105600      20994        0     1            180\n",
       "3  786030105  1052000107      39301    10000    10            129\n",
       "4  078800858  1046000413      20523     3000     5          10425"
      ]
     },
     "metadata": {},
     "output_type": "display_data"
    },
    {
     "name": "stdout",
     "output_type": "stream",
     "text": [
      "(3015, 6)\n"
     ]
    }
   ],
   "source": [
    "# 企業リストの読み込み\n",
    "# ①力技\n",
    "kg1 = pd.read_csv(root_in + '企業リスト1.csv',\n",
    "                  engine='python', index_col=None, header=0,skiprows=1, encoding='cp932',\n",
    "                  dtype = {'企業コード':'object','住所コード':'object','ＴＤＢ産業分類コード':'object'}\n",
    "                 )\n",
    "kg2 = pd.read_csv(root_in + '企業リスト2.csv',\n",
    "                  engine='python', index_col=None, header=0,skiprows=1, encoding='cp932',\n",
    "                  dtype = {'企業コード':'object','住所コード':'object','ＴＤＢ産業分類コード':'object'}\n",
    "                 )\n",
    "kg3 = pd.read_csv(root_in + '企業リスト3.csv',\n",
    "                  engine='python', index_col=None, header=0,skiprows=1, encoding='cp932',\n",
    "                  dtype = {'企業コード':'object','住所コード':'object','ＴＤＢ産業分類コード':'object'}\n",
    "                 )\n",
    "\n",
    "# 縦結合\n",
    "kg_a = pd.concat([kg1, kg2, kg3], ignore_index=True,sort=False)\n",
    "\n",
    "print('kg_a'); display(kg_a.head())\n",
    "print(kg_a.shape) # 行数・列数のチェック"
   ]
  },
  {
   "cell_type": "code",
   "execution_count": 3,
   "metadata": {
    "ExecuteTime": {
     "end_time": "2021-05-18T08:57:45.211138Z",
     "start_time": "2021-05-18T08:57:45.076406Z"
    }
   },
   "outputs": [
    {
     "name": "stdout",
     "output_type": "stream",
     "text": [
      "kg_a\n"
     ]
    },
    {
     "data": {
      "text/html": [
       "<div>\n",
       "<style scoped>\n",
       "    .dataframe tbody tr th:only-of-type {\n",
       "        vertical-align: middle;\n",
       "    }\n",
       "\n",
       "    .dataframe tbody tr th {\n",
       "        vertical-align: top;\n",
       "    }\n",
       "\n",
       "    .dataframe thead th {\n",
       "        text-align: right;\n",
       "    }\n",
       "</style>\n",
       "<table border=\"1\" class=\"dataframe\">\n",
       "  <thead>\n",
       "    <tr style=\"text-align: right;\">\n",
       "      <th></th>\n",
       "      <th>企業コード</th>\n",
       "      <th>住所コード</th>\n",
       "      <th>従業員数</th>\n",
       "      <th>最新期業績売上高(百万円)</th>\n",
       "      <th>資本金(千円)</th>\n",
       "      <th>ＴＤＢ産業分類コード</th>\n",
       "    </tr>\n",
       "  </thead>\n",
       "  <tbody>\n",
       "    <tr>\n",
       "      <th>0</th>\n",
       "      <td>786320312</td>\n",
       "      <td>1020202600</td>\n",
       "      <td>3</td>\n",
       "      <td>20</td>\n",
       "      <td>40000</td>\n",
       "      <td>28271</td>\n",
       "    </tr>\n",
       "    <tr>\n",
       "      <th>1</th>\n",
       "      <td>786037337</td>\n",
       "      <td>1020213400</td>\n",
       "      <td>5</td>\n",
       "      <td>30</td>\n",
       "      <td>3000</td>\n",
       "      <td>34541</td>\n",
       "    </tr>\n",
       "    <tr>\n",
       "      <th>2</th>\n",
       "      <td>756604268</td>\n",
       "      <td>1020105600</td>\n",
       "      <td>1</td>\n",
       "      <td>180</td>\n",
       "      <td>0</td>\n",
       "      <td>20994</td>\n",
       "    </tr>\n",
       "    <tr>\n",
       "      <th>3</th>\n",
       "      <td>786030105</td>\n",
       "      <td>1052000107</td>\n",
       "      <td>10</td>\n",
       "      <td>129</td>\n",
       "      <td>10000</td>\n",
       "      <td>39301</td>\n",
       "    </tr>\n",
       "    <tr>\n",
       "      <th>4</th>\n",
       "      <td>078800858</td>\n",
       "      <td>1046000413</td>\n",
       "      <td>5</td>\n",
       "      <td>10425</td>\n",
       "      <td>3000</td>\n",
       "      <td>20523</td>\n",
       "    </tr>\n",
       "  </tbody>\n",
       "</table>\n",
       "</div>"
      ],
      "text/plain": [
       "       企業コード       住所コード  従業員数  最新期業績売上高(百万円)  資本金(千円) ＴＤＢ産業分類コード\n",
       "0  786320312  1020202600     3             20    40000      28271\n",
       "1  786037337  1020213400     5             30     3000      34541\n",
       "2  756604268  1020105600     1            180        0      20994\n",
       "3  786030105  1052000107    10            129    10000      39301\n",
       "4  078800858  1046000413     5          10425     3000      20523"
      ]
     },
     "metadata": {},
     "output_type": "display_data"
    },
    {
     "name": "stdout",
     "output_type": "stream",
     "text": [
      "(3015, 6)\n"
     ]
    }
   ],
   "source": [
    "# 企業リストの読み込み\n",
    "# ②globとリストを活用\n",
    "\n",
    "kg_csv_files = [file for file in glob(os.path.join(root_in, '企業*.csv'))]\n",
    "\n",
    "kg1_ap=[]\n",
    "for file in kg_csv_files:\n",
    "    kg1 = pd.read_csv(file,engine='python', index_col=None, header=0,skiprows=1, encoding='cp932',\n",
    "                  dtype = {'企業コード':'object','住所コード':'object','ＴＤＢ産業分類コード':'object'}\n",
    "                 )\n",
    "    kg1_ap.append(kg1)\n",
    "    \n",
    "kg_a = pd.concat(kg1_ap, axis=0, sort=True)\n",
    "\n",
    "print('kg_a'); display(kg_a.head())\n",
    "print(kg_a.shape) # 行数・列数のチェック"
   ]
  },
  {
   "cell_type": "code",
   "execution_count": 4,
   "metadata": {
    "ExecuteTime": {
     "end_time": "2021-05-18T08:57:45.302778Z",
     "start_time": "2021-05-18T08:57:45.241808Z"
    }
   },
   "outputs": [
    {
     "name": "stdout",
     "output_type": "stream",
     "text": [
      "df4_ex1\n"
     ]
    },
    {
     "data": {
      "text/html": [
       "<div>\n",
       "<style scoped>\n",
       "    .dataframe tbody tr th:only-of-type {\n",
       "        vertical-align: middle;\n",
       "    }\n",
       "\n",
       "    .dataframe tbody tr th {\n",
       "        vertical-align: top;\n",
       "    }\n",
       "\n",
       "    .dataframe thead th {\n",
       "        text-align: right;\n",
       "    }\n",
       "</style>\n",
       "<table border=\"1\" class=\"dataframe\">\n",
       "  <thead>\n",
       "    <tr style=\"text-align: right;\">\n",
       "      <th></th>\n",
       "      <th>企業コード</th>\n",
       "      <th>住所コード</th>\n",
       "      <th>従業員数</th>\n",
       "      <th>最新期業績売上高(百万円)</th>\n",
       "      <th>資本金(千円)</th>\n",
       "      <th>ＴＤＢ産業分類コード</th>\n",
       "    </tr>\n",
       "  </thead>\n",
       "  <tbody>\n",
       "    <tr>\n",
       "      <th>850</th>\n",
       "      <td>025314331</td>\n",
       "      <td>1020213400</td>\n",
       "      <td>12</td>\n",
       "      <td>30</td>\n",
       "      <td>100000</td>\n",
       "      <td>39909</td>\n",
       "    </tr>\n",
       "    <tr>\n",
       "      <th>31</th>\n",
       "      <td>025322378</td>\n",
       "      <td>1020105600</td>\n",
       "      <td>8</td>\n",
       "      <td>75</td>\n",
       "      <td>5000</td>\n",
       "      <td>35971</td>\n",
       "    </tr>\n",
       "    <tr>\n",
       "      <th>369</th>\n",
       "      <td>030018642</td>\n",
       "      <td>1020204300</td>\n",
       "      <td>22</td>\n",
       "      <td>45</td>\n",
       "      <td>20000</td>\n",
       "      <td>34421</td>\n",
       "    </tr>\n",
       "    <tr>\n",
       "      <th>696</th>\n",
       "      <td>030019112</td>\n",
       "      <td>1020215300</td>\n",
       "      <td>5</td>\n",
       "      <td>100</td>\n",
       "      <td>3000</td>\n",
       "      <td>35431</td>\n",
       "    </tr>\n",
       "    <tr>\n",
       "      <th>409</th>\n",
       "      <td>030019209</td>\n",
       "      <td>1021003400</td>\n",
       "      <td>0</td>\n",
       "      <td>16</td>\n",
       "      <td>0</td>\n",
       "      <td>27502</td>\n",
       "    </tr>\n",
       "  </tbody>\n",
       "</table>\n",
       "</div>"
      ],
      "text/plain": [
       "         企業コード       住所コード  従業員数  最新期業績売上高(百万円)  資本金(千円) ＴＤＢ産業分類コード\n",
       "850  025314331  1020213400    12             30   100000      39909\n",
       "31   025322378  1020105600     8             75     5000      35971\n",
       "369  030018642  1020204300    22             45    20000      34421\n",
       "696  030019112  1020215300     5            100     3000      35431\n",
       "409  030019209  1021003400     0             16        0      27502"
      ]
     },
     "metadata": {},
     "output_type": "display_data"
    },
    {
     "name": "stdout",
     "output_type": "stream",
     "text": [
      "(2334, 6)\n"
     ]
    }
   ],
   "source": [
    "#並び替え\n",
    "kg_a_sort = kg_a.sort_values(['企業コード'],ascending=[True])\n",
    "# レコードの重複削除\n",
    "df4_ex1 = kg_a_sort[~kg_a_sort[['企業コード']].duplicated()]    # 重複行の抽出\n",
    "\n",
    "\n",
    "print('df4_ex1'); display(df4_ex1.head())\n",
    "print(df4_ex1.shape) # 行数・列数のチェック"
   ]
  },
  {
   "cell_type": "markdown",
   "metadata": {},
   "source": [
    "<br>\n",
    "\n",
    "*** \n",
    "<h3><font color='darkblue'>\n",
    "2. df4_ex1に，ファイル「市区町村マスタ.csv」「業種マスタ.csv」を用いて，カラム「市区町村コード」「市区町村名」「日本標準産業分類中分類コード」「日本標準産業分類中分類」を付与したdf4_ex2を作成しなさい。<a name='EXE3_2'>\n",
    "</h3>\n",
    "\n",
    "*** \n",
    "\n",
    "* 市区町村マスタとの結合キーは「住所コード」，業種マスタとの結合キーは「TDB産業分類コード」とする。<br><br>\n",
    "* 日本標準産業分類の中分類コードは，日本標準産業分類の小分類コードの上2桁が該当するものとする。<br><br>"
   ]
  },
  {
   "cell_type": "code",
   "execution_count": 5,
   "metadata": {
    "ExecuteTime": {
     "end_time": "2021-05-18T08:57:45.395491Z",
     "start_time": "2021-05-18T08:57:45.309251Z"
    }
   },
   "outputs": [
    {
     "name": "stdout",
     "output_type": "stream",
     "text": [
      "gyo_mst\n"
     ]
    },
    {
     "data": {
      "text/html": [
       "<div>\n",
       "<style scoped>\n",
       "    .dataframe tbody tr th:only-of-type {\n",
       "        vertical-align: middle;\n",
       "    }\n",
       "\n",
       "    .dataframe tbody tr th {\n",
       "        vertical-align: top;\n",
       "    }\n",
       "\n",
       "    .dataframe thead th {\n",
       "        text-align: right;\n",
       "    }\n",
       "</style>\n",
       "<table border=\"1\" class=\"dataframe\">\n",
       "  <thead>\n",
       "    <tr style=\"text-align: right;\">\n",
       "      <th></th>\n",
       "      <th>ＴＤＢ産業分類コード</th>\n",
       "      <th>日本標準産業分類_中分類名</th>\n",
       "      <th>日本標準産業分類_小分類コード</th>\n",
       "      <th>日本標準産業分類_小分類名</th>\n",
       "    </tr>\n",
       "  </thead>\n",
       "  <tbody>\n",
       "    <tr>\n",
       "      <th>0</th>\n",
       "      <td>20111</td>\n",
       "      <td>食料品製造業</td>\n",
       "      <td>091</td>\n",
       "      <td>畜産食料品製造業</td>\n",
       "    </tr>\n",
       "    <tr>\n",
       "      <th>1</th>\n",
       "      <td>20121</td>\n",
       "      <td>食料品製造業</td>\n",
       "      <td>091</td>\n",
       "      <td>畜産食料品製造業</td>\n",
       "    </tr>\n",
       "    <tr>\n",
       "      <th>2</th>\n",
       "      <td>20199</td>\n",
       "      <td>食料品製造業</td>\n",
       "      <td>091</td>\n",
       "      <td>畜産食料品製造業</td>\n",
       "    </tr>\n",
       "    <tr>\n",
       "      <th>3</th>\n",
       "      <td>20202</td>\n",
       "      <td>食料品製造業</td>\n",
       "      <td>092</td>\n",
       "      <td>水産食料品製造業</td>\n",
       "    </tr>\n",
       "    <tr>\n",
       "      <th>4</th>\n",
       "      <td>20209</td>\n",
       "      <td>食料品製造業</td>\n",
       "      <td>092</td>\n",
       "      <td>水産食料品製造業</td>\n",
       "    </tr>\n",
       "  </tbody>\n",
       "</table>\n",
       "</div>"
      ],
      "text/plain": [
       "  ＴＤＢ産業分類コード 日本標準産業分類_中分類名 日本標準産業分類_小分類コード 日本標準産業分類_小分類名\n",
       "0      20111        食料品製造業             091      畜産食料品製造業\n",
       "1      20121        食料品製造業             091      畜産食料品製造業\n",
       "2      20199        食料品製造業             091      畜産食料品製造業\n",
       "3      20202        食料品製造業             092      水産食料品製造業\n",
       "4      20209        食料品製造業             092      水産食料品製造業"
      ]
     },
     "metadata": {},
     "output_type": "display_data"
    },
    {
     "name": "stdout",
     "output_type": "stream",
     "text": [
      "(312, 4)\n",
      "j5_mst\n"
     ]
    },
    {
     "data": {
      "text/html": [
       "<div>\n",
       "<style scoped>\n",
       "    .dataframe tbody tr th:only-of-type {\n",
       "        vertical-align: middle;\n",
       "    }\n",
       "\n",
       "    .dataframe tbody tr th {\n",
       "        vertical-align: top;\n",
       "    }\n",
       "\n",
       "    .dataframe thead th {\n",
       "        text-align: right;\n",
       "    }\n",
       "</style>\n",
       "<table border=\"1\" class=\"dataframe\">\n",
       "  <thead>\n",
       "    <tr style=\"text-align: right;\">\n",
       "      <th></th>\n",
       "      <th>住所コード</th>\n",
       "      <th>市区町村コード</th>\n",
       "      <th>市区町村名</th>\n",
       "    </tr>\n",
       "  </thead>\n",
       "  <tbody>\n",
       "    <tr>\n",
       "      <th>0</th>\n",
       "      <td>1020100100</td>\n",
       "      <td>10201</td>\n",
       "      <td>前橋市</td>\n",
       "    </tr>\n",
       "    <tr>\n",
       "      <th>1</th>\n",
       "      <td>1020100300</td>\n",
       "      <td>10201</td>\n",
       "      <td>前橋市</td>\n",
       "    </tr>\n",
       "    <tr>\n",
       "      <th>2</th>\n",
       "      <td>1020100302</td>\n",
       "      <td>10201</td>\n",
       "      <td>前橋市</td>\n",
       "    </tr>\n",
       "    <tr>\n",
       "      <th>3</th>\n",
       "      <td>1020100600</td>\n",
       "      <td>10201</td>\n",
       "      <td>前橋市</td>\n",
       "    </tr>\n",
       "    <tr>\n",
       "      <th>4</th>\n",
       "      <td>1020100601</td>\n",
       "      <td>10201</td>\n",
       "      <td>前橋市</td>\n",
       "    </tr>\n",
       "  </tbody>\n",
       "</table>\n",
       "</div>"
      ],
      "text/plain": [
       "        住所コード 市区町村コード 市区町村名\n",
       "0  1020100100   10201   前橋市\n",
       "1  1020100300   10201   前橋市\n",
       "2  1020100302   10201   前橋市\n",
       "3  1020100600   10201   前橋市\n",
       "4  1020100601   10201   前橋市"
      ]
     },
     "metadata": {},
     "output_type": "display_data"
    },
    {
     "name": "stdout",
     "output_type": "stream",
     "text": [
      "(844, 3)\n"
     ]
    }
   ],
   "source": [
    "#マスタの読み込み\n",
    "gyo_mst = pd.read_csv(root_in + '業種マスタ.csv',\n",
    "                      engine='python', index_col=None, header=0, encoding='cp932',\n",
    "                      dtype = {'ＴＤＢ産業分類コード':'object','日本標準産業分類_小分類コード':'object'}\n",
    "                     )\n",
    "print('gyo_mst'); display(gyo_mst.head())\n",
    "print(gyo_mst.shape) # 行数・列数のチェック\n",
    "\n",
    "j5_mst = pd.read_csv(root_in + '市区町村マスタ.csv',\n",
    "                     engine='python', index_col=None, header=0, encoding='cp932',\n",
    "                     dtype = {'住所コード':'object','市区町村コード':'object'}\n",
    "                    )\n",
    "print('j5_mst'); display(j5_mst.head())\n",
    "print(j5_mst.shape) # 行数・列数のチェック\n"
   ]
  },
  {
   "cell_type": "code",
   "execution_count": 6,
   "metadata": {
    "ExecuteTime": {
     "end_time": "2021-05-18T08:57:45.504183Z",
     "start_time": "2021-05-18T08:57:45.412971Z"
    }
   },
   "outputs": [
    {
     "name": "stdout",
     "output_type": "stream",
     "text": [
      "kg2_gyo\n"
     ]
    },
    {
     "data": {
      "text/html": [
       "<div>\n",
       "<style scoped>\n",
       "    .dataframe tbody tr th:only-of-type {\n",
       "        vertical-align: middle;\n",
       "    }\n",
       "\n",
       "    .dataframe tbody tr th {\n",
       "        vertical-align: top;\n",
       "    }\n",
       "\n",
       "    .dataframe thead th {\n",
       "        text-align: right;\n",
       "    }\n",
       "</style>\n",
       "<table border=\"1\" class=\"dataframe\">\n",
       "  <thead>\n",
       "    <tr style=\"text-align: right;\">\n",
       "      <th></th>\n",
       "      <th>企業コード</th>\n",
       "      <th>住所コード</th>\n",
       "      <th>従業員数</th>\n",
       "      <th>最新期業績売上高(百万円)</th>\n",
       "      <th>資本金(千円)</th>\n",
       "      <th>ＴＤＢ産業分類コード</th>\n",
       "      <th>日本標準産業分類_中分類名</th>\n",
       "      <th>日本標準産業分類_小分類コード</th>\n",
       "      <th>日本標準産業分類_小分類名</th>\n",
       "    </tr>\n",
       "  </thead>\n",
       "  <tbody>\n",
       "    <tr>\n",
       "      <th>0</th>\n",
       "      <td>025314331</td>\n",
       "      <td>1020213400</td>\n",
       "      <td>12</td>\n",
       "      <td>30</td>\n",
       "      <td>100000</td>\n",
       "      <td>39909</td>\n",
       "      <td>その他の製造業</td>\n",
       "      <td>329</td>\n",
       "      <td>他に分類されない製造業</td>\n",
       "    </tr>\n",
       "    <tr>\n",
       "      <th>1</th>\n",
       "      <td>032226093</td>\n",
       "      <td>1020800300</td>\n",
       "      <td>25</td>\n",
       "      <td>70</td>\n",
       "      <td>3350</td>\n",
       "      <td>39909</td>\n",
       "      <td>その他の製造業</td>\n",
       "      <td>329</td>\n",
       "      <td>他に分類されない製造業</td>\n",
       "    </tr>\n",
       "    <tr>\n",
       "      <th>2</th>\n",
       "      <td>333320208</td>\n",
       "      <td>1020110800</td>\n",
       "      <td>11</td>\n",
       "      <td>28</td>\n",
       "      <td>3000</td>\n",
       "      <td>39909</td>\n",
       "      <td>その他の製造業</td>\n",
       "      <td>329</td>\n",
       "      <td>他に分類されない製造業</td>\n",
       "    </tr>\n",
       "    <tr>\n",
       "      <th>3</th>\n",
       "      <td>451316438</td>\n",
       "      <td>1020108005</td>\n",
       "      <td>0</td>\n",
       "      <td>50</td>\n",
       "      <td>5000</td>\n",
       "      <td>39909</td>\n",
       "      <td>その他の製造業</td>\n",
       "      <td>329</td>\n",
       "      <td>他に分類されない製造業</td>\n",
       "    </tr>\n",
       "    <tr>\n",
       "      <th>4</th>\n",
       "      <td>716962374</td>\n",
       "      <td>1038000109</td>\n",
       "      <td>6</td>\n",
       "      <td>800</td>\n",
       "      <td>2000</td>\n",
       "      <td>39909</td>\n",
       "      <td>その他の製造業</td>\n",
       "      <td>329</td>\n",
       "      <td>他に分類されない製造業</td>\n",
       "    </tr>\n",
       "  </tbody>\n",
       "</table>\n",
       "</div>"
      ],
      "text/plain": [
       "       企業コード       住所コード  従業員数  最新期業績売上高(百万円)  資本金(千円) ＴＤＢ産業分類コード  \\\n",
       "0  025314331  1020213400    12             30   100000      39909   \n",
       "1  032226093  1020800300    25             70     3350      39909   \n",
       "2  333320208  1020110800    11             28     3000      39909   \n",
       "3  451316438  1020108005     0             50     5000      39909   \n",
       "4  716962374  1038000109     6            800     2000      39909   \n",
       "\n",
       "  日本標準産業分類_中分類名 日本標準産業分類_小分類コード 日本標準産業分類_小分類名  \n",
       "0       その他の製造業             329   他に分類されない製造業  \n",
       "1       その他の製造業             329   他に分類されない製造業  \n",
       "2       その他の製造業             329   他に分類されない製造業  \n",
       "3       その他の製造業             329   他に分類されない製造業  \n",
       "4       その他の製造業             329   他に分類されない製造業  "
      ]
     },
     "metadata": {},
     "output_type": "display_data"
    },
    {
     "name": "stdout",
     "output_type": "stream",
     "text": [
      "(2334, 9)\n"
     ]
    }
   ],
   "source": [
    "# 横結合1：業種マスタ\n",
    "kg2_gyo = pd.merge(df4_ex1, gyo_mst,  on='ＴＤＢ産業分類コード',how='inner')\n",
    "\n",
    "# 横結合によってレコードが減少していないか、正しくカラムが追加されているか確認\n",
    "print('kg2_gyo'); display(kg2_gyo.head())\n",
    "print(kg2_gyo.shape) # 行数・列数のチェック"
   ]
  },
  {
   "cell_type": "code",
   "execution_count": 7,
   "metadata": {
    "ExecuteTime": {
     "end_time": "2021-05-18T08:57:45.602733Z",
     "start_time": "2021-05-18T08:57:45.515734Z"
    }
   },
   "outputs": [
    {
     "name": "stdout",
     "output_type": "stream",
     "text": [
      "df4_ex2\n"
     ]
    },
    {
     "data": {
      "text/html": [
       "<div>\n",
       "<style scoped>\n",
       "    .dataframe tbody tr th:only-of-type {\n",
       "        vertical-align: middle;\n",
       "    }\n",
       "\n",
       "    .dataframe tbody tr th {\n",
       "        vertical-align: top;\n",
       "    }\n",
       "\n",
       "    .dataframe thead th {\n",
       "        text-align: right;\n",
       "    }\n",
       "</style>\n",
       "<table border=\"1\" class=\"dataframe\">\n",
       "  <thead>\n",
       "    <tr style=\"text-align: right;\">\n",
       "      <th></th>\n",
       "      <th>企業コード</th>\n",
       "      <th>住所コード</th>\n",
       "      <th>従業員数</th>\n",
       "      <th>最新期業績売上高(百万円)</th>\n",
       "      <th>資本金(千円)</th>\n",
       "      <th>ＴＤＢ産業分類コード</th>\n",
       "      <th>日本標準産業分類_中分類名</th>\n",
       "      <th>日本標準産業分類_小分類コード</th>\n",
       "      <th>日本標準産業分類_小分類名</th>\n",
       "      <th>市区町村コード</th>\n",
       "      <th>市区町村名</th>\n",
       "    </tr>\n",
       "  </thead>\n",
       "  <tbody>\n",
       "    <tr>\n",
       "      <th>0</th>\n",
       "      <td>025314331</td>\n",
       "      <td>1020213400</td>\n",
       "      <td>12</td>\n",
       "      <td>30</td>\n",
       "      <td>100000</td>\n",
       "      <td>39909</td>\n",
       "      <td>その他の製造業</td>\n",
       "      <td>329</td>\n",
       "      <td>他に分類されない製造業</td>\n",
       "      <td>10202</td>\n",
       "      <td>高崎市</td>\n",
       "    </tr>\n",
       "    <tr>\n",
       "      <th>1</th>\n",
       "      <td>786037337</td>\n",
       "      <td>1020213400</td>\n",
       "      <td>5</td>\n",
       "      <td>30</td>\n",
       "      <td>3000</td>\n",
       "      <td>34541</td>\n",
       "      <td>金属製品製造業</td>\n",
       "      <td>245</td>\n",
       "      <td>金属素形材製品製造業</td>\n",
       "      <td>10202</td>\n",
       "      <td>高崎市</td>\n",
       "    </tr>\n",
       "    <tr>\n",
       "      <th>2</th>\n",
       "      <td>847315017</td>\n",
       "      <td>1020213400</td>\n",
       "      <td>0</td>\n",
       "      <td>22</td>\n",
       "      <td>3000</td>\n",
       "      <td>39881</td>\n",
       "      <td>その他の製造業</td>\n",
       "      <td>329</td>\n",
       "      <td>他に分類されない製造業</td>\n",
       "      <td>10202</td>\n",
       "      <td>高崎市</td>\n",
       "    </tr>\n",
       "    <tr>\n",
       "      <th>3</th>\n",
       "      <td>032226093</td>\n",
       "      <td>1020800300</td>\n",
       "      <td>25</td>\n",
       "      <td>70</td>\n",
       "      <td>3350</td>\n",
       "      <td>39909</td>\n",
       "      <td>その他の製造業</td>\n",
       "      <td>329</td>\n",
       "      <td>他に分類されない製造業</td>\n",
       "      <td>10208</td>\n",
       "      <td>渋川市</td>\n",
       "    </tr>\n",
       "    <tr>\n",
       "      <th>4</th>\n",
       "      <td>786380171</td>\n",
       "      <td>1020800300</td>\n",
       "      <td>9</td>\n",
       "      <td>127</td>\n",
       "      <td>10000</td>\n",
       "      <td>23301</td>\n",
       "      <td>繊維工業</td>\n",
       "      <td>116</td>\n",
       "      <td>外衣・シャツ製造業（和式を除く）</td>\n",
       "      <td>10208</td>\n",
       "      <td>渋川市</td>\n",
       "    </tr>\n",
       "  </tbody>\n",
       "</table>\n",
       "</div>"
      ],
      "text/plain": [
       "       企業コード       住所コード  従業員数  最新期業績売上高(百万円)  資本金(千円) ＴＤＢ産業分類コード  \\\n",
       "0  025314331  1020213400    12             30   100000      39909   \n",
       "1  786037337  1020213400     5             30     3000      34541   \n",
       "2  847315017  1020213400     0             22     3000      39881   \n",
       "3  032226093  1020800300    25             70     3350      39909   \n",
       "4  786380171  1020800300     9            127    10000      23301   \n",
       "\n",
       "  日本標準産業分類_中分類名 日本標準産業分類_小分類コード     日本標準産業分類_小分類名 市区町村コード 市区町村名  \n",
       "0       その他の製造業             329       他に分類されない製造業   10202   高崎市  \n",
       "1       金属製品製造業             245        金属素形材製品製造業   10202   高崎市  \n",
       "2       その他の製造業             329       他に分類されない製造業   10202   高崎市  \n",
       "3       その他の製造業             329       他に分類されない製造業   10208   渋川市  \n",
       "4          繊維工業             116  外衣・シャツ製造業（和式を除く）   10208   渋川市  "
      ]
     },
     "metadata": {},
     "output_type": "display_data"
    },
    {
     "name": "stdout",
     "output_type": "stream",
     "text": [
      "(2334, 11)\n"
     ]
    }
   ],
   "source": [
    "# 横結合2：市区町村マスタ\n",
    "df4_ex2 = pd.merge(kg2_gyo, j5_mst,  on='住所コード',how='inner')\n",
    "\n",
    "# 横結合によってレコードが減少していないか、正しくカラムが追加されているか確認\n",
    "print('df4_ex2'); display(df4_ex2.head())\n",
    "print(df4_ex2.shape) # 行数・列数のチェック"
   ]
  },
  {
   "cell_type": "markdown",
   "metadata": {},
   "source": [
    "<br>\n",
    "\n",
    "*** \n",
    "<h3><font color='darkblue'>\n",
    "3. df4_ex2 を用いて，市区町村別の売上高の合計を求めたdf4_ex3_1と，日本標準産業分類中分類別の平均従業員数を求めたdf4_ex3_2を作成しなさい。<a name='EXE3_3'>\n",
    "</h3>\n",
    "\n",
    "*** \n",
    "\n",
    "[注意点]\n",
    "* df4_ex3_1の作成条件<br><br>\n",
    "    * 売上高が0あるいはnullのレコードは除く<br><br>\n",
    "    * 項目：市区町村コード，市区町村名，対象企業数，売上高合計<br><br>"
   ]
  },
  {
   "cell_type": "code",
   "execution_count": 8,
   "metadata": {
    "ExecuteTime": {
     "end_time": "2021-05-18T08:57:45.711614Z",
     "start_time": "2021-05-18T08:57:45.632014Z"
    }
   },
   "outputs": [
    {
     "name": "stdout",
     "output_type": "stream",
     "text": [
      "df4_ex3_10\n"
     ]
    },
    {
     "data": {
      "text/html": [
       "<div>\n",
       "<style scoped>\n",
       "    .dataframe tbody tr th:only-of-type {\n",
       "        vertical-align: middle;\n",
       "    }\n",
       "\n",
       "    .dataframe tbody tr th {\n",
       "        vertical-align: top;\n",
       "    }\n",
       "\n",
       "    .dataframe thead th {\n",
       "        text-align: right;\n",
       "    }\n",
       "</style>\n",
       "<table border=\"1\" class=\"dataframe\">\n",
       "  <thead>\n",
       "    <tr style=\"text-align: right;\">\n",
       "      <th></th>\n",
       "      <th>企業コード</th>\n",
       "      <th>住所コード</th>\n",
       "      <th>従業員数</th>\n",
       "      <th>最新期業績売上高(百万円)</th>\n",
       "      <th>資本金(千円)</th>\n",
       "      <th>ＴＤＢ産業分類コード</th>\n",
       "      <th>日本標準産業分類_中分類名</th>\n",
       "      <th>日本標準産業分類_小分類コード</th>\n",
       "      <th>日本標準産業分類_小分類名</th>\n",
       "      <th>市区町村コード</th>\n",
       "      <th>市区町村名</th>\n",
       "    </tr>\n",
       "  </thead>\n",
       "  <tbody>\n",
       "    <tr>\n",
       "      <th>0</th>\n",
       "      <td>025314331</td>\n",
       "      <td>1020213400</td>\n",
       "      <td>12</td>\n",
       "      <td>30</td>\n",
       "      <td>100000</td>\n",
       "      <td>39909</td>\n",
       "      <td>その他の製造業</td>\n",
       "      <td>329</td>\n",
       "      <td>他に分類されない製造業</td>\n",
       "      <td>10202</td>\n",
       "      <td>高崎市</td>\n",
       "    </tr>\n",
       "    <tr>\n",
       "      <th>1</th>\n",
       "      <td>786037337</td>\n",
       "      <td>1020213400</td>\n",
       "      <td>5</td>\n",
       "      <td>30</td>\n",
       "      <td>3000</td>\n",
       "      <td>34541</td>\n",
       "      <td>金属製品製造業</td>\n",
       "      <td>245</td>\n",
       "      <td>金属素形材製品製造業</td>\n",
       "      <td>10202</td>\n",
       "      <td>高崎市</td>\n",
       "    </tr>\n",
       "    <tr>\n",
       "      <th>2</th>\n",
       "      <td>847315017</td>\n",
       "      <td>1020213400</td>\n",
       "      <td>0</td>\n",
       "      <td>22</td>\n",
       "      <td>3000</td>\n",
       "      <td>39881</td>\n",
       "      <td>その他の製造業</td>\n",
       "      <td>329</td>\n",
       "      <td>他に分類されない製造業</td>\n",
       "      <td>10202</td>\n",
       "      <td>高崎市</td>\n",
       "    </tr>\n",
       "    <tr>\n",
       "      <th>3</th>\n",
       "      <td>032226093</td>\n",
       "      <td>1020800300</td>\n",
       "      <td>25</td>\n",
       "      <td>70</td>\n",
       "      <td>3350</td>\n",
       "      <td>39909</td>\n",
       "      <td>その他の製造業</td>\n",
       "      <td>329</td>\n",
       "      <td>他に分類されない製造業</td>\n",
       "      <td>10208</td>\n",
       "      <td>渋川市</td>\n",
       "    </tr>\n",
       "    <tr>\n",
       "      <th>4</th>\n",
       "      <td>786380171</td>\n",
       "      <td>1020800300</td>\n",
       "      <td>9</td>\n",
       "      <td>127</td>\n",
       "      <td>10000</td>\n",
       "      <td>23301</td>\n",
       "      <td>繊維工業</td>\n",
       "      <td>116</td>\n",
       "      <td>外衣・シャツ製造業（和式を除く）</td>\n",
       "      <td>10208</td>\n",
       "      <td>渋川市</td>\n",
       "    </tr>\n",
       "  </tbody>\n",
       "</table>\n",
       "</div>"
      ],
      "text/plain": [
       "       企業コード       住所コード  従業員数  最新期業績売上高(百万円)  資本金(千円) ＴＤＢ産業分類コード  \\\n",
       "0  025314331  1020213400    12             30   100000      39909   \n",
       "1  786037337  1020213400     5             30     3000      34541   \n",
       "2  847315017  1020213400     0             22     3000      39881   \n",
       "3  032226093  1020800300    25             70     3350      39909   \n",
       "4  786380171  1020800300     9            127    10000      23301   \n",
       "\n",
       "  日本標準産業分類_中分類名 日本標準産業分類_小分類コード     日本標準産業分類_小分類名 市区町村コード 市区町村名  \n",
       "0       その他の製造業             329       他に分類されない製造業   10202   高崎市  \n",
       "1       金属製品製造業             245        金属素形材製品製造業   10202   高崎市  \n",
       "2       その他の製造業             329       他に分類されない製造業   10202   高崎市  \n",
       "3       その他の製造業             329       他に分類されない製造業   10208   渋川市  \n",
       "4          繊維工業             116  外衣・シャツ製造業（和式を除く）   10208   渋川市  "
      ]
     },
     "metadata": {},
     "output_type": "display_data"
    },
    {
     "name": "stdout",
     "output_type": "stream",
     "text": [
      "(2330, 11)\n"
     ]
    }
   ],
   "source": [
    "# 売上高が0より大きい＆nullを除く\n",
    "df4_ex3_10=df4_ex2[df4_ex2['最新期業績売上高(百万円)'] > 0].dropna(subset=['最新期業績売上高(百万円)'])\n",
    "\n",
    "print('df4_ex3_10'); display(df4_ex3_10.head())\n",
    "print(df4_ex3_10.shape) # 行数・列数のチェック"
   ]
  },
  {
   "cell_type": "code",
   "execution_count": 9,
   "metadata": {
    "ExecuteTime": {
     "end_time": "2021-05-18T08:57:45.802981Z",
     "start_time": "2021-05-18T08:57:45.717192Z"
    }
   },
   "outputs": [
    {
     "name": "stdout",
     "output_type": "stream",
     "text": [
      "df4_ex3_1\n"
     ]
    },
    {
     "data": {
      "text/html": [
       "<div>\n",
       "<style scoped>\n",
       "    .dataframe tbody tr th:only-of-type {\n",
       "        vertical-align: middle;\n",
       "    }\n",
       "\n",
       "    .dataframe tbody tr th {\n",
       "        vertical-align: top;\n",
       "    }\n",
       "\n",
       "    .dataframe thead th {\n",
       "        text-align: right;\n",
       "    }\n",
       "</style>\n",
       "<table border=\"1\" class=\"dataframe\">\n",
       "  <thead>\n",
       "    <tr style=\"text-align: right;\">\n",
       "      <th></th>\n",
       "      <th>市区町村コード</th>\n",
       "      <th>市区町村名</th>\n",
       "      <th>対象企業数</th>\n",
       "      <th>売上高合計</th>\n",
       "    </tr>\n",
       "  </thead>\n",
       "  <tbody>\n",
       "    <tr>\n",
       "      <th>0</th>\n",
       "      <td>10201</td>\n",
       "      <td>前橋市</td>\n",
       "      <td>284</td>\n",
       "      <td>104666</td>\n",
       "    </tr>\n",
       "    <tr>\n",
       "      <th>1</th>\n",
       "      <td>10202</td>\n",
       "      <td>高崎市</td>\n",
       "      <td>352</td>\n",
       "      <td>254787</td>\n",
       "    </tr>\n",
       "    <tr>\n",
       "      <th>2</th>\n",
       "      <td>10203</td>\n",
       "      <td>桐生市</td>\n",
       "      <td>190</td>\n",
       "      <td>229838</td>\n",
       "    </tr>\n",
       "    <tr>\n",
       "      <th>3</th>\n",
       "      <td>10204</td>\n",
       "      <td>伊勢崎市</td>\n",
       "      <td>291</td>\n",
       "      <td>324501</td>\n",
       "    </tr>\n",
       "    <tr>\n",
       "      <th>4</th>\n",
       "      <td>10205</td>\n",
       "      <td>太田市</td>\n",
       "      <td>388</td>\n",
       "      <td>143684</td>\n",
       "    </tr>\n",
       "  </tbody>\n",
       "</table>\n",
       "</div>"
      ],
      "text/plain": [
       "  市区町村コード 市区町村名  対象企業数   売上高合計\n",
       "0   10201   前橋市    284  104666\n",
       "1   10202   高崎市    352  254787\n",
       "2   10203   桐生市    190  229838\n",
       "3   10204  伊勢崎市    291  324501\n",
       "4   10205   太田市    388  143684"
      ]
     },
     "metadata": {},
     "output_type": "display_data"
    },
    {
     "name": "stdout",
     "output_type": "stream",
     "text": [
      "(32, 4)\n"
     ]
    }
   ],
   "source": [
    "# 日本標準産業分類別集計\n",
    "# 企業数\n",
    "df4_ex3_11 = df4_ex3_10.groupby(['市区町村コード','市区町村名'], as_index=False)['企業コード'].count()\n",
    "\n",
    "# 平均従業員数\n",
    "df4_ex3_12 = df4_ex3_10.groupby(['市区町村コード'], as_index=False)[\"最新期業績売上高(百万円)\"].sum()\n",
    "\n",
    "# 横結合\n",
    "df4_ex3_1 = pd.merge(df4_ex3_11, df4_ex3_12,  on='市区町村コード',how='inner')\n",
    "\n",
    "# カラム名前変更\n",
    "df4_ex3_1.rename(columns={'企業コード':'対象企業数','最新期業績売上高(百万円)':'売上高合計'},inplace=True)\n",
    "\n",
    "print('df4_ex3_1'); display(df4_ex3_1.head())\n",
    "print(df4_ex3_1.shape) # 行数・列数のチェック"
   ]
  },
  {
   "cell_type": "markdown",
   "metadata": {},
   "source": [
    "[注意点]\n",
    "* df4_ex3_2の作成条件<br><br>\n",
    "    * 従業員数が 0 あるいは null のレコードは除く<br><br>\n",
    "    * 項目：日本標準産業分類中分類コード(日本標準産業分類上位2桁)，日本標準産業分類中分類名，対象企業数，平均従業員数<br><br>\n",
    "    * 業種別平均従業員数は小数点第4位を四捨五入<br><br>"
   ]
  },
  {
   "cell_type": "code",
   "execution_count": 10,
   "metadata": {
    "ExecuteTime": {
     "end_time": "2021-05-18T08:57:45.877926Z",
     "start_time": "2021-05-18T08:57:45.808514Z"
    }
   },
   "outputs": [
    {
     "name": "stdout",
     "output_type": "stream",
     "text": [
      "df4_ex3_21\n"
     ]
    },
    {
     "data": {
      "text/html": [
       "<div>\n",
       "<style scoped>\n",
       "    .dataframe tbody tr th:only-of-type {\n",
       "        vertical-align: middle;\n",
       "    }\n",
       "\n",
       "    .dataframe tbody tr th {\n",
       "        vertical-align: top;\n",
       "    }\n",
       "\n",
       "    .dataframe thead th {\n",
       "        text-align: right;\n",
       "    }\n",
       "</style>\n",
       "<table border=\"1\" class=\"dataframe\">\n",
       "  <thead>\n",
       "    <tr style=\"text-align: right;\">\n",
       "      <th></th>\n",
       "      <th>企業コード</th>\n",
       "      <th>住所コード</th>\n",
       "      <th>従業員数</th>\n",
       "      <th>最新期業績売上高(百万円)</th>\n",
       "      <th>資本金(千円)</th>\n",
       "      <th>ＴＤＢ産業分類コード</th>\n",
       "      <th>日本標準産業分類_中分類名</th>\n",
       "      <th>日本標準産業分類_小分類コード</th>\n",
       "      <th>日本標準産業分類_小分類名</th>\n",
       "      <th>市区町村コード</th>\n",
       "      <th>市区町村名</th>\n",
       "      <th>日本標準産業分類中分類コード</th>\n",
       "    </tr>\n",
       "  </thead>\n",
       "  <tbody>\n",
       "    <tr>\n",
       "      <th>0</th>\n",
       "      <td>025314331</td>\n",
       "      <td>1020213400</td>\n",
       "      <td>12</td>\n",
       "      <td>30</td>\n",
       "      <td>100000</td>\n",
       "      <td>39909</td>\n",
       "      <td>その他の製造業</td>\n",
       "      <td>329</td>\n",
       "      <td>他に分類されない製造業</td>\n",
       "      <td>10202</td>\n",
       "      <td>高崎市</td>\n",
       "      <td>32</td>\n",
       "    </tr>\n",
       "    <tr>\n",
       "      <th>1</th>\n",
       "      <td>786037337</td>\n",
       "      <td>1020213400</td>\n",
       "      <td>5</td>\n",
       "      <td>30</td>\n",
       "      <td>3000</td>\n",
       "      <td>34541</td>\n",
       "      <td>金属製品製造業</td>\n",
       "      <td>245</td>\n",
       "      <td>金属素形材製品製造業</td>\n",
       "      <td>10202</td>\n",
       "      <td>高崎市</td>\n",
       "      <td>24</td>\n",
       "    </tr>\n",
       "    <tr>\n",
       "      <th>3</th>\n",
       "      <td>032226093</td>\n",
       "      <td>1020800300</td>\n",
       "      <td>25</td>\n",
       "      <td>70</td>\n",
       "      <td>3350</td>\n",
       "      <td>39909</td>\n",
       "      <td>その他の製造業</td>\n",
       "      <td>329</td>\n",
       "      <td>他に分類されない製造業</td>\n",
       "      <td>10208</td>\n",
       "      <td>渋川市</td>\n",
       "      <td>32</td>\n",
       "    </tr>\n",
       "    <tr>\n",
       "      <th>4</th>\n",
       "      <td>786380171</td>\n",
       "      <td>1020800300</td>\n",
       "      <td>9</td>\n",
       "      <td>127</td>\n",
       "      <td>10000</td>\n",
       "      <td>23301</td>\n",
       "      <td>繊維工業</td>\n",
       "      <td>116</td>\n",
       "      <td>外衣・シャツ製造業（和式を除く）</td>\n",
       "      <td>10208</td>\n",
       "      <td>渋川市</td>\n",
       "      <td>11</td>\n",
       "    </tr>\n",
       "    <tr>\n",
       "      <th>5</th>\n",
       "      <td>333320208</td>\n",
       "      <td>1020110800</td>\n",
       "      <td>11</td>\n",
       "      <td>28</td>\n",
       "      <td>3000</td>\n",
       "      <td>39909</td>\n",
       "      <td>その他の製造業</td>\n",
       "      <td>329</td>\n",
       "      <td>他に分類されない製造業</td>\n",
       "      <td>10201</td>\n",
       "      <td>前橋市</td>\n",
       "      <td>32</td>\n",
       "    </tr>\n",
       "  </tbody>\n",
       "</table>\n",
       "</div>"
      ],
      "text/plain": [
       "       企業コード       住所コード  従業員数  最新期業績売上高(百万円)  資本金(千円) ＴＤＢ産業分類コード  \\\n",
       "0  025314331  1020213400    12             30   100000      39909   \n",
       "1  786037337  1020213400     5             30     3000      34541   \n",
       "3  032226093  1020800300    25             70     3350      39909   \n",
       "4  786380171  1020800300     9            127    10000      23301   \n",
       "5  333320208  1020110800    11             28     3000      39909   \n",
       "\n",
       "  日本標準産業分類_中分類名 日本標準産業分類_小分類コード     日本標準産業分類_小分類名 市区町村コード 市区町村名 日本標準産業分類中分類コード  \n",
       "0       その他の製造業             329       他に分類されない製造業   10202   高崎市             32  \n",
       "1       金属製品製造業             245        金属素形材製品製造業   10202   高崎市             24  \n",
       "3       その他の製造業             329       他に分類されない製造業   10208   渋川市             32  \n",
       "4          繊維工業             116  外衣・シャツ製造業（和式を除く）   10208   渋川市             11  \n",
       "5       その他の製造業             329       他に分類されない製造業   10201   前橋市             32  "
      ]
     },
     "metadata": {},
     "output_type": "display_data"
    },
    {
     "name": "stdout",
     "output_type": "stream",
     "text": [
      "(2072, 12)\n"
     ]
    }
   ],
   "source": [
    "# 従業員数が0より大きい＆nullを除く\n",
    "df4_ex3_20=df4_ex2[df4_ex2['従業員数'] > 0].dropna(subset=['従業員数'])\n",
    "\n",
    "# 日本標準産業分類中分類コードを作成\n",
    "df4_ex3_21=df4_ex3_20.assign(日本標準産業分類中分類コード=df4_ex3_20['日本標準産業分類_小分類コード'].str[0:2])\n",
    "\n",
    "\n",
    "print('df4_ex3_21'); display(df4_ex3_21.head())\n",
    "print(df4_ex3_21.shape) # 行数・列数のチェック"
   ]
  },
  {
   "cell_type": "code",
   "execution_count": 11,
   "metadata": {
    "ExecuteTime": {
     "end_time": "2021-05-18T08:57:46.060338Z",
     "start_time": "2021-05-18T08:57:45.883304Z"
    }
   },
   "outputs": [
    {
     "name": "stdout",
     "output_type": "stream",
     "text": [
      "df4_ex3_2\n"
     ]
    },
    {
     "data": {
      "text/html": [
       "<div>\n",
       "<style scoped>\n",
       "    .dataframe tbody tr th:only-of-type {\n",
       "        vertical-align: middle;\n",
       "    }\n",
       "\n",
       "    .dataframe tbody tr th {\n",
       "        vertical-align: top;\n",
       "    }\n",
       "\n",
       "    .dataframe thead th {\n",
       "        text-align: right;\n",
       "    }\n",
       "</style>\n",
       "<table border=\"1\" class=\"dataframe\">\n",
       "  <thead>\n",
       "    <tr style=\"text-align: right;\">\n",
       "      <th></th>\n",
       "      <th>日本標準産業分類中分類コード</th>\n",
       "      <th>日本標準産業分類中分類名</th>\n",
       "      <th>対象企業数</th>\n",
       "      <th>平均従業員数</th>\n",
       "    </tr>\n",
       "  </thead>\n",
       "  <tbody>\n",
       "    <tr>\n",
       "      <th>0</th>\n",
       "      <td>09</td>\n",
       "      <td>食料品製造業</td>\n",
       "      <td>180</td>\n",
       "      <td>18.750</td>\n",
       "    </tr>\n",
       "    <tr>\n",
       "      <th>1</th>\n",
       "      <td>10</td>\n",
       "      <td>飲料・たばこ・飼料製造業</td>\n",
       "      <td>28</td>\n",
       "      <td>14.750</td>\n",
       "    </tr>\n",
       "    <tr>\n",
       "      <th>2</th>\n",
       "      <td>11</td>\n",
       "      <td>繊維工業</td>\n",
       "      <td>143</td>\n",
       "      <td>16.336</td>\n",
       "    </tr>\n",
       "    <tr>\n",
       "      <th>3</th>\n",
       "      <td>12</td>\n",
       "      <td>木材・木製品製造業（家具を除く）</td>\n",
       "      <td>49</td>\n",
       "      <td>14.224</td>\n",
       "    </tr>\n",
       "    <tr>\n",
       "      <th>4</th>\n",
       "      <td>13</td>\n",
       "      <td>家具・装備品製造業</td>\n",
       "      <td>58</td>\n",
       "      <td>25.310</td>\n",
       "    </tr>\n",
       "  </tbody>\n",
       "</table>\n",
       "</div>"
      ],
      "text/plain": [
       "  日本標準産業分類中分類コード      日本標準産業分類中分類名  対象企業数  平均従業員数\n",
       "0             09            食料品製造業    180  18.750\n",
       "1             10      飲料・たばこ・飼料製造業     28  14.750\n",
       "2             11              繊維工業    143  16.336\n",
       "3             12  木材・木製品製造業（家具を除く）     49  14.224\n",
       "4             13         家具・装備品製造業     58  25.310"
      ]
     },
     "metadata": {},
     "output_type": "display_data"
    },
    {
     "name": "stdout",
     "output_type": "stream",
     "text": [
      "(25, 4)\n"
     ]
    }
   ],
   "source": [
    "# 日本標準産業分類別集計\n",
    "# 企業数\n",
    "df4_ex3_22 = df4_ex3_21.groupby(['日本標準産業分類中分類コード','日本標準産業分類_中分類名'], as_index=False)['企業コード'].count()\n",
    "\n",
    "# 平均従業員数\n",
    "df4_ex3_23 = df4_ex3_21.groupby(['日本標準産業分類中分類コード'], as_index=False)[\"従業員数\"].mean().round(3)\n",
    "\n",
    "# 横結合\n",
    "df4_ex3_2 = pd.merge(df4_ex3_22, df4_ex3_23,  on='日本標準産業分類中分類コード',how='inner')\n",
    "\n",
    "# カラム名前変更\n",
    "df4_ex3_2.rename(columns={'日本標準産業分類_中分類名':'日本標準産業分類中分類名','企業コード':'対象企業数','従業員数':'平均従業員数'},inplace=True)\n",
    "\n",
    "print('df4_ex3_2'); display(df4_ex3_2.head())\n",
    "print(df4_ex3_2.shape) # 行数・列数のチェック"
   ]
  },
  {
   "cell_type": "markdown",
   "metadata": {},
   "source": [
    "<br>\n",
    "\n",
    "*** \n",
    "<h3><font color='darkblue'>\n",
    "4. df4_ex2に，「日本標準産業分類中分類別の平均従業員数」より従業員数が多い企業は「01平均超」，従業員数が少ない企業に「02平均以下」という新たなカラム「従業員数区分」を追加したdf4_ex4を作成しなさい。<a name='EXE3_4'>\n",
    "</h3>\n",
    "\n",
    "*** \n",
    "\n",
    "* df4_ex4の作成条件<br><br>\n",
    "    * 項目：企業コード，従業員数，日本標準産業分類中分類名，従業員数区分<br><br>\n",
    "    * ソート順：企業コード"
   ]
  },
  {
   "cell_type": "code",
   "execution_count": 12,
   "metadata": {
    "ExecuteTime": {
     "end_time": "2021-05-18T08:57:46.354667Z",
     "start_time": "2021-05-18T08:57:46.064802Z"
    }
   },
   "outputs": [
    {
     "name": "stdout",
     "output_type": "stream",
     "text": [
      "df4_ex4\n"
     ]
    },
    {
     "data": {
      "text/html": [
       "<div>\n",
       "<style scoped>\n",
       "    .dataframe tbody tr th:only-of-type {\n",
       "        vertical-align: middle;\n",
       "    }\n",
       "\n",
       "    .dataframe tbody tr th {\n",
       "        vertical-align: top;\n",
       "    }\n",
       "\n",
       "    .dataframe thead th {\n",
       "        text-align: right;\n",
       "    }\n",
       "</style>\n",
       "<table border=\"1\" class=\"dataframe\">\n",
       "  <thead>\n",
       "    <tr style=\"text-align: right;\">\n",
       "      <th></th>\n",
       "      <th>企業コード</th>\n",
       "      <th>従業員数</th>\n",
       "      <th>日本標準産業分類中分類名</th>\n",
       "      <th>従業員数区分</th>\n",
       "    </tr>\n",
       "  </thead>\n",
       "  <tbody>\n",
       "    <tr>\n",
       "      <th>0</th>\n",
       "      <td>025314331</td>\n",
       "      <td>12</td>\n",
       "      <td>その他の製造業</td>\n",
       "      <td>02平均以下</td>\n",
       "    </tr>\n",
       "    <tr>\n",
       "      <th>712</th>\n",
       "      <td>025322378</td>\n",
       "      <td>8</td>\n",
       "      <td>はん用機械器具製造業</td>\n",
       "      <td>02平均以下</td>\n",
       "    </tr>\n",
       "    <tr>\n",
       "      <th>123</th>\n",
       "      <td>030018642</td>\n",
       "      <td>22</td>\n",
       "      <td>金属製品製造業</td>\n",
       "      <td>01平均超</td>\n",
       "    </tr>\n",
       "    <tr>\n",
       "      <th>1183</th>\n",
       "      <td>030019112</td>\n",
       "      <td>5</td>\n",
       "      <td>生産用機械器具製造業</td>\n",
       "      <td>02平均以下</td>\n",
       "    </tr>\n",
       "    <tr>\n",
       "      <th>1884</th>\n",
       "      <td>030019209</td>\n",
       "      <td>0</td>\n",
       "      <td>印刷・同関連業</td>\n",
       "      <td>02平均以下</td>\n",
       "    </tr>\n",
       "  </tbody>\n",
       "</table>\n",
       "</div>"
      ],
      "text/plain": [
       "          企業コード  従業員数 日本標準産業分類中分類名  従業員数区分\n",
       "0     025314331    12      その他の製造業  02平均以下\n",
       "712   025322378     8   はん用機械器具製造業  02平均以下\n",
       "123   030018642    22      金属製品製造業   01平均超\n",
       "1183  030019112     5   生産用機械器具製造業  02平均以下\n",
       "1884  030019209     0      印刷・同関連業  02平均以下"
      ]
     },
     "metadata": {},
     "output_type": "display_data"
    },
    {
     "name": "stdout",
     "output_type": "stream",
     "text": [
      "(2334, 4)\n"
     ]
    }
   ],
   "source": [
    "# 日本標準産業分類中分類コードを作成\n",
    "kg4_0=df4_ex2.assign(日本標準産業分類中分類コード=df4_ex2['日本標準産業分類_小分類コード'].str[0:2])\n",
    "\n",
    "# 横結合：\n",
    "kg4_1 = pd.merge(kg4_0, df4_ex3_2[['日本標準産業分類中分類コード','平均従業員数']],  on='日本標準産業分類中分類コード',how='inner')\n",
    "\n",
    "# フラグの作成\n",
    "kg4_1['従業員数区分'] = np.where((kg4_1['従業員数'] > kg4_1['平均従業員数']), '01平均超','02平均以下')\n",
    "\n",
    "# カラム名前変更\n",
    "kg4_1.rename(columns={'日本標準産業分類_中分類名':'日本標準産業分類中分類名'},inplace=True)\n",
    "kg4_2 = kg4_1[['企業コード','従業員数','日本標準産業分類中分類名','従業員数区分']]\n",
    "df4_ex4 = kg4_2.sort_values(['企業コード'],ascending=[True])\n",
    "\n",
    "print('df4_ex4'); display(df4_ex4.head())\n",
    "print(df4_ex4.shape) # 行数・列数のチェック"
   ]
  },
  {
   "cell_type": "markdown",
   "metadata": {},
   "source": [
    "<br>\n",
    "\n",
    "*** \n",
    "<h3><font color='darkblue'>\n",
    "5. df4_ex4と正解ファイルである「3章章末問題正解ファイル.csv」（inフォルダ内）を比較し，完全に一致するまでプログラムを修正しなさい。<a name='EXE3_5'>\n",
    "</h3>\n",
    "\n",
    "*** \n",
    "\n",
    "CSVで出力し、ExcelやCSV比較ソフトを利用するとよい.\n",
    "<br>また、OSシェルコマンドが使える場合はdiffコマンドを使用するとよい."
   ]
  },
  {
   "cell_type": "code",
   "execution_count": 13,
   "metadata": {
    "ExecuteTime": {
     "end_time": "2021-05-18T08:57:46.477505Z",
     "start_time": "2021-05-18T08:57:46.359273Z"
    }
   },
   "outputs": [],
   "source": [
    "# 従業員数の整数出力設定\n",
    "df4_ex4['従業員数'] = df4_ex4['従業員数'].map(lambda x: '{0:.0f}'.format(x))\n",
    "\n",
    "# CSV出力\n",
    "df4_ex4.to_csv(root_out +'3章章末問題_出力.csv',index=False,header=True, sep=',' )"
   ]
  },
  {
   "cell_type": "code",
   "execution_count": 14,
   "metadata": {
    "ExecuteTime": {
     "end_time": "2021-05-18T09:02:16.651117Z",
     "start_time": "2021-05-18T09:02:16.478703Z"
    }
   },
   "outputs": [],
   "source": [
    "#Jupyterでは!を先頭に付与することでOSシェルコマンドを実行できる.\n",
    "!diff ./in/3章章末問題正解ファイル.csv ./out/3章章末問題_出力.csv"
   ]
  }
 ],
 "metadata": {
  "kernelspec": {
   "display_name": "Python 3",
   "language": "python",
   "name": "python3"
  },
  "language_info": {
   "codemirror_mode": {
    "name": "ipython",
    "version": 3
   },
   "file_extension": ".py",
   "mimetype": "text/x-python",
   "name": "python",
   "nbconvert_exporter": "python",
   "pygments_lexer": "ipython3",
   "version": "3.8.5"
  }
 },
 "nbformat": 4,
 "nbformat_minor": 2
}
