{
 "cells": [
  {
   "cell_type": "markdown",
   "metadata": {},
   "source": [
    "### 前準備"
   ]
  },
  {
   "cell_type": "code",
   "execution_count": 1,
   "metadata": {
    "ExecuteTime": {
     "end_time": "2021-05-18T10:09:59.032578Z",
     "start_time": "2021-05-18T10:09:58.885281Z"
    }
   },
   "outputs": [],
   "source": [
    "#{コード3.1 3章の準備}\n",
    "import os\n",
    "from glob import glob\n",
    "import nysol.mcmd as nm\n",
    "\n",
    "os.makedirs('out_m',exist_ok=True)"
   ]
  },
  {
   "cell_type": "markdown",
   "metadata": {},
   "source": [
    "### 結合処理/集計処理"
   ]
  },
  {
   "cell_type": "code",
   "execution_count": 2,
   "metadata": {
    "ExecuteTime": {
     "end_time": "2021-05-18T10:09:59.095022Z",
     "start_time": "2021-05-18T10:09:59.036390Z"
    }
   },
   "outputs": [
    {
     "data": {
      "text/plain": [
       "'./in/4_company_sales_data1.csv'"
      ]
     },
     "metadata": {},
     "output_type": "display_data"
    },
    {
     "data": {
      "text/html": [
       "<style scoped>\n",
       ".dataframe tbody tr th:only-of-type {\n",
       "vertical-align: middle;\n",
       "}\n",
       ".dataframe tbody tr th {\n",
       "vertical-align: top;\n",
       "}\n",
       ".dataframe thead th {\n",
       "text-align: right;\n",
       "}\n",
       "</style>\n",
       "<div>\n",
       "<table class='dataframe'>\n",
       "<thead>\n",
       "<tr>\n",
       "<th></th>\n",
       "<th>\"企業管理コード\"</th>\n",
       "<th>\"決算期年\"</th>\n",
       "<th>\"売上高_百万円\"</th>\n",
       "<th>\"利益_千円\"</th>\n",
       "</tr>\n",
       "</thead>\n",
       "<tbody>\n",
       "<tr>\n",
       "<th>0</th>\n",
       "<td>A00115478</td>\n",
       "<td>2018</td>\n",
       "<td>337</td>\n",
       "<td>818</td>\n",
       "</tr>\n",
       "<tr>\n",
       "<th>1</th>\n",
       "<td>A00115478</td>\n",
       "<td>2019</td>\n",
       "<td>258</td>\n",
       "<td>1158</td>\n",
       "</tr>\n",
       "<tr>\n",
       "<th>2</th>\n",
       "<td>A00116790</td>\n",
       "<td>2018</td>\n",
       "<td>335</td>\n",
       "<td>1133</td>\n",
       "</tr>\n",
       "<tr>\n",
       "<th>3</th>\n",
       "<td>A00116790</td>\n",
       "<td>2019</td>\n",
       "<td>315</td>\n",
       "<td>1650</td>\n",
       "</tr>\n",
       "<tr>\n",
       "<th>4</th>\n",
       "<td>A03112202</td>\n",
       "<td>2018</td>\n",
       "<td>271</td>\n",
       "<td>1211</td>\n",
       "</tr>\n",
       "<tr>\n",
       "<th>...</th>\n",
       "<td>...</td>\n",
       "<td>...</td>\n",
       "<td>...</td>\n",
       "<td>...</td>\n",
       "</tr>\n",
       "<tr>\n",
       "<th>599</th>\n",
       "<td>A99103314</td>\n",
       "<td>2019</td>\n",
       "<td>267</td>\n",
       "<td>1036</td>\n",
       "</tr>\n",
       "</tbody>\n",
       "</table>\n",
       "</div>"
      ],
      "text/plain": [
       "<Nysol_Readcsv at 0x10f3d4340>"
      ]
     },
     "metadata": {},
     "output_type": "display_data"
    },
    {
     "data": {
      "text/plain": [
       "'./in/4_company_sales_data2.csv'"
      ]
     },
     "metadata": {},
     "output_type": "display_data"
    },
    {
     "data": {
      "text/html": [
       "<style scoped>\n",
       ".dataframe tbody tr th:only-of-type {\n",
       "vertical-align: middle;\n",
       "}\n",
       ".dataframe tbody tr th {\n",
       "vertical-align: top;\n",
       "}\n",
       ".dataframe thead th {\n",
       "text-align: right;\n",
       "}\n",
       "</style>\n",
       "<div>\n",
       "<table class='dataframe'>\n",
       "<thead>\n",
       "<tr>\n",
       "<th></th>\n",
       "<th>\"企業管理コード\"</th>\n",
       "<th>\"決算期年\"</th>\n",
       "<th>\"売上高_百万円\"</th>\n",
       "<th>\"利益_千円\"</th>\n",
       "</tr>\n",
       "</thead>\n",
       "<tbody>\n",
       "<tr>\n",
       "<th>0</th>\n",
       "<td>A03112202</td>\n",
       "<td>2018</td>\n",
       "<td>271</td>\n",
       "<td>1211</td>\n",
       "</tr>\n",
       "<tr>\n",
       "<th>1</th>\n",
       "<td>A03112202</td>\n",
       "<td>2019</td>\n",
       "<td>292</td>\n",
       "<td>1140</td>\n",
       "</tr>\n",
       "<tr>\n",
       "<th>2</th>\n",
       "<td>A04122803</td>\n",
       "<td>2018</td>\n",
       "<td>289</td>\n",
       "<td>1434</td>\n",
       "</tr>\n",
       "<tr>\n",
       "<th>3</th>\n",
       "<td>A04122803</td>\n",
       "<td>2019</td>\n",
       "<td>308</td>\n",
       "<td>769</td>\n",
       "</tr>\n",
       "<tr>\n",
       "<th>4</th>\n",
       "<td>A04122913</td>\n",
       "<td>2018</td>\n",
       "<td>348</td>\n",
       "<td>1355</td>\n",
       "</tr>\n",
       "<tr>\n",
       "<th>...</th>\n",
       "<td>...</td>\n",
       "<td>...</td>\n",
       "<td>...</td>\n",
       "<td>...</td>\n",
       "</tr>\n",
       "<tr>\n",
       "<th>599</th>\n",
       "<td>A99123699</td>\n",
       "<td>2019</td>\n",
       "<td>325</td>\n",
       "<td>200</td>\n",
       "</tr>\n",
       "</tbody>\n",
       "</table>\n",
       "</div>"
      ],
      "text/plain": [
       "<Nysol_Readcsv at 0x10df9bcd0>"
      ]
     },
     "metadata": {},
     "output_type": "display_data"
    },
    {
     "data": {
      "text/plain": [
       "'./in/4_company_attri_data.csv'"
      ]
     },
     "metadata": {},
     "output_type": "display_data"
    },
    {
     "data": {
      "text/html": [
       "<style scoped>\n",
       ".dataframe tbody tr th:only-of-type {\n",
       "vertical-align: middle;\n",
       "}\n",
       ".dataframe tbody tr th {\n",
       "vertical-align: top;\n",
       "}\n",
       ".dataframe thead th {\n",
       "text-align: right;\n",
       "}\n",
       "</style>\n",
       "<div>\n",
       "<table class='dataframe'>\n",
       "<thead>\n",
       "<tr>\n",
       "<th></th>\n",
       "<th>企業管理コード</th>\n",
       "<th>所在地_都道府県</th>\n",
       "<th>資本金_千円</th>\n",
       "<th>従業員数</th>\n",
       "</tr>\n",
       "</thead>\n",
       "<tbody>\n",
       "<tr>\n",
       "<th>0</th>\n",
       "<td>A01132330</td>\n",
       "<td>34_広島県</td>\n",
       "<td>913</td>\n",
       "<td>378</td>\n",
       "</tr>\n",
       "<tr>\n",
       "<th>1</th>\n",
       "<td>A03112202</td>\n",
       "<td>40_福岡県</td>\n",
       "<td>970</td>\n",
       "<td>88</td>\n",
       "</tr>\n",
       "<tr>\n",
       "<th>2</th>\n",
       "<td>A03124920</td>\n",
       "<td>24_三重県</td>\n",
       "<td>902</td>\n",
       "<td>148</td>\n",
       "</tr>\n",
       "<tr>\n",
       "<th>3</th>\n",
       "<td>A04113912</td>\n",
       "<td>40_福岡県</td>\n",
       "<td>1127</td>\n",
       "<td>72</td>\n",
       "</tr>\n",
       "<tr>\n",
       "<th>4</th>\n",
       "<td>A04116769</td>\n",
       "<td>13_東京都</td>\n",
       "<td>1037</td>\n",
       "<td>114</td>\n",
       "</tr>\n",
       "<tr>\n",
       "<th>...</th>\n",
       "<td>...</td>\n",
       "<td>...</td>\n",
       "<td>...</td>\n",
       "<td>...</td>\n",
       "</tr>\n",
       "<tr>\n",
       "<th>999</th>\n",
       "<td>A99127638</td>\n",
       "<td>45_宮崎県</td>\n",
       "<td>1076</td>\n",
       "<td>123</td>\n",
       "</tr>\n",
       "</tbody>\n",
       "</table>\n",
       "</div>"
      ],
      "text/plain": [
       "<Nysol_Readcsv at 0x10dfd3310>"
      ]
     },
     "metadata": {},
     "output_type": "display_data"
    }
   ],
   "source": [
    "# {コード3.28 3.5節の準備}\n",
    "file_sale1_1 = './in/4_company_sales_data1.csv'\n",
    "file_sale1_2 = './in/4_company_sales_data2.csv'\n",
    "file_info = './in/4_company_attri_data.csv'\n",
    "\n",
    "display(file_sale1_1, nm.p(file_sale1_1, head=5, tail=1))\n",
    "display(file_sale1_2, nm.p(file_sale1_2, head=5, tail=1))\n",
    "display(file_info, nm.p(file_info, head=5, tail=1))"
   ]
  },
  {
   "cell_type": "code",
   "execution_count": 3,
   "metadata": {
    "ExecuteTime": {
     "end_time": "2021-05-18T10:09:59.125680Z",
     "start_time": "2021-05-18T10:09:59.099581Z"
    }
   },
   "outputs": [
    {
     "name": "stderr",
     "output_type": "stream",
     "text": [
      "#END# kgcat i=./in/4_company_sales_data1.csv,./in/4_company_sales_data2.csv o=./out_m/df_sale2_1.csv; IN=1200 OUT=1200; 2021/05/18 19:09:59; 2021/05/18 19:09:59\n"
     ]
    },
    {
     "data": {
      "text/plain": [
       "'./out_m/df_sale2_1.csv'"
      ]
     },
     "metadata": {},
     "output_type": "display_data"
    },
    {
     "data": {
      "text/html": [
       "<style scoped>\n",
       ".dataframe tbody tr th:only-of-type {\n",
       "vertical-align: middle;\n",
       "}\n",
       ".dataframe tbody tr th {\n",
       "vertical-align: top;\n",
       "}\n",
       ".dataframe thead th {\n",
       "text-align: right;\n",
       "}\n",
       "</style>\n",
       "<div>\n",
       "<table class='dataframe'>\n",
       "<thead>\n",
       "<tr>\n",
       "<th></th>\n",
       "<th>企業管理コード</th>\n",
       "<th>決算期年</th>\n",
       "<th>売上高_百万円</th>\n",
       "<th>利益_千円</th>\n",
       "</tr>\n",
       "</thead>\n",
       "<tbody>\n",
       "<tr>\n",
       "<th>0</th>\n",
       "<td>A00115478</td>\n",
       "<td>2018</td>\n",
       "<td>337</td>\n",
       "<td>818</td>\n",
       "</tr>\n",
       "<tr>\n",
       "<th>1</th>\n",
       "<td>A00115478</td>\n",
       "<td>2019</td>\n",
       "<td>258</td>\n",
       "<td>1158</td>\n",
       "</tr>\n",
       "<tr>\n",
       "<th>2</th>\n",
       "<td>A00116790</td>\n",
       "<td>2018</td>\n",
       "<td>335</td>\n",
       "<td>1133</td>\n",
       "</tr>\n",
       "<tr>\n",
       "<th>3</th>\n",
       "<td>A00116790</td>\n",
       "<td>2019</td>\n",
       "<td>315</td>\n",
       "<td>1650</td>\n",
       "</tr>\n",
       "<tr>\n",
       "<th>4</th>\n",
       "<td>A03112202</td>\n",
       "<td>2018</td>\n",
       "<td>271</td>\n",
       "<td>1211</td>\n",
       "</tr>\n",
       "<tr>\n",
       "<th>...</th>\n",
       "<td>...</td>\n",
       "<td>...</td>\n",
       "<td>...</td>\n",
       "<td>...</td>\n",
       "</tr>\n",
       "<tr>\n",
       "<th>1199</th>\n",
       "<td>A99123699</td>\n",
       "<td>2019</td>\n",
       "<td>325</td>\n",
       "<td>200</td>\n",
       "</tr>\n",
       "</tbody>\n",
       "</table>\n",
       "</div>"
      ],
      "text/plain": [
       "<Nysol_Readcsv at 0x10f3caf10>"
      ]
     },
     "metadata": {},
     "output_type": "display_data"
    }
   ],
   "source": [
    "# {コード3.29 縦結合}\n",
    "file_sale2_1='./out_m/df_sale2_1.csv'\n",
    "#同項目のファイルを結合する場合はnm.mcat()メソッドを使用する.\n",
    "#  i=パラメータに結合するファイルパスをカンマ区切りの文字列で指定する.\n",
    "f=None\n",
    "f<<=nm.mcat(i=','.join([file_sale1_1, file_sale1_2]), o=file_sale2_1)\n",
    "f.run(msg=\"on\")\n",
    "\n",
    "display(file_sale2_1, nm.p(file_sale2_1, head=5, tail=1))"
   ]
  },
  {
   "cell_type": "code",
   "execution_count": 4,
   "metadata": {
    "ExecuteTime": {
     "end_time": "2021-05-18T10:09:59.254484Z",
     "start_time": "2021-05-18T10:09:59.130350Z"
    }
   },
   "outputs": [
    {
     "name": "stderr",
     "output_type": "stream",
     "text": [
      "#END# kguniq i=./out_m/df_sale2_1.csv k=企業管理コード,決算期年; IN=1200 OUT=1034; 2021/05/18 19:09:59; 2021/05/18 19:09:59\n",
      "#END# kgsortf f=企業管理コード,決算期年 o=./out_m/df_sale2_3.csv; IN=1034 OUT=1034; 2021/05/18 19:09:59; 2021/05/18 19:09:59\n"
     ]
    },
    {
     "data": {
      "text/plain": [
       "'./out_m/df_sale2_3.csv'"
      ]
     },
     "metadata": {},
     "output_type": "display_data"
    },
    {
     "data": {
      "text/html": [
       "<style scoped>\n",
       ".dataframe tbody tr th:only-of-type {\n",
       "vertical-align: middle;\n",
       "}\n",
       ".dataframe tbody tr th {\n",
       "vertical-align: top;\n",
       "}\n",
       ".dataframe thead th {\n",
       "text-align: right;\n",
       "}\n",
       "</style>\n",
       "<div>\n",
       "<table class='dataframe'>\n",
       "<thead>\n",
       "<tr>\n",
       "<th></th>\n",
       "<th>企業管理コード</th>\n",
       "<th>決算期年</th>\n",
       "<th>売上高_百万円</th>\n",
       "<th>利益_千円</th>\n",
       "</tr>\n",
       "</thead>\n",
       "<tbody>\n",
       "<tr>\n",
       "<th>0</th>\n",
       "<td>A00115478</td>\n",
       "<td>2018</td>\n",
       "<td>337</td>\n",
       "<td>818</td>\n",
       "</tr>\n",
       "<tr>\n",
       "<th>1</th>\n",
       "<td>A00115478</td>\n",
       "<td>2019</td>\n",
       "<td>258</td>\n",
       "<td>1158</td>\n",
       "</tr>\n",
       "<tr>\n",
       "<th>2</th>\n",
       "<td>A00116790</td>\n",
       "<td>2018</td>\n",
       "<td>335</td>\n",
       "<td>1133</td>\n",
       "</tr>\n",
       "<tr>\n",
       "<th>3</th>\n",
       "<td>A00116790</td>\n",
       "<td>2019</td>\n",
       "<td>315</td>\n",
       "<td>1650</td>\n",
       "</tr>\n",
       "<tr>\n",
       "<th>4</th>\n",
       "<td>A03112202</td>\n",
       "<td>2018</td>\n",
       "<td>271</td>\n",
       "<td>1211</td>\n",
       "</tr>\n",
       "<tr>\n",
       "<th>...</th>\n",
       "<td>...</td>\n",
       "<td>...</td>\n",
       "<td>...</td>\n",
       "<td>...</td>\n",
       "</tr>\n",
       "<tr>\n",
       "<th>1033</th>\n",
       "<td>A99123699</td>\n",
       "<td>2019</td>\n",
       "<td>325</td>\n",
       "<td>200</td>\n",
       "</tr>\n",
       "</tbody>\n",
       "</table>\n",
       "</div>"
      ],
      "text/plain": [
       "<Nysol_Readcsv at 0x10f3caf40>"
      ]
     },
     "metadata": {},
     "output_type": "display_data"
    }
   ],
   "source": [
    "# {コード3.30 縦結合後の推奨処理}\n",
    "file_sale2_3='./out_m/df_sale2_3.csv'\n",
    "#重複行を単一化するにはnm.muniq()メソッドを使用する.\n",
    "#  k=パラメータに行を単一化する単位となる項目名（複数指定可）を指定する.\n",
    "f=None\n",
    "f<<=nm.muniq(i=file_sale2_1, k='企業管理コード,決算期年')\n",
    "f<<=nm.msortf(f='企業管理コード,決算期年', o=file_sale2_3)\n",
    "f.run(msg=\"on\")\n",
    "\n",
    "display(file_sale2_3, nm.p(file_sale2_3, head=5, tail=1))"
   ]
  },
  {
   "cell_type": "code",
   "execution_count": 5,
   "metadata": {
    "ExecuteTime": {
     "end_time": "2021-05-18T10:09:59.334618Z",
     "start_time": "2021-05-18T10:09:59.258621Z"
    }
   },
   "outputs": [
    {
     "name": "stderr",
     "output_type": "stream",
     "text": [
      "#END# kg2cat i=./in/4_company_sales_data1.csv,./in/4_company_sales_data2.csv o=./out_m/df_sale2_1a.csv; IN=1200 OUT=1200; 2021/05/18 19:09:59; 2021/05/18 19:09:59\n"
     ]
    },
    {
     "data": {
      "text/plain": [
       "'./out_m/df_sale2_1a.csv'"
      ]
     },
     "metadata": {},
     "output_type": "display_data"
    },
    {
     "data": {
      "text/html": [
       "<style scoped>\n",
       ".dataframe tbody tr th:only-of-type {\n",
       "vertical-align: middle;\n",
       "}\n",
       ".dataframe tbody tr th {\n",
       "vertical-align: top;\n",
       "}\n",
       ".dataframe thead th {\n",
       "text-align: right;\n",
       "}\n",
       "</style>\n",
       "<div>\n",
       "<table class='dataframe'>\n",
       "<thead>\n",
       "<tr>\n",
       "<th></th>\n",
       "<th>企業管理コード</th>\n",
       "<th>決算期年</th>\n",
       "<th>売上高_百万円</th>\n",
       "<th>利益_千円</th>\n",
       "</tr>\n",
       "</thead>\n",
       "<tbody>\n",
       "<tr>\n",
       "<th>0</th>\n",
       "<td>A00115478</td>\n",
       "<td>2018</td>\n",
       "<td>337</td>\n",
       "<td>818</td>\n",
       "</tr>\n",
       "<tr>\n",
       "<th>1</th>\n",
       "<td>A00115478</td>\n",
       "<td>2019</td>\n",
       "<td>258</td>\n",
       "<td>1158</td>\n",
       "</tr>\n",
       "<tr>\n",
       "<th>2</th>\n",
       "<td>A00116790</td>\n",
       "<td>2018</td>\n",
       "<td>335</td>\n",
       "<td>1133</td>\n",
       "</tr>\n",
       "<tr>\n",
       "<th>3</th>\n",
       "<td>A00116790</td>\n",
       "<td>2019</td>\n",
       "<td>315</td>\n",
       "<td>1650</td>\n",
       "</tr>\n",
       "<tr>\n",
       "<th>4</th>\n",
       "<td>A03112202</td>\n",
       "<td>2018</td>\n",
       "<td>271</td>\n",
       "<td>1211</td>\n",
       "</tr>\n",
       "<tr>\n",
       "<th>...</th>\n",
       "<td>...</td>\n",
       "<td>...</td>\n",
       "<td>...</td>\n",
       "<td>...</td>\n",
       "</tr>\n",
       "<tr>\n",
       "<th>1199</th>\n",
       "<td>A99123699</td>\n",
       "<td>2019</td>\n",
       "<td>325</td>\n",
       "<td>200</td>\n",
       "</tr>\n",
       "</tbody>\n",
       "</table>\n",
       "</div>"
      ],
      "text/plain": [
       "<Nysol_Readcsv at 0x115887940>"
      ]
     },
     "metadata": {},
     "output_type": "display_data"
    }
   ],
   "source": [
    "# {コード3.31 リストを用いた一括読み込み処理}\n",
    "all_csv_files2 = [file for file in glob(os.path.join('./in/*_sales_*.csv'))]\n",
    "file_sale2_1a='./out_m/df_sale2_1a.csv'\n",
    "#同項目の複数ファイルのパスを格納したリストを対象にファイルを結合する場合はnm.m2cat()メソッドを使用する.\n",
    "#  i=パラメータに対象ファイルパスのリストを指定する.\n",
    "f=None\n",
    "f<<=nm.m2cat(i=all_csv_files2, o=file_sale2_1a)\n",
    "f.run(msg=\"on\")\n",
    "\n",
    "display(file_sale2_1a, nm.p(file_sale2_1a, head=5, tail=1))"
   ]
  },
  {
   "cell_type": "code",
   "execution_count": 6,
   "metadata": {
    "ExecuteTime": {
     "end_time": "2021-05-18T10:09:59.484156Z",
     "start_time": "2021-05-18T10:09:59.358632Z"
    }
   },
   "outputs": [
    {
     "name": "stderr",
     "output_type": "stream",
     "text": [
      "#END# kgjoin -n i=./out_m/df_sale2_3.csv k=企業管理コード m=./in/4_company_attri_data.csv o=./out_m/df_mer1.csv; IN=1034 OUT=1034; 2021/05/18 19:09:59; 2021/05/18 19:09:59\n"
     ]
    },
    {
     "data": {
      "text/plain": [
       "'./out_m/df_mer1.csv'"
      ]
     },
     "metadata": {},
     "output_type": "display_data"
    },
    {
     "data": {
      "text/html": [
       "<style scoped>\n",
       ".dataframe tbody tr th:only-of-type {\n",
       "vertical-align: middle;\n",
       "}\n",
       ".dataframe tbody tr th {\n",
       "vertical-align: top;\n",
       "}\n",
       ".dataframe thead th {\n",
       "text-align: right;\n",
       "}\n",
       "</style>\n",
       "<div>\n",
       "<table class='dataframe'>\n",
       "<thead>\n",
       "<tr>\n",
       "<th></th>\n",
       "<th>企業管理コード</th>\n",
       "<th>決算期年</th>\n",
       "<th>売上高_百万円</th>\n",
       "<th>利益_千円</th>\n",
       "<th>所在地_都道府県</th>\n",
       "<th>資本金_千円</th>\n",
       "<th>従業員数</th>\n",
       "</tr>\n",
       "</thead>\n",
       "<tbody>\n",
       "<tr>\n",
       "<th>0</th>\n",
       "<td>A00115478</td>\n",
       "<td>2018</td>\n",
       "<td>337</td>\n",
       "<td>818</td>\n",
       "<td>29_奈良県</td>\n",
       "<td>1066</td>\n",
       "<td>102</td>\n",
       "</tr>\n",
       "<tr>\n",
       "<th>1</th>\n",
       "<td>A00115478</td>\n",
       "<td>2019</td>\n",
       "<td>258</td>\n",
       "<td>1158</td>\n",
       "<td>29_奈良県</td>\n",
       "<td>1066</td>\n",
       "<td>102</td>\n",
       "</tr>\n",
       "<tr>\n",
       "<th>2</th>\n",
       "<td>A00116790</td>\n",
       "<td>2018</td>\n",
       "<td>335</td>\n",
       "<td>1133</td>\n",
       "<td>38_愛媛県</td>\n",
       "<td>1166</td>\n",
       "<td>91</td>\n",
       "</tr>\n",
       "<tr>\n",
       "<th>3</th>\n",
       "<td>A00116790</td>\n",
       "<td>2019</td>\n",
       "<td>315</td>\n",
       "<td>1650</td>\n",
       "<td>38_愛媛県</td>\n",
       "<td>1166</td>\n",
       "<td>91</td>\n",
       "</tr>\n",
       "<tr>\n",
       "<th>4</th>\n",
       "<td>A03112202</td>\n",
       "<td>2018</td>\n",
       "<td>271</td>\n",
       "<td>1211</td>\n",
       "<td>40_福岡県</td>\n",
       "<td>970</td>\n",
       "<td>88</td>\n",
       "</tr>\n",
       "<tr>\n",
       "<th>...</th>\n",
       "<td>...</td>\n",
       "<td>...</td>\n",
       "<td>...</td>\n",
       "<td>...</td>\n",
       "<td>...</td>\n",
       "<td>...</td>\n",
       "<td>...</td>\n",
       "</tr>\n",
       "<tr>\n",
       "<th>1033</th>\n",
       "<td>A99123699</td>\n",
       "<td>2019</td>\n",
       "<td>325</td>\n",
       "<td>200</td>\n",
       "<td>43_熊本県</td>\n",
       "<td>1119</td>\n",
       "<td>79</td>\n",
       "</tr>\n",
       "</tbody>\n",
       "</table>\n",
       "</div>"
      ],
      "text/plain": [
       "<Nysol_Readcsv at 0x115887dc0>"
      ]
     },
     "metadata": {},
     "output_type": "display_data"
    }
   ],
   "source": [
    "# {コード3.32 データの横結合}\n",
    "file_mer1='./out_m/df_mer1.csv'\n",
    "#参照ファイルの項目結合にはnm.mjoin()メソッドを使用する.\n",
    "#  i=パラメータに対象ファイル, m=オプションに参照ファイルを指定し, k=パラメータに結合条件の項目を指定する.\n",
    "#  N=Trueオプションを指定すると, 入力データにない参照データをNULL値として出力する.\n",
    "#  n=Trueオプションを指定すると, 参照データにない入力データをNULL値として出力する.\n",
    "f=None\n",
    "f<<=nm.mjoin(i=file_sale2_3, m=file_info, k='企業管理コード', n=True, o=file_mer1)\n",
    "f.run(msg=\"on\")\n",
    "\n",
    "display(file_mer1, nm.p(file_mer1, head=5, tail=1))"
   ]
  },
  {
   "cell_type": "code",
   "execution_count": 7,
   "metadata": {
    "ExecuteTime": {
     "end_time": "2021-05-18T10:09:59.638241Z",
     "start_time": "2021-05-18T10:09:59.499441Z"
    },
    "scrolled": true
   },
   "outputs": [
    {
     "name": "stderr",
     "output_type": "stream",
     "text": [
      "#END# kgsetstr a=dummy i=./out_m/df_mer1.csv v=Value; IN=1034 OUT=1034; 2021/05/18 19:09:59; 2021/05/18 19:09:59\n",
      "#END# kgcross a=variable f=売上高_百万円,利益_千円 k=企業管理コード,決算期年 o=./out_m/df_mer1_1.csv s=dummy; IN=1034 OUT=2068; 2021/05/18 19:09:59; 2021/05/18 19:09:59\n"
     ]
    },
    {
     "data": {
      "text/plain": [
       "'./out_m/df_mer1_1.csv'"
      ]
     },
     "metadata": {},
     "output_type": "display_data"
    },
    {
     "data": {
      "text/html": [
       "<style scoped>\n",
       ".dataframe tbody tr th:only-of-type {\n",
       "vertical-align: middle;\n",
       "}\n",
       ".dataframe tbody tr th {\n",
       "vertical-align: top;\n",
       "}\n",
       ".dataframe thead th {\n",
       "text-align: right;\n",
       "}\n",
       "</style>\n",
       "<div>\n",
       "<table class='dataframe'>\n",
       "<thead>\n",
       "<tr>\n",
       "<th></th>\n",
       "<th>企業管理コード</th>\n",
       "<th>決算期年</th>\n",
       "<th>variable</th>\n",
       "<th>Value</th>\n",
       "</tr>\n",
       "</thead>\n",
       "<tbody>\n",
       "<tr>\n",
       "<th>0</th>\n",
       "<td>A00115478</td>\n",
       "<td>2018</td>\n",
       "<td>売上高_百万円</td>\n",
       "<td>337</td>\n",
       "</tr>\n",
       "<tr>\n",
       "<th>1</th>\n",
       "<td>A00115478</td>\n",
       "<td>2018</td>\n",
       "<td>利益_千円</td>\n",
       "<td>818</td>\n",
       "</tr>\n",
       "<tr>\n",
       "<th>2</th>\n",
       "<td>A00115478</td>\n",
       "<td>2019</td>\n",
       "<td>売上高_百万円</td>\n",
       "<td>258</td>\n",
       "</tr>\n",
       "<tr>\n",
       "<th>3</th>\n",
       "<td>A00115478</td>\n",
       "<td>2019</td>\n",
       "<td>利益_千円</td>\n",
       "<td>1158</td>\n",
       "</tr>\n",
       "<tr>\n",
       "<th>4</th>\n",
       "<td>A00116790</td>\n",
       "<td>2018</td>\n",
       "<td>売上高_百万円</td>\n",
       "<td>335</td>\n",
       "</tr>\n",
       "<tr>\n",
       "<th>...</th>\n",
       "<td>...</td>\n",
       "<td>...</td>\n",
       "<td>...</td>\n",
       "<td>...</td>\n",
       "</tr>\n",
       "<tr>\n",
       "<th>2067</th>\n",
       "<td>A99123699</td>\n",
       "<td>2019</td>\n",
       "<td>利益_千円</td>\n",
       "<td>200</td>\n",
       "</tr>\n",
       "</tbody>\n",
       "</table>\n",
       "</div>"
      ],
      "text/plain": [
       "<Nysol_Readcsv at 0x10df9bbe0>"
      ]
     },
     "metadata": {},
     "output_type": "display_data"
    }
   ],
   "source": [
    "# {コード3.33 売上高と利益の縦構造化}\n",
    "file_mer1_1='./out_m/df_mer1_1.csv'\n",
    "#横展開されている項目を行展開するにはnm.mcross()メソッドを利用する.\n",
    "#  k=パラメータに行の単位となるキー項目, f=パラメータに行展開する項目名, a=項目に行展開後の値をセットする項目名を指定する.\n",
    "#  nm.mcross()は本来クロス集計のデータ変換を実行するものであるため、事前にダミー軸の項目をnum.setstr()メソッドで作成しておく.\n",
    "f=None\n",
    "f<<=nm.msetstr(i=file_mer1, v='Value', a='dummy')\n",
    "f<<=nm.mcross(k='企業管理コード,決算期年', s='dummy', f='売上高_百万円,利益_千円', a='variable', o=file_mer1_1)\n",
    "f.run(msg=\"on\")\n",
    "\n",
    "display(file_mer1_1, nm.p(file_mer1_1, head=5, tail=1))"
   ]
  },
  {
   "cell_type": "code",
   "execution_count": 8,
   "metadata": {
    "ExecuteTime": {
     "end_time": "2021-05-18T10:09:59.696383Z",
     "start_time": "2021-05-18T10:09:59.645137Z"
    },
    "scrolled": true
   },
   "outputs": [
    {
     "name": "stderr",
     "output_type": "stream",
     "text": [
      "#END# kgavg f=売上高_百万円 i=./out_m/df_mer1.csv k=決算期年,所在地_都道府県; IN=1034 OUT=94; 2021/05/18 19:09:59; 2021/05/18 19:09:59\n",
      "#END# kgcut f=決算期年,所在地_都道府県,売上高_百万円 o=./out_m/df_mer2.csv; IN=94 OUT=94; 2021/05/18 19:09:59; 2021/05/18 19:09:59\n"
     ]
    },
    {
     "data": {
      "text/plain": [
       "'./out_m/df_mer2.csv'"
      ]
     },
     "metadata": {},
     "output_type": "display_data"
    },
    {
     "data": {
      "text/html": [
       "<style scoped>\n",
       ".dataframe tbody tr th:only-of-type {\n",
       "vertical-align: middle;\n",
       "}\n",
       ".dataframe tbody tr th {\n",
       "vertical-align: top;\n",
       "}\n",
       ".dataframe thead th {\n",
       "text-align: right;\n",
       "}\n",
       "</style>\n",
       "<div>\n",
       "<table class='dataframe'>\n",
       "<thead>\n",
       "<tr>\n",
       "<th></th>\n",
       "<th>決算期年</th>\n",
       "<th>所在地_都道府県</th>\n",
       "<th>売上高_百万円</th>\n",
       "</tr>\n",
       "</thead>\n",
       "<tbody>\n",
       "<tr>\n",
       "<th>0</th>\n",
       "<td>2018</td>\n",
       "<td>01_北海道</td>\n",
       "<td>298.6086957</td>\n",
       "</tr>\n",
       "<tr>\n",
       "<th>1</th>\n",
       "<td>2018</td>\n",
       "<td>02_青森県</td>\n",
       "<td>280</td>\n",
       "</tr>\n",
       "<tr>\n",
       "<th>2</th>\n",
       "<td>2018</td>\n",
       "<td>03_岩手県</td>\n",
       "<td>304.5</td>\n",
       "</tr>\n",
       "<tr>\n",
       "<th>3</th>\n",
       "<td>2018</td>\n",
       "<td>04_宮城県</td>\n",
       "<td>289.7272727</td>\n",
       "</tr>\n",
       "<tr>\n",
       "<th>4</th>\n",
       "<td>2018</td>\n",
       "<td>05_秋田県</td>\n",
       "<td>269.5</td>\n",
       "</tr>\n",
       "<tr>\n",
       "<th>...</th>\n",
       "<td>...</td>\n",
       "<td>...</td>\n",
       "<td>...</td>\n",
       "</tr>\n",
       "<tr>\n",
       "<th>93</th>\n",
       "<td>2019</td>\n",
       "<td>47_沖縄県</td>\n",
       "<td>316</td>\n",
       "</tr>\n",
       "</tbody>\n",
       "</table>\n",
       "</div>"
      ],
      "text/plain": [
       "<Nysol_Readcsv at 0x115887a00>"
      ]
     },
     "metadata": {},
     "output_type": "display_data"
    }
   ],
   "source": [
    "# {コード3.34 区分別の売上高の平均}\n",
    "file_mer2='./out_m/df_mer2.csv'\n",
    "#平均値の計算はnm.mavg()メソッドを利用する.\n",
    "#  k=パラメータに行の単位となるキー項目, f=パラメータに平均値を計算する項目名を指定する.\n",
    "f=None\n",
    "f<<=nm.mavg(i=file_mer1, k='決算期年,所在地_都道府県',  f='売上高_百万円')\n",
    "f<<=nm.mcut(f='決算期年,所在地_都道府県,売上高_百万円', o=file_mer2)\n",
    "f.run(msg=\"on\")\n",
    "\n",
    "display(file_mer2, nm.p(file_mer2, head=5, tail=1))"
   ]
  },
  {
   "cell_type": "code",
   "execution_count": 9,
   "metadata": {
    "ExecuteTime": {
     "end_time": "2021-05-18T10:09:59.770073Z",
     "start_time": "2021-05-18T10:09:59.704831Z"
    }
   },
   "outputs": [
    {
     "data": {
      "text/plain": [
       "'./out_m/df_mer3.csv'"
      ]
     },
     "metadata": {},
     "output_type": "display_data"
    },
    {
     "data": {
      "text/html": [
       "<style scoped>\n",
       ".dataframe tbody tr th:only-of-type {\n",
       "vertical-align: middle;\n",
       "}\n",
       ".dataframe tbody tr th {\n",
       "vertical-align: top;\n",
       "}\n",
       ".dataframe thead th {\n",
       "text-align: right;\n",
       "}\n",
       "</style>\n",
       "<div>\n",
       "<table class='dataframe'>\n",
       "<thead>\n",
       "<tr>\n",
       "<th></th>\n",
       "<th>単語</th>\n",
       "<th>文章</th>\n",
       "</tr>\n",
       "</thead>\n",
       "<tbody>\n",
       "<tr>\n",
       "<th>0</th>\n",
       "<td>激安</td>\n",
       "<td>D1</td>\n",
       "</tr>\n",
       "<tr>\n",
       "<th>1</th>\n",
       "<td>激安</td>\n",
       "<td>D1</td>\n",
       "</tr>\n",
       "<tr>\n",
       "<th>2</th>\n",
       "<td>限定</td>\n",
       "<td>D1</td>\n",
       "</tr>\n",
       "<tr>\n",
       "<th>3</th>\n",
       "<td>高速</td>\n",
       "<td>D1</td>\n",
       "</tr>\n",
       "<tr>\n",
       "<th>4</th>\n",
       "<td>学習</td>\n",
       "<td>D2</td>\n",
       "</tr>\n",
       "<tr>\n",
       "<th>5</th>\n",
       "<td>高速</td>\n",
       "<td>D2</td>\n",
       "</tr>\n",
       "<tr>\n",
       "<th>6</th>\n",
       "<td>AI</td>\n",
       "<td>D2</td>\n",
       "</tr>\n",
       "<tr>\n",
       "<th>...</th>\n",
       "<td>...</td>\n",
       "<td>...</td>\n",
       "</tr>\n",
       "<tr>\n",
       "<th>9</th>\n",
       "<td>AI</td>\n",
       "<td>D2</td>\n",
       "</tr>\n",
       "</tbody>\n",
       "</table>\n",
       "</div>"
      ],
      "text/plain": [
       "<Nysol_Readcsv at 0x10df36cd0>"
      ]
     },
     "metadata": {},
     "output_type": "display_data"
    }
   ],
   "source": [
    "# {コード3.35 データの生成}\n",
    "col1=['単語',\"激安\",\"激安\",\"限定\",\"高速\",\"学習\",\"高速\",\"AI\",\"学習\",\"AI\",\"AI\"]\n",
    "col2=['文章', \"D1\",\"D1\",\"D1\",\"D1\",\"D2\",\"D2\",\"D2\",\"D2\",\"D2\",\"D2\"]\n",
    "\n",
    "file_mer3='./out_m/df_mer3.csv'\n",
    "with open(file_mer3, mode='w') as f:\n",
    "    for c1,c2 in zip(col1,col2):\n",
    "        print(','.join([c1,c2]), file=f)\n",
    "\n",
    "display(file_mer3, nm.p(file_mer3, head=7, tail=1))"
   ]
  },
  {
   "cell_type": "code",
   "execution_count": 10,
   "metadata": {
    "ExecuteTime": {
     "end_time": "2021-05-18T10:09:59.954362Z",
     "start_time": "2021-05-18T10:09:59.783331Z"
    }
   },
   "outputs": [
    {
     "name": "stderr",
     "output_type": "stream",
     "text": [
      "#END# kgcal a=w_単語 c=\"w_\"+$s{単語} o=./out_m/df_mer3_1.csv; IN=6 OUT=6; 2021/05/18 19:09:59; 2021/05/18 19:09:59\n",
      "#END# kgcount a=cnt i=./out_m/df_mer3.csv k=文章,単語; IN=10 OUT=6; 2021/05/18 19:09:59; 2021/05/18 19:09:59\n"
     ]
    },
    {
     "data": {
      "text/plain": [
       "'./out_m/df_mer3_1.csv'"
      ]
     },
     "metadata": {},
     "output_type": "display_data"
    },
    {
     "data": {
      "text/html": [
       "<style scoped>\n",
       ".dataframe tbody tr th:only-of-type {\n",
       "vertical-align: middle;\n",
       "}\n",
       ".dataframe tbody tr th {\n",
       "vertical-align: top;\n",
       "}\n",
       ".dataframe thead th {\n",
       "text-align: right;\n",
       "}\n",
       "</style>\n",
       "<div>\n",
       "<table class='dataframe'>\n",
       "<thead>\n",
       "<tr>\n",
       "<th></th>\n",
       "<th>単語</th>\n",
       "<th>文章</th>\n",
       "<th>cnt</th>\n",
       "<th>w_単語</th>\n",
       "</tr>\n",
       "</thead>\n",
       "<tbody>\n",
       "<tr>\n",
       "<th>0</th>\n",
       "<td>激安</td>\n",
       "<td>D1</td>\n",
       "<td>2</td>\n",
       "<td>w_激安</td>\n",
       "</tr>\n",
       "<tr>\n",
       "<th>1</th>\n",
       "<td>限定</td>\n",
       "<td>D1</td>\n",
       "<td>1</td>\n",
       "<td>w_限定</td>\n",
       "</tr>\n",
       "<tr>\n",
       "<th>2</th>\n",
       "<td>高速</td>\n",
       "<td>D1</td>\n",
       "<td>1</td>\n",
       "<td>w_高速</td>\n",
       "</tr>\n",
       "<tr>\n",
       "<th>3</th>\n",
       "<td>AI</td>\n",
       "<td>D2</td>\n",
       "<td>3</td>\n",
       "<td>w_AI</td>\n",
       "</tr>\n",
       "<tr>\n",
       "<th>4</th>\n",
       "<td>学習</td>\n",
       "<td>D2</td>\n",
       "<td>2</td>\n",
       "<td>w_学習</td>\n",
       "</tr>\n",
       "<tr>\n",
       "<th>5</th>\n",
       "<td>高速</td>\n",
       "<td>D2</td>\n",
       "<td>1</td>\n",
       "<td>w_高速</td>\n",
       "</tr>\n",
       "</tbody>\n",
       "</table>\n",
       "</div>"
      ],
      "text/plain": [
       "<Nysol_Readcsv at 0x10df363a0>"
      ]
     },
     "metadata": {},
     "output_type": "display_data"
    },
    {
     "name": "stderr",
     "output_type": "stream",
     "text": [
      "#END# kgcut -r f=単語 i=./out_m/df_mer3_1.csv; IN=6 OUT=6; 2021/05/18 19:09:59; 2021/05/18 19:09:59\n",
      "#END# kg2cross f=cnt k=文章 o=./out_m/df_mer3_2.csv s=w_単語 v=0; IN=6 OUT=2; 2021/05/18 19:09:59; 2021/05/18 19:09:59\n"
     ]
    },
    {
     "data": {
      "text/plain": [
       "'./out_m/df_mer3_2.csv'"
      ]
     },
     "metadata": {},
     "output_type": "display_data"
    },
    {
     "data": {
      "text/html": [
       "<style scoped>\n",
       ".dataframe tbody tr th:only-of-type {\n",
       "vertical-align: middle;\n",
       "}\n",
       ".dataframe tbody tr th {\n",
       "vertical-align: top;\n",
       "}\n",
       ".dataframe thead th {\n",
       "text-align: right;\n",
       "}\n",
       "</style>\n",
       "<div>\n",
       "<table class='dataframe'>\n",
       "<thead>\n",
       "<tr>\n",
       "<th></th>\n",
       "<th>文章</th>\n",
       "<th>w_AI</th>\n",
       "<th>w_学習</th>\n",
       "<th>w_激安</th>\n",
       "<th>w_限定</th>\n",
       "<th>w_高速</th>\n",
       "</tr>\n",
       "</thead>\n",
       "<tbody>\n",
       "<tr>\n",
       "<th>0</th>\n",
       "<td>D1</td>\n",
       "<td>0</td>\n",
       "<td>0</td>\n",
       "<td>2</td>\n",
       "<td>1</td>\n",
       "<td>1</td>\n",
       "</tr>\n",
       "<tr>\n",
       "<th>1</th>\n",
       "<td>D2</td>\n",
       "<td>3</td>\n",
       "<td>2</td>\n",
       "<td>0</td>\n",
       "<td>0</td>\n",
       "<td>1</td>\n",
       "</tr>\n",
       "</tbody>\n",
       "</table>\n",
       "</div>"
      ],
      "text/plain": [
       "<Nysol_Readcsv at 0x10f3cae20>"
      ]
     },
     "metadata": {},
     "output_type": "display_data"
    }
   ],
   "source": [
    "# {コード3.36 文章と単語のクロス集計}\n",
    "file_mer3_1='./out_m/df_mer3_1.csv'\n",
    "file_mer3_2='./out_m/df_mer3_2.csv'\n",
    "#クロス集計するには単位となるキー項目単位にnm.mcount()メソッドで行カウントを集計してから, nm.m2cross()メソッドでクロス展開する.\n",
    "# nm.mcount()では, k=パラメータに行の単位となるキー項目, a=パラメータに行カウント数をセットする新しい項目名を指定する.\n",
    "# nm.m2cross()では, k=パラメータに行の単位となるキー項目, f=パラメータに行展開する項目名, f=パラメータに横展開する項目名を指定する.\n",
    "#   また, v=パラメータに指定した値で横展開後のnull値を保管することができる.\n",
    "f=None\n",
    "f<<=nm.mcount(i=file_mer3, k='文章,単語', a='cnt')\n",
    "f<<=nm.mcal(c='\"w_\"+$s{単語}', a='w_単語', o=file_mer3_1)\n",
    "f.run(msg=\"on\")\n",
    "display(file_mer3_1, nm.p(file_mer3_1, head=5, tail=1))\n",
    "\n",
    "f=None\n",
    "f<<=nm.mcut(i=file_mer3_1, r=True, f='単語')\n",
    "f<<=nm.m2cross(k='文章', s='w_単語', f='cnt', v=0, o=file_mer3_2)\n",
    "f.run(msg=\"on\")\n",
    "display(file_mer3_2, nm.p(file_mer3_2, head=5, tail=1))"
   ]
  },
  {
   "cell_type": "code",
   "execution_count": 11,
   "metadata": {
    "ExecuteTime": {
     "end_time": "2021-05-18T10:10:00.162883Z",
     "start_time": "2021-05-18T10:09:59.957812Z"
    }
   },
   "outputs": [
    {
     "name": "stderr",
     "output_type": "stream",
     "text": [
      "#END# kgcut -r f=文章 i=./out_m/df_mer3_1.csv; IN=6 OUT=6; 2021/05/18 19:09:59; 2021/05/18 19:09:59\n",
      "#END# kgsum f=cnt k=単語; IN=6 OUT=5; 2021/05/18 19:09:59; 2021/05/18 19:09:59\n",
      "#END# kgsetstr a=文章 o=./out_m/df_mer3_3a.csv v=all; IN=5 OUT=5; 2021/05/18 19:09:59; 2021/05/18 19:09:59\n"
     ]
    },
    {
     "data": {
      "text/plain": [
       "'./out_m/df_mer3_3a.csv'"
      ]
     },
     "metadata": {},
     "output_type": "display_data"
    },
    {
     "data": {
      "text/html": [
       "<style scoped>\n",
       ".dataframe tbody tr th:only-of-type {\n",
       "vertical-align: middle;\n",
       "}\n",
       ".dataframe tbody tr th {\n",
       "vertical-align: top;\n",
       "}\n",
       ".dataframe thead th {\n",
       "text-align: right;\n",
       "}\n",
       "</style>\n",
       "<div>\n",
       "<table class='dataframe'>\n",
       "<thead>\n",
       "<tr>\n",
       "<th></th>\n",
       "<th>単語</th>\n",
       "<th>cnt</th>\n",
       "<th>w_単語</th>\n",
       "<th>文章</th>\n",
       "</tr>\n",
       "</thead>\n",
       "<tbody>\n",
       "<tr>\n",
       "<th>0</th>\n",
       "<td>AI</td>\n",
       "<td>3</td>\n",
       "<td>w_AI</td>\n",
       "<td>all</td>\n",
       "</tr>\n",
       "<tr>\n",
       "<th>1</th>\n",
       "<td>学習</td>\n",
       "<td>2</td>\n",
       "<td>w_学習</td>\n",
       "<td>all</td>\n",
       "</tr>\n",
       "<tr>\n",
       "<th>2</th>\n",
       "<td>激安</td>\n",
       "<td>2</td>\n",
       "<td>w_激安</td>\n",
       "<td>all</td>\n",
       "</tr>\n",
       "<tr>\n",
       "<th>3</th>\n",
       "<td>限定</td>\n",
       "<td>1</td>\n",
       "<td>w_限定</td>\n",
       "<td>all</td>\n",
       "</tr>\n",
       "<tr>\n",
       "<th>4</th>\n",
       "<td>高速</td>\n",
       "<td>2</td>\n",
       "<td>w_高速</td>\n",
       "<td>all</td>\n",
       "</tr>\n",
       "</tbody>\n",
       "</table>\n",
       "</div>"
      ],
      "text/plain": [
       "<Nysol_Readcsv at 0x1158875e0>"
      ]
     },
     "metadata": {},
     "output_type": "display_data"
    },
    {
     "name": "stderr",
     "output_type": "stream",
     "text": [
      "#END# kgcut -r f=単語; IN=11 OUT=11; 2021/05/18 19:10:00; 2021/05/18 19:10:00\n",
      "#END# kg2cat i=./out_m/df_mer3_1.csv,./out_m/df_mer3_3a.csv; IN=11 OUT=11; 2021/05/18 19:10:00; 2021/05/18 19:10:00\n",
      "#END# kg2cross f=cnt k=文章 s=w_単語 v=0; IN=11 OUT=3; 2021/05/18 19:10:00; 2021/05/18 19:10:00\n",
      "#END# kgcal a=all c=sum(${w_*}) o=./out_m/df_mer3_3b.csv; IN=3 OUT=3; 2021/05/18 19:10:00; 2021/05/18 19:10:00\n"
     ]
    },
    {
     "data": {
      "text/plain": [
       "'./out_m/df_mer3_3b.csv'"
      ]
     },
     "metadata": {},
     "output_type": "display_data"
    },
    {
     "data": {
      "text/html": [
       "<style scoped>\n",
       ".dataframe tbody tr th:only-of-type {\n",
       "vertical-align: middle;\n",
       "}\n",
       ".dataframe tbody tr th {\n",
       "vertical-align: top;\n",
       "}\n",
       ".dataframe thead th {\n",
       "text-align: right;\n",
       "}\n",
       "</style>\n",
       "<div>\n",
       "<table class='dataframe'>\n",
       "<thead>\n",
       "<tr>\n",
       "<th></th>\n",
       "<th>文章</th>\n",
       "<th>w_AI</th>\n",
       "<th>w_学習</th>\n",
       "<th>w_激安</th>\n",
       "<th>w_限定</th>\n",
       "<th>w_高速</th>\n",
       "<th>all</th>\n",
       "</tr>\n",
       "</thead>\n",
       "<tbody>\n",
       "<tr>\n",
       "<th>0</th>\n",
       "<td>D1</td>\n",
       "<td>0</td>\n",
       "<td>0</td>\n",
       "<td>2</td>\n",
       "<td>1</td>\n",
       "<td>1</td>\n",
       "<td>4</td>\n",
       "</tr>\n",
       "<tr>\n",
       "<th>1</th>\n",
       "<td>D2</td>\n",
       "<td>3</td>\n",
       "<td>2</td>\n",
       "<td>0</td>\n",
       "<td>0</td>\n",
       "<td>1</td>\n",
       "<td>6</td>\n",
       "</tr>\n",
       "<tr>\n",
       "<th>2</th>\n",
       "<td>all</td>\n",
       "<td>3</td>\n",
       "<td>2</td>\n",
       "<td>2</td>\n",
       "<td>1</td>\n",
       "<td>2</td>\n",
       "<td>10</td>\n",
       "</tr>\n",
       "</tbody>\n",
       "</table>\n",
       "</div>"
      ],
      "text/plain": [
       "<Nysol_Readcsv at 0x115887220>"
      ]
     },
     "metadata": {},
     "output_type": "display_data"
    }
   ],
   "source": [
    "# {コード3.37 クロス集計の小計と規格化}\n",
    "\n",
    "#(1) 小計をall として出力\n",
    "file_mer3_3a='./out_m/df_mer3_3a.csv'\n",
    "file_mer3_3b='./out_m/df_mer3_3b.csv'\n",
    "\n",
    "# 単語を単位とした集計データ生成（列小計用）\n",
    "f=None\n",
    "f<<=nm.mcut(i=file_mer3_1, r=True, f='文章')\n",
    "f<<=nm.msum(k='単語', f='cnt')\n",
    "f<<=nm.msetstr(a='文章', v='all', o=file_mer3_3a)\n",
    "f.run(msg=\"on\")\n",
    "display(file_mer3_3a, nm.p(file_mer3_3a, head=5, tail=1))\n",
    "\n",
    "# 単語単位の集計データを結合してクロス展開\n",
    "# 行単位の集計はクロス展開後にnm.mcal()メソッドのsum()関数で計算\n",
    "f=None\n",
    "f<<=nm.m2cat(i=[file_mer3_1,file_mer3_3a])\n",
    "f<<=nm.mcut(r=True, f='単語')\n",
    "f<<=nm.m2cross(k='文章', s='w_単語', f='cnt', v=0)\n",
    "f<<=nm.mcal(c='sum(${w_*})', a='all', o=file_mer3_3b)\n",
    "f.run(msg=\"on\")\n",
    "display(file_mer3_3b, nm.p(file_mer3_3b, head=5, tail=1))"
   ]
  },
  {
   "cell_type": "code",
   "execution_count": 12,
   "metadata": {
    "ExecuteTime": {
     "end_time": "2021-05-18T10:10:00.348600Z",
     "start_time": "2021-05-18T10:10:00.171408Z"
    }
   },
   "outputs": [
    {
     "name": "stderr",
     "output_type": "stream",
     "text": [
      "#END# kgshare f=cnt:cnt_s i=./out_m/df_mer3_1.csv o=./out_m/df_mer3_4a.csv; IN=6 OUT=6; 2021/05/18 19:10:00; 2021/05/18 19:10:00\n"
     ]
    },
    {
     "data": {
      "text/plain": [
       "'./out_m/df_mer3_4a.csv'"
      ]
     },
     "metadata": {},
     "output_type": "display_data"
    },
    {
     "data": {
      "text/html": [
       "<style scoped>\n",
       ".dataframe tbody tr th:only-of-type {\n",
       "vertical-align: middle;\n",
       "}\n",
       ".dataframe tbody tr th {\n",
       "vertical-align: top;\n",
       "}\n",
       ".dataframe thead th {\n",
       "text-align: right;\n",
       "}\n",
       "</style>\n",
       "<div>\n",
       "<table class='dataframe'>\n",
       "<thead>\n",
       "<tr>\n",
       "<th></th>\n",
       "<th>単語</th>\n",
       "<th>文章</th>\n",
       "<th>cnt</th>\n",
       "<th>w_単語</th>\n",
       "<th>cnt_s</th>\n",
       "</tr>\n",
       "</thead>\n",
       "<tbody>\n",
       "<tr>\n",
       "<th>0</th>\n",
       "<td>激安</td>\n",
       "<td>D1</td>\n",
       "<td>2</td>\n",
       "<td>w_激安</td>\n",
       "<td>0.2</td>\n",
       "</tr>\n",
       "<tr>\n",
       "<th>1</th>\n",
       "<td>限定</td>\n",
       "<td>D1</td>\n",
       "<td>1</td>\n",
       "<td>w_限定</td>\n",
       "<td>0.1</td>\n",
       "</tr>\n",
       "<tr>\n",
       "<th>2</th>\n",
       "<td>高速</td>\n",
       "<td>D1</td>\n",
       "<td>1</td>\n",
       "<td>w_高速</td>\n",
       "<td>0.1</td>\n",
       "</tr>\n",
       "<tr>\n",
       "<th>3</th>\n",
       "<td>AI</td>\n",
       "<td>D2</td>\n",
       "<td>3</td>\n",
       "<td>w_AI</td>\n",
       "<td>0.3</td>\n",
       "</tr>\n",
       "<tr>\n",
       "<th>4</th>\n",
       "<td>学習</td>\n",
       "<td>D2</td>\n",
       "<td>2</td>\n",
       "<td>w_学習</td>\n",
       "<td>0.2</td>\n",
       "</tr>\n",
       "<tr>\n",
       "<th>5</th>\n",
       "<td>高速</td>\n",
       "<td>D2</td>\n",
       "<td>1</td>\n",
       "<td>w_高速</td>\n",
       "<td>0.1</td>\n",
       "</tr>\n",
       "</tbody>\n",
       "</table>\n",
       "</div>"
      ],
      "text/plain": [
       "<Nysol_Readcsv at 0x115887130>"
      ]
     },
     "metadata": {},
     "output_type": "display_data"
    },
    {
     "name": "stderr",
     "output_type": "stream",
     "text": [
      "#END# kgcut -r f=文章 i=./out_m/df_mer3_4a.csv; IN=6 OUT=6; 2021/05/18 19:10:00; 2021/05/18 19:10:00\n",
      "#END# kgsum f=cnt,cnt_s k=単語; IN=6 OUT=5; 2021/05/18 19:10:00; 2021/05/18 19:10:00\n",
      "#END# kgsetstr a=文章 o=./out_m/df_mer3_4b.csv v=all; IN=5 OUT=5; 2021/05/18 19:10:00; 2021/05/18 19:10:00\n"
     ]
    },
    {
     "data": {
      "text/plain": [
       "'./out_m/df_mer3_4b.csv'"
      ]
     },
     "metadata": {},
     "output_type": "display_data"
    },
    {
     "data": {
      "text/html": [
       "<style scoped>\n",
       ".dataframe tbody tr th:only-of-type {\n",
       "vertical-align: middle;\n",
       "}\n",
       ".dataframe tbody tr th {\n",
       "vertical-align: top;\n",
       "}\n",
       ".dataframe thead th {\n",
       "text-align: right;\n",
       "}\n",
       "</style>\n",
       "<div>\n",
       "<table class='dataframe'>\n",
       "<thead>\n",
       "<tr>\n",
       "<th></th>\n",
       "<th>単語</th>\n",
       "<th>cnt</th>\n",
       "<th>w_単語</th>\n",
       "<th>cnt_s</th>\n",
       "<th>文章</th>\n",
       "</tr>\n",
       "</thead>\n",
       "<tbody>\n",
       "<tr>\n",
       "<th>0</th>\n",
       "<td>AI</td>\n",
       "<td>3</td>\n",
       "<td>w_AI</td>\n",
       "<td>0.3</td>\n",
       "<td>all</td>\n",
       "</tr>\n",
       "<tr>\n",
       "<th>1</th>\n",
       "<td>学習</td>\n",
       "<td>2</td>\n",
       "<td>w_学習</td>\n",
       "<td>0.2</td>\n",
       "<td>all</td>\n",
       "</tr>\n",
       "<tr>\n",
       "<th>2</th>\n",
       "<td>激安</td>\n",
       "<td>2</td>\n",
       "<td>w_激安</td>\n",
       "<td>0.2</td>\n",
       "<td>all</td>\n",
       "</tr>\n",
       "<tr>\n",
       "<th>3</th>\n",
       "<td>限定</td>\n",
       "<td>1</td>\n",
       "<td>w_限定</td>\n",
       "<td>0.1</td>\n",
       "<td>all</td>\n",
       "</tr>\n",
       "<tr>\n",
       "<th>4</th>\n",
       "<td>高速</td>\n",
       "<td>2</td>\n",
       "<td>w_高速</td>\n",
       "<td>0.2</td>\n",
       "<td>all</td>\n",
       "</tr>\n",
       "</tbody>\n",
       "</table>\n",
       "</div>"
      ],
      "text/plain": [
       "<Nysol_Readcsv at 0x1158ac4c0>"
      ]
     },
     "metadata": {},
     "output_type": "display_data"
    },
    {
     "name": "stderr",
     "output_type": "stream",
     "text": [
      "#END# kgcut -r f=cnt,単語; IN=11 OUT=11; 2021/05/18 19:10:00; 2021/05/18 19:10:00\n",
      "#END# kg2cat i=./out_m/df_mer3_4a.csv,./out_m/df_mer3_4b.csv; IN=11 OUT=11; 2021/05/18 19:10:00; 2021/05/18 19:10:00\n",
      "#END# kg2cross f=cnt_s k=文章 s=w_単語 v=0; IN=11 OUT=3; 2021/05/18 19:10:00; 2021/05/18 19:10:00\n",
      "#END# kgcal a=all c=sum(${w_*}) o=./out_m/df_mer3_4c.csv; IN=3 OUT=3; 2021/05/18 19:10:00; 2021/05/18 19:10:00\n"
     ]
    },
    {
     "data": {
      "text/plain": [
       "'./out_m/df_mer3_4c.csv'"
      ]
     },
     "metadata": {},
     "output_type": "display_data"
    },
    {
     "data": {
      "text/html": [
       "<style scoped>\n",
       ".dataframe tbody tr th:only-of-type {\n",
       "vertical-align: middle;\n",
       "}\n",
       ".dataframe tbody tr th {\n",
       "vertical-align: top;\n",
       "}\n",
       ".dataframe thead th {\n",
       "text-align: right;\n",
       "}\n",
       "</style>\n",
       "<div>\n",
       "<table class='dataframe'>\n",
       "<thead>\n",
       "<tr>\n",
       "<th></th>\n",
       "<th>文章</th>\n",
       "<th>w_AI</th>\n",
       "<th>w_学習</th>\n",
       "<th>w_激安</th>\n",
       "<th>w_限定</th>\n",
       "<th>w_高速</th>\n",
       "<th>all</th>\n",
       "</tr>\n",
       "</thead>\n",
       "<tbody>\n",
       "<tr>\n",
       "<th>0</th>\n",
       "<td>D1</td>\n",
       "<td>0</td>\n",
       "<td>0</td>\n",
       "<td>0.2</td>\n",
       "<td>0.1</td>\n",
       "<td>0.1</td>\n",
       "<td>0.4</td>\n",
       "</tr>\n",
       "<tr>\n",
       "<th>1</th>\n",
       "<td>D2</td>\n",
       "<td>0.3</td>\n",
       "<td>0.2</td>\n",
       "<td>0</td>\n",
       "<td>0</td>\n",
       "<td>0.1</td>\n",
       "<td>0.6</td>\n",
       "</tr>\n",
       "<tr>\n",
       "<th>2</th>\n",
       "<td>all</td>\n",
       "<td>0.3</td>\n",
       "<td>0.2</td>\n",
       "<td>0.2</td>\n",
       "<td>0.1</td>\n",
       "<td>0.2</td>\n",
       "<td>1</td>\n",
       "</tr>\n",
       "</tbody>\n",
       "</table>\n",
       "</div>"
      ],
      "text/plain": [
       "<Nysol_Readcsv at 0x1158ac1f0>"
      ]
     },
     "metadata": {},
     "output_type": "display_data"
    }
   ],
   "source": [
    "#(2) 全体が1になるように規格化\n",
    "file_mer3_4a='./out_m/df_mer3_4a.csv'\n",
    "file_mer3_4b='./out_m/df_mer3_4b.csv'\n",
    "file_mer3_4c='./out_m/df_mer3_4c.csv'\n",
    "\n",
    "# nm.mshare()メソッドを使用して構成比を算出\n",
    "#    全体からの構成比を求めるため, k=パラメータの指定は不要\n",
    "f=None\n",
    "f<<=nm.mshare(i=file_mer3_1, f='cnt:cnt_s', o=file_mer3_4a)\n",
    "f.run(msg=\"on\")\n",
    "display(file_mer3_4a, nm.p(file_mer3_4a, head=5, tail=1))\n",
    "\n",
    "# 単語を単位とした集計データ生成（列小計用）\n",
    "f=None\n",
    "f<<=nm.mcut(i=file_mer3_4a, r=True, f='文章')\n",
    "f<<=nm.msum(k='単語', f='cnt,cnt_s')\n",
    "f<<=nm.msetstr(a='文章', v='all', o=file_mer3_4b)\n",
    "f.run(msg=\"on\")\n",
    "display(file_mer3_4b, nm.p(file_mer3_4b, head=5, tail=1))\n",
    "\n",
    "# 単語単位の集計データを結合してクロス展開\n",
    "# 行単位の集計はクロス展開後にnm.mcal()メソッドのsum()関数で計算\n",
    "f=None\n",
    "f<<=nm.m2cat(i=[file_mer3_4a,file_mer3_4b])\n",
    "f<<=nm.mcut(r=True, f='cnt,単語')\n",
    "f<<=nm.m2cross(k='文章', s='w_単語', f='cnt_s', v=0)\n",
    "f<<=nm.mcal(c='sum(${w_*})', a='all', o=file_mer3_4c)\n",
    "f.run(msg=\"on\")\n",
    "display(file_mer3_4c, nm.p(file_mer3_4c, head=5, tail=1))"
   ]
  },
  {
   "cell_type": "code",
   "execution_count": 13,
   "metadata": {
    "ExecuteTime": {
     "end_time": "2021-05-18T10:10:00.735742Z",
     "start_time": "2021-05-18T10:10:00.362067Z"
    }
   },
   "outputs": [
    {
     "name": "stderr",
     "output_type": "stream",
     "text": [
      "#END# kgcut -r f=文章 i=./out_m/df_mer3_1.csv; IN=6 OUT=6; 2021/05/18 19:10:00; 2021/05/18 19:10:00\n",
      "#END# kgsum f=cnt k=単語; IN=6 OUT=5; 2021/05/18 19:10:00; 2021/05/18 19:10:00\n",
      "#END# kgsetstr a=文章 o=./out_m/df_mer3_5a.csv v=all; IN=5 OUT=5; 2021/05/18 19:10:00; 2021/05/18 19:10:00\n"
     ]
    },
    {
     "data": {
      "text/plain": [
       "'./out_m/df_mer3_5a.csv'"
      ]
     },
     "metadata": {},
     "output_type": "display_data"
    },
    {
     "data": {
      "text/html": [
       "<style scoped>\n",
       ".dataframe tbody tr th:only-of-type {\n",
       "vertical-align: middle;\n",
       "}\n",
       ".dataframe tbody tr th {\n",
       "vertical-align: top;\n",
       "}\n",
       ".dataframe thead th {\n",
       "text-align: right;\n",
       "}\n",
       "</style>\n",
       "<div>\n",
       "<table class='dataframe'>\n",
       "<thead>\n",
       "<tr>\n",
       "<th></th>\n",
       "<th>単語</th>\n",
       "<th>cnt</th>\n",
       "<th>w_単語</th>\n",
       "<th>文章</th>\n",
       "</tr>\n",
       "</thead>\n",
       "<tbody>\n",
       "<tr>\n",
       "<th>0</th>\n",
       "<td>AI</td>\n",
       "<td>3</td>\n",
       "<td>w_AI</td>\n",
       "<td>all</td>\n",
       "</tr>\n",
       "<tr>\n",
       "<th>1</th>\n",
       "<td>学習</td>\n",
       "<td>2</td>\n",
       "<td>w_学習</td>\n",
       "<td>all</td>\n",
       "</tr>\n",
       "<tr>\n",
       "<th>2</th>\n",
       "<td>激安</td>\n",
       "<td>2</td>\n",
       "<td>w_激安</td>\n",
       "<td>all</td>\n",
       "</tr>\n",
       "<tr>\n",
       "<th>3</th>\n",
       "<td>限定</td>\n",
       "<td>1</td>\n",
       "<td>w_限定</td>\n",
       "<td>all</td>\n",
       "</tr>\n",
       "<tr>\n",
       "<th>4</th>\n",
       "<td>高速</td>\n",
       "<td>2</td>\n",
       "<td>w_高速</td>\n",
       "<td>all</td>\n",
       "</tr>\n",
       "</tbody>\n",
       "</table>\n",
       "</div>"
      ],
      "text/plain": [
       "<Nysol_Readcsv at 0x1158b14f0>"
      ]
     },
     "metadata": {},
     "output_type": "display_data"
    },
    {
     "name": "stderr",
     "output_type": "stream",
     "text": [
      "#END# kg2cat i=./out_m/df_mer3_1.csv,./out_m/df_mer3_5a.csv; IN=11 OUT=11; 2021/05/18 19:10:00; 2021/05/18 19:10:00\n",
      "#END# kgshare f=cnt:cnt_s k=文章 o=./out_m/df_mer3_5b.csv; IN=11 OUT=11; 2021/05/18 19:10:00; 2021/05/18 19:10:00\n"
     ]
    },
    {
     "data": {
      "text/plain": [
       "'./out_m/df_mer3_5b.csv'"
      ]
     },
     "metadata": {},
     "output_type": "display_data"
    },
    {
     "data": {
      "text/html": [
       "<style scoped>\n",
       ".dataframe tbody tr th:only-of-type {\n",
       "vertical-align: middle;\n",
       "}\n",
       ".dataframe tbody tr th {\n",
       "vertical-align: top;\n",
       "}\n",
       ".dataframe thead th {\n",
       "text-align: right;\n",
       "}\n",
       "</style>\n",
       "<div>\n",
       "<table class='dataframe'>\n",
       "<thead>\n",
       "<tr>\n",
       "<th></th>\n",
       "<th>単語</th>\n",
       "<th>文章</th>\n",
       "<th>cnt</th>\n",
       "<th>w_単語</th>\n",
       "<th>cnt_s</th>\n",
       "</tr>\n",
       "</thead>\n",
       "<tbody>\n",
       "<tr>\n",
       "<th>0</th>\n",
       "<td>激安</td>\n",
       "<td>D1</td>\n",
       "<td>2</td>\n",
       "<td>w_激安</td>\n",
       "<td>0.5</td>\n",
       "</tr>\n",
       "<tr>\n",
       "<th>1</th>\n",
       "<td>限定</td>\n",
       "<td>D1</td>\n",
       "<td>1</td>\n",
       "<td>w_限定</td>\n",
       "<td>0.25</td>\n",
       "</tr>\n",
       "<tr>\n",
       "<th>2</th>\n",
       "<td>高速</td>\n",
       "<td>D1</td>\n",
       "<td>1</td>\n",
       "<td>w_高速</td>\n",
       "<td>0.25</td>\n",
       "</tr>\n",
       "<tr>\n",
       "<th>3</th>\n",
       "<td>AI</td>\n",
       "<td>D2</td>\n",
       "<td>3</td>\n",
       "<td>w_AI</td>\n",
       "<td>0.5</td>\n",
       "</tr>\n",
       "<tr>\n",
       "<th>4</th>\n",
       "<td>学習</td>\n",
       "<td>D2</td>\n",
       "<td>2</td>\n",
       "<td>w_学習</td>\n",
       "<td>0.3333333333</td>\n",
       "</tr>\n",
       "<tr>\n",
       "<th>5</th>\n",
       "<td>高速</td>\n",
       "<td>D2</td>\n",
       "<td>1</td>\n",
       "<td>w_高速</td>\n",
       "<td>0.1666666667</td>\n",
       "</tr>\n",
       "<tr>\n",
       "<th>6</th>\n",
       "<td>AI</td>\n",
       "<td>all</td>\n",
       "<td>3</td>\n",
       "<td>w_AI</td>\n",
       "<td>0.3</td>\n",
       "</tr>\n",
       "<tr>\n",
       "<th>7</th>\n",
       "<td>学習</td>\n",
       "<td>all</td>\n",
       "<td>2</td>\n",
       "<td>w_学習</td>\n",
       "<td>0.2</td>\n",
       "</tr>\n",
       "<tr>\n",
       "<th>8</th>\n",
       "<td>激安</td>\n",
       "<td>all</td>\n",
       "<td>2</td>\n",
       "<td>w_激安</td>\n",
       "<td>0.2</td>\n",
       "</tr>\n",
       "<tr>\n",
       "<th>9</th>\n",
       "<td>限定</td>\n",
       "<td>all</td>\n",
       "<td>1</td>\n",
       "<td>w_限定</td>\n",
       "<td>0.1</td>\n",
       "</tr>\n",
       "<tr>\n",
       "<th>10</th>\n",
       "<td>高速</td>\n",
       "<td>all</td>\n",
       "<td>2</td>\n",
       "<td>w_高速</td>\n",
       "<td>0.2</td>\n",
       "</tr>\n",
       "</tbody>\n",
       "</table>\n",
       "</div>"
      ],
      "text/plain": [
       "<Nysol_Readcsv at 0x1158b1580>"
      ]
     },
     "metadata": {},
     "output_type": "display_data"
    },
    {
     "name": "stderr",
     "output_type": "stream",
     "text": [
      "#END# kgcut -r f=cnt,単語; IN=11 OUT=11; 2021/05/18 19:10:00; 2021/05/18 19:10:00\n",
      "#END# kg2cat i=./out_m/df_mer3_5b.csv; IN=11 OUT=11; 2021/05/18 19:10:00; 2021/05/18 19:10:00\n",
      "#END# kgcal a=all c=sum(${w_*}) o=./out_m/df_mer3_5c.csv; IN=3 OUT=3; 2021/05/18 19:10:00; 2021/05/18 19:10:00\n",
      "#END# kg2cross f=cnt_s k=文章 s=w_単語 v=0; IN=11 OUT=3; 2021/05/18 19:10:00; 2021/05/18 19:10:00\n"
     ]
    },
    {
     "data": {
      "text/plain": [
       "'./out_m/df_mer3_5c.csv'"
      ]
     },
     "metadata": {},
     "output_type": "display_data"
    },
    {
     "data": {
      "text/html": [
       "<style scoped>\n",
       ".dataframe tbody tr th:only-of-type {\n",
       "vertical-align: middle;\n",
       "}\n",
       ".dataframe tbody tr th {\n",
       "vertical-align: top;\n",
       "}\n",
       ".dataframe thead th {\n",
       "text-align: right;\n",
       "}\n",
       "</style>\n",
       "<div>\n",
       "<table class='dataframe'>\n",
       "<thead>\n",
       "<tr>\n",
       "<th></th>\n",
       "<th>文章</th>\n",
       "<th>w_AI</th>\n",
       "<th>w_学習</th>\n",
       "<th>w_激安</th>\n",
       "<th>w_限定</th>\n",
       "<th>w_高速</th>\n",
       "<th>all</th>\n",
       "</tr>\n",
       "</thead>\n",
       "<tbody>\n",
       "<tr>\n",
       "<th>0</th>\n",
       "<td>D1</td>\n",
       "<td>0</td>\n",
       "<td>0</td>\n",
       "<td>0.5</td>\n",
       "<td>0.25</td>\n",
       "<td>0.25</td>\n",
       "<td>1</td>\n",
       "</tr>\n",
       "<tr>\n",
       "<th>1</th>\n",
       "<td>D2</td>\n",
       "<td>0.5</td>\n",
       "<td>0.3333333333</td>\n",
       "<td>0</td>\n",
       "<td>0</td>\n",
       "<td>0.1666666667</td>\n",
       "<td>1</td>\n",
       "</tr>\n",
       "<tr>\n",
       "<th>2</th>\n",
       "<td>all</td>\n",
       "<td>0.3</td>\n",
       "<td>0.2</td>\n",
       "<td>0.2</td>\n",
       "<td>0.1</td>\n",
       "<td>0.2</td>\n",
       "<td>1</td>\n",
       "</tr>\n",
       "</tbody>\n",
       "</table>\n",
       "</div>"
      ],
      "text/plain": [
       "<Nysol_Readcsv at 0x1158b13d0>"
      ]
     },
     "metadata": {},
     "output_type": "display_data"
    }
   ],
   "source": [
    "#(3) 行合計が1になるように規格化\n",
    "file_mer3_5a='./out_m/df_mer3_5a.csv'\n",
    "file_mer3_5b='./out_m/df_mer3_5b.csv'\n",
    "file_mer3_5c='./out_m/df_mer3_5c.csv'\n",
    "\n",
    "# 単語を単位とした集計データ生成（列小計用）\n",
    "f=None\n",
    "f<<=nm.mcut(i=file_mer3_1, r=True, f='文章')\n",
    "f<<=nm.msum(k='単語', f='cnt')\n",
    "f<<=nm.msetstr(a='文章', v='all', o=file_mer3_5a)\n",
    "f.run(msg=\"on\")\n",
    "display(file_mer3_5a, nm.p(file_mer3_5a, head=5, tail=1))\n",
    "\n",
    "# nm.mshare()メソッドを使用して構成比を算出\n",
    "#    クロス展開後の行単位（文章単位）の構成比を求めるため, k=パラメータに行のキー項目（'文章'）を指定\n",
    "#    単語単位の小計データを事前に結合しておく\n",
    "f=None\n",
    "f<<=nm.m2cat(i=[file_mer3_1,file_mer3_5a])\n",
    "f<<=nm.mshare(k='文章', f='cnt:cnt_s', o=file_mer3_5b)\n",
    "f.run(msg=\"on\")\n",
    "display(file_mer3_5b, nm.p(file_mer3_5b, head=10, tail=1))\n",
    "\n",
    "# 単語単位の集計データを結合してクロス展開\n",
    "# 行単位の集計はクロス展開後にnm.mcal()メソッドのsum()関数で計算\n",
    "f=None\n",
    "f<<=nm.m2cat(i=[file_mer3_5b])\n",
    "f<<=nm.mcut(r=True, f='cnt,単語')\n",
    "f<<=nm.m2cross(k='文章', s='w_単語', f='cnt_s', v=0)\n",
    "f<<=nm.mcal(c='sum(${w_*})', a='all', o=file_mer3_5c)\n",
    "f.run(msg=\"on\")\n",
    "display(file_mer3_5c, nm.p(file_mer3_5c, head=5, tail=1))"
   ]
  },
  {
   "cell_type": "code",
   "execution_count": 14,
   "metadata": {
    "ExecuteTime": {
     "end_time": "2021-05-18T10:10:00.973629Z",
     "start_time": "2021-05-18T10:10:00.746942Z"
    }
   },
   "outputs": [
    {
     "name": "stderr",
     "output_type": "stream",
     "text": [
      "#END# kgcut -r f=単語,w_単語 i=./out_m/df_mer3_1.csv; IN=6 OUT=6; 2021/05/18 19:10:00; 2021/05/18 19:10:00\n",
      "#END# kgsetstr a=単語,w_単語 o=./out_m/df_mer3_6a_.csv v=all,all; IN=2 OUT=2; 2021/05/18 19:10:00; 2021/05/18 19:10:00\n",
      "#END# kgsum f=cnt k=文章; IN=6 OUT=2; 2021/05/18 19:10:00; 2021/05/18 19:10:00\n"
     ]
    },
    {
     "data": {
      "text/plain": [
       "'./out_m/df_mer3_6a_.csv'"
      ]
     },
     "metadata": {},
     "output_type": "display_data"
    },
    {
     "data": {
      "text/html": [
       "<style scoped>\n",
       ".dataframe tbody tr th:only-of-type {\n",
       "vertical-align: middle;\n",
       "}\n",
       ".dataframe tbody tr th {\n",
       "vertical-align: top;\n",
       "}\n",
       ".dataframe thead th {\n",
       "text-align: right;\n",
       "}\n",
       "</style>\n",
       "<div>\n",
       "<table class='dataframe'>\n",
       "<thead>\n",
       "<tr>\n",
       "<th></th>\n",
       "<th>文章</th>\n",
       "<th>cnt</th>\n",
       "<th>単語</th>\n",
       "<th>w_単語</th>\n",
       "</tr>\n",
       "</thead>\n",
       "<tbody>\n",
       "<tr>\n",
       "<th>0</th>\n",
       "<td>D1</td>\n",
       "<td>4</td>\n",
       "<td>all</td>\n",
       "<td>all</td>\n",
       "</tr>\n",
       "<tr>\n",
       "<th>1</th>\n",
       "<td>D2</td>\n",
       "<td>6</td>\n",
       "<td>all</td>\n",
       "<td>all</td>\n",
       "</tr>\n",
       "</tbody>\n",
       "</table>\n",
       "</div>"
      ],
      "text/plain": [
       "<Nysol_Readcsv at 0x10df3f160>"
      ]
     },
     "metadata": {},
     "output_type": "display_data"
    },
    {
     "name": "stderr",
     "output_type": "stream",
     "text": [
      "#END# kg2cat i=./out_m/df_mer3_1.csv,./out_m/df_mer3_6a_.csv; IN=8 OUT=8; 2021/05/18 19:10:00; 2021/05/18 19:10:00\n",
      "#END# kgshare f=cnt:cnt_s k=単語 o=./out_m/df_mer3_6a.csv; IN=8 OUT=8; 2021/05/18 19:10:00; 2021/05/18 19:10:00\n"
     ]
    },
    {
     "data": {
      "text/plain": [
       "'./out_m/df_mer3_6a.csv'"
      ]
     },
     "metadata": {},
     "output_type": "display_data"
    },
    {
     "data": {
      "text/html": [
       "<style scoped>\n",
       ".dataframe tbody tr th:only-of-type {\n",
       "vertical-align: middle;\n",
       "}\n",
       ".dataframe tbody tr th {\n",
       "vertical-align: top;\n",
       "}\n",
       ".dataframe thead th {\n",
       "text-align: right;\n",
       "}\n",
       "</style>\n",
       "<div>\n",
       "<table class='dataframe'>\n",
       "<thead>\n",
       "<tr>\n",
       "<th></th>\n",
       "<th>単語</th>\n",
       "<th>文章</th>\n",
       "<th>cnt</th>\n",
       "<th>w_単語</th>\n",
       "<th>cnt_s</th>\n",
       "</tr>\n",
       "</thead>\n",
       "<tbody>\n",
       "<tr>\n",
       "<th>0</th>\n",
       "<td>AI</td>\n",
       "<td>D2</td>\n",
       "<td>3</td>\n",
       "<td>w_AI</td>\n",
       "<td>1</td>\n",
       "</tr>\n",
       "<tr>\n",
       "<th>1</th>\n",
       "<td>all</td>\n",
       "<td>D1</td>\n",
       "<td>4</td>\n",
       "<td>all</td>\n",
       "<td>0.4</td>\n",
       "</tr>\n",
       "<tr>\n",
       "<th>2</th>\n",
       "<td>all</td>\n",
       "<td>D2</td>\n",
       "<td>6</td>\n",
       "<td>all</td>\n",
       "<td>0.6</td>\n",
       "</tr>\n",
       "<tr>\n",
       "<th>3</th>\n",
       "<td>学習</td>\n",
       "<td>D2</td>\n",
       "<td>2</td>\n",
       "<td>w_学習</td>\n",
       "<td>1</td>\n",
       "</tr>\n",
       "<tr>\n",
       "<th>4</th>\n",
       "<td>激安</td>\n",
       "<td>D1</td>\n",
       "<td>2</td>\n",
       "<td>w_激安</td>\n",
       "<td>1</td>\n",
       "</tr>\n",
       "<tr>\n",
       "<th>5</th>\n",
       "<td>限定</td>\n",
       "<td>D1</td>\n",
       "<td>1</td>\n",
       "<td>w_限定</td>\n",
       "<td>1</td>\n",
       "</tr>\n",
       "<tr>\n",
       "<th>6</th>\n",
       "<td>高速</td>\n",
       "<td>D1</td>\n",
       "<td>1</td>\n",
       "<td>w_高速</td>\n",
       "<td>0.5</td>\n",
       "</tr>\n",
       "<tr>\n",
       "<th>7</th>\n",
       "<td>高速</td>\n",
       "<td>D2</td>\n",
       "<td>1</td>\n",
       "<td>w_高速</td>\n",
       "<td>0.5</td>\n",
       "</tr>\n",
       "</tbody>\n",
       "</table>\n",
       "</div>"
      ],
      "text/plain": [
       "<Nysol_Readcsv at 0x1158b52b0>"
      ]
     },
     "metadata": {},
     "output_type": "display_data"
    },
    {
     "name": "stderr",
     "output_type": "stream",
     "text": [
      "#END# kgcut -r f=文章 i=./out_m/df_mer3_6a.csv; IN=8 OUT=8; 2021/05/18 19:10:00; 2021/05/18 19:10:00\n",
      "#END# kgsum f=cnt,cnt_s k=単語; IN=8 OUT=6; 2021/05/18 19:10:00; 2021/05/18 19:10:00\n",
      "#END# kgsetstr a=文章 o=./out_m/df_mer3_6b.csv v=all; IN=6 OUT=6; 2021/05/18 19:10:00; 2021/05/18 19:10:00\n"
     ]
    },
    {
     "data": {
      "text/plain": [
       "'./out_m/df_mer3_6b.csv'"
      ]
     },
     "metadata": {},
     "output_type": "display_data"
    },
    {
     "data": {
      "text/html": [
       "<style scoped>\n",
       ".dataframe tbody tr th:only-of-type {\n",
       "vertical-align: middle;\n",
       "}\n",
       ".dataframe tbody tr th {\n",
       "vertical-align: top;\n",
       "}\n",
       ".dataframe thead th {\n",
       "text-align: right;\n",
       "}\n",
       "</style>\n",
       "<div>\n",
       "<table class='dataframe'>\n",
       "<thead>\n",
       "<tr>\n",
       "<th></th>\n",
       "<th>単語</th>\n",
       "<th>cnt</th>\n",
       "<th>w_単語</th>\n",
       "<th>cnt_s</th>\n",
       "<th>文章</th>\n",
       "</tr>\n",
       "</thead>\n",
       "<tbody>\n",
       "<tr>\n",
       "<th>0</th>\n",
       "<td>AI</td>\n",
       "<td>3</td>\n",
       "<td>w_AI</td>\n",
       "<td>1</td>\n",
       "<td>all</td>\n",
       "</tr>\n",
       "<tr>\n",
       "<th>1</th>\n",
       "<td>all</td>\n",
       "<td>10</td>\n",
       "<td>all</td>\n",
       "<td>1</td>\n",
       "<td>all</td>\n",
       "</tr>\n",
       "<tr>\n",
       "<th>2</th>\n",
       "<td>学習</td>\n",
       "<td>2</td>\n",
       "<td>w_学習</td>\n",
       "<td>1</td>\n",
       "<td>all</td>\n",
       "</tr>\n",
       "<tr>\n",
       "<th>3</th>\n",
       "<td>激安</td>\n",
       "<td>2</td>\n",
       "<td>w_激安</td>\n",
       "<td>1</td>\n",
       "<td>all</td>\n",
       "</tr>\n",
       "<tr>\n",
       "<th>4</th>\n",
       "<td>限定</td>\n",
       "<td>1</td>\n",
       "<td>w_限定</td>\n",
       "<td>1</td>\n",
       "<td>all</td>\n",
       "</tr>\n",
       "<tr>\n",
       "<th>5</th>\n",
       "<td>高速</td>\n",
       "<td>2</td>\n",
       "<td>w_高速</td>\n",
       "<td>1</td>\n",
       "<td>all</td>\n",
       "</tr>\n",
       "</tbody>\n",
       "</table>\n",
       "</div>"
      ],
      "text/plain": [
       "<Nysol_Readcsv at 0x1158b5610>"
      ]
     },
     "metadata": {},
     "output_type": "display_data"
    },
    {
     "name": "stderr",
     "output_type": "stream",
     "text": [
      "#END# kgcut -r f=cnt,単語; IN=14 OUT=14; 2021/05/18 19:10:00; 2021/05/18 19:10:00\n",
      "#END# kg2cat i=./out_m/df_mer3_6a.csv,./out_m/df_mer3_6b.csv; IN=14 OUT=14; 2021/05/18 19:10:00; 2021/05/18 19:10:00\n",
      "#END# kgcut f=文章,w_*,all o=./out_m/df_mer3_6c.csv; IN=3 OUT=3; 2021/05/18 19:10:00; 2021/05/18 19:10:00\n",
      "#END# kg2cross f=cnt_s k=文章 s=w_単語 v=0; IN=14 OUT=3; 2021/05/18 19:10:00; 2021/05/18 19:10:00\n"
     ]
    },
    {
     "data": {
      "text/plain": [
       "'./out_m/df_mer3_6c.csv'"
      ]
     },
     "metadata": {},
     "output_type": "display_data"
    },
    {
     "data": {
      "text/html": [
       "<style scoped>\n",
       ".dataframe tbody tr th:only-of-type {\n",
       "vertical-align: middle;\n",
       "}\n",
       ".dataframe tbody tr th {\n",
       "vertical-align: top;\n",
       "}\n",
       ".dataframe thead th {\n",
       "text-align: right;\n",
       "}\n",
       "</style>\n",
       "<div>\n",
       "<table class='dataframe'>\n",
       "<thead>\n",
       "<tr>\n",
       "<th></th>\n",
       "<th>文章</th>\n",
       "<th>w_AI</th>\n",
       "<th>w_学習</th>\n",
       "<th>w_激安</th>\n",
       "<th>w_限定</th>\n",
       "<th>w_高速</th>\n",
       "<th>all</th>\n",
       "</tr>\n",
       "</thead>\n",
       "<tbody>\n",
       "<tr>\n",
       "<th>0</th>\n",
       "<td>D1</td>\n",
       "<td>0</td>\n",
       "<td>0</td>\n",
       "<td>1</td>\n",
       "<td>1</td>\n",
       "<td>0.5</td>\n",
       "<td>0.4</td>\n",
       "</tr>\n",
       "<tr>\n",
       "<th>1</th>\n",
       "<td>D2</td>\n",
       "<td>1</td>\n",
       "<td>1</td>\n",
       "<td>0</td>\n",
       "<td>0</td>\n",
       "<td>0.5</td>\n",
       "<td>0.6</td>\n",
       "</tr>\n",
       "<tr>\n",
       "<th>2</th>\n",
       "<td>all</td>\n",
       "<td>1</td>\n",
       "<td>1</td>\n",
       "<td>1</td>\n",
       "<td>1</td>\n",
       "<td>1</td>\n",
       "<td>1</td>\n",
       "</tr>\n",
       "</tbody>\n",
       "</table>\n",
       "</div>"
      ],
      "text/plain": [
       "<Nysol_Readcsv at 0x1158b5640>"
      ]
     },
     "metadata": {},
     "output_type": "display_data"
    }
   ],
   "source": [
    "#(4) 列合計が1になるように規格化\n",
    "file_mer3_6a_='./out_m/df_mer3_6a_.csv'\n",
    "file_mer3_6a='./out_m/df_mer3_6a.csv'\n",
    "file_mer3_6b='./out_m/df_mer3_6b.csv'\n",
    "file_mer3_6c='./out_m/df_mer3_6c.csv'\n",
    "\n",
    "# クロス展開後の行集計（単語単位）の構成比も算出することになるため事前に行単位（文章単位）の小計を算出しておく\n",
    "f=None\n",
    "f<<=nm.mcut(i=file_mer3_1, r=True, f='単語,w_単語')\n",
    "f<<=nm.msum(k='文章', f='cnt')\n",
    "f<<=nm.msetstr(a='単語,w_単語', v='all,all',o=file_mer3_6a_) #後続の縦結合用に項目を揃えておく\n",
    "f.run(msg=\"on\")\n",
    "display(file_mer3_6a_, nm.p(file_mer3_6a_, head=5, tail=1))\n",
    "\n",
    "# nm.mshare()メソッドを使用して構成比を算出\n",
    "#    クロス展開後の列単位（単語単位）の構成比を求めるため, k=パラメータに列のキー項目（'単語'）を指定\n",
    "#    文章単位の小計データを事前に結合しておく\n",
    "f=None\n",
    "f<<=nm.m2cat(i=[file_mer3_1,file_mer3_6a_])\n",
    "f<<=nm.mshare(k='単語', f='cnt:cnt_s', o=file_mer3_6a)\n",
    "f.run(msg=\"on\")\n",
    "display(file_mer3_6a, nm.p(file_mer3_6a, head=7, tail=1))\n",
    "\n",
    "# 単語を単位とした集計データ生成（列小計用）\n",
    "f=None\n",
    "f<<=nm.mcut(i=file_mer3_6a, r=True, f='文章')\n",
    "f<<=nm.msum(k='単語', f='cnt,cnt_s')\n",
    "f<<=nm.msetstr(a='文章', v='all', o=file_mer3_6b)\n",
    "f.run(msg=\"on\")\n",
    "display(file_mer3_6b, nm.p(file_mer3_6b, head=5, tail=1))\n",
    "\n",
    "# 単語単位の集計データを結合してクロス展開\n",
    "# 行単位の集計はクロス展開後にnm.mcal()メソッドのsum()関数で計算\n",
    "f=None\n",
    "f<<=nm.m2cat(i=[file_mer3_6a,file_mer3_6b])\n",
    "f<<=nm.mcut(r=True, f='cnt,単語')\n",
    "f<<=nm.m2cross(k='文章', s='w_単語', f='cnt_s', v=0)\n",
    "f<<=nm.mcut(f='文章,w_*,all', o=file_mer3_6c)\n",
    "f.run(msg=\"on\")\n",
    "display(file_mer3_6c, nm.p(file_mer3_6c, head=5, tail=1))"
   ]
  },
  {
   "cell_type": "code",
   "execution_count": null,
   "metadata": {},
   "outputs": [],
   "source": []
  }
 ],
 "metadata": {
  "kernelspec": {
   "display_name": "Python 3",
   "language": "python",
   "name": "python3"
  },
  "language_info": {
   "codemirror_mode": {
    "name": "ipython",
    "version": 3
   },
   "file_extension": ".py",
   "mimetype": "text/x-python",
   "name": "python",
   "nbconvert_exporter": "python",
   "pygments_lexer": "ipython3",
   "version": "3.8.5"
  }
 },
 "nbformat": 4,
 "nbformat_minor": 4
}
