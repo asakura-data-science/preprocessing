{
 "cells": [
  {
   "cell_type": "markdown",
   "metadata": {},
   "source": [
    "### 前準備"
   ]
  },
  {
   "cell_type": "code",
   "execution_count": 1,
   "metadata": {
    "ExecuteTime": {
     "end_time": "2021-05-17T22:39:29.995042Z",
     "start_time": "2021-05-17T22:39:29.735897Z"
    }
   },
   "outputs": [],
   "source": [
    "#{コード3.1 3章の準備}\n",
    "import os\n",
    "import nysol.mcmd as nm\n",
    "\n",
    "os.makedirs('out_m',exist_ok=True)"
   ]
  },
  {
   "cell_type": "markdown",
   "metadata": {},
   "source": [
    "### カラム操作"
   ]
  },
  {
   "cell_type": "code",
   "execution_count": 2,
   "metadata": {
    "ExecuteTime": {
     "end_time": "2021-05-17T22:39:30.050465Z",
     "start_time": "2021-05-17T22:39:29.998426Z"
    }
   },
   "outputs": [
    {
     "data": {
      "text/html": [
       "<style scoped>\n",
       ".dataframe tbody tr th:only-of-type {\n",
       "vertical-align: middle;\n",
       "}\n",
       ".dataframe tbody tr th {\n",
       "vertical-align: top;\n",
       "}\n",
       ".dataframe thead th {\n",
       "text-align: right;\n",
       "}\n",
       "</style>\n",
       "<div>\n",
       "<table class='dataframe'>\n",
       "<thead>\n",
       "<tr>\n",
       "<th></th>\n",
       "<th>\"企業管理コード\"</th>\n",
       "<th>\"資本金_千円\"</th>\n",
       "<th>\"従業員数\"</th>\n",
       "<th>\"所在地_市区郡コード\"</th>\n",
       "<th>\"所在地_都道府県名\"</th>\n",
       "<th>\"創業年\"</th>\n",
       "<th>\"創業月\"</th>\n",
       "<th>\"設立年\"</th>\n",
       "<th>\"設立月\"</th>\n",
       "</tr>\n",
       "</thead>\n",
       "<tbody>\n",
       "<tr>\n",
       "<th>0</th>\n",
       "<td>A01132330</td>\n",
       "<td>913</td>\n",
       "<td>378</td>\n",
       "<td>34203</td>\n",
       "<td>広島県</td>\n",
       "<td>1900</td>\n",
       "<td>3</td>\n",
       "<td>1987</td>\n",
       "<td>7</td>\n",
       "</tr>\n",
       "<tr>\n",
       "<th>1</th>\n",
       "<td>A01132330</td>\n",
       "<td>913</td>\n",
       "<td>378</td>\n",
       "<td>34203</td>\n",
       "<td>広島県</td>\n",
       "<td>1900</td>\n",
       "<td>3</td>\n",
       "<td>1987</td>\n",
       "<td>7</td>\n",
       "</tr>\n",
       "<tr>\n",
       "<th>2</th>\n",
       "<td>A01132330</td>\n",
       "<td>913</td>\n",
       "<td>378</td>\n",
       "<td>34203</td>\n",
       "<td>広島県</td>\n",
       "<td>1900</td>\n",
       "<td>3</td>\n",
       "<td>1987</td>\n",
       "<td>7</td>\n",
       "</tr>\n",
       "<tr>\n",
       "<th>3</th>\n",
       "<td>A03112202</td>\n",
       "<td>970</td>\n",
       "<td>88</td>\n",
       "<td>40137</td>\n",
       "<td>福岡県</td>\n",
       "<td>1900</td>\n",
       "<td>3</td>\n",
       "<td>1987</td>\n",
       "<td>7</td>\n",
       "</tr>\n",
       "<tr>\n",
       "<th>4</th>\n",
       "<td>A03112202</td>\n",
       "<td>970</td>\n",
       "<td>88</td>\n",
       "<td>40137</td>\n",
       "<td>福岡県</td>\n",
       "<td>1900</td>\n",
       "<td>3</td>\n",
       "<td>1987</td>\n",
       "<td>7</td>\n",
       "</tr>\n",
       "<tr>\n",
       "<th>...</th>\n",
       "<td>...</td>\n",
       "<td>...</td>\n",
       "<td>...</td>\n",
       "<td>...</td>\n",
       "<td>...</td>\n",
       "<td>...</td>\n",
       "<td>...</td>\n",
       "<td>...</td>\n",
       "<td>...</td>\n",
       "</tr>\n",
       "<tr>\n",
       "<th>1049</th>\n",
       "<td>A08125753</td>\n",
       "<td>988</td>\n",
       "<td>23</td>\n",
       "<td>02202</td>\n",
       "<td>青森県</td>\n",
       "<td>1900</td>\n",
       "<td>3</td>\n",
       "<td>1987</td>\n",
       "<td>7</td>\n",
       "</tr>\n",
       "</tbody>\n",
       "</table>\n",
       "</div>"
      ],
      "text/plain": [
       "<Nysol_Readcsv at 0x109594d90>"
      ]
     },
     "metadata": {},
     "output_type": "display_data"
    }
   ],
   "source": [
    "# {コード3.4 3.2節の準備}\n",
    "#   -> nysol_pythonの場合CSVファイルのまま処理できるため、前準備は特に不要\n",
    "\n",
    "file_col1='./in/1_company_data.csv'\n",
    "\n",
    "#nm.p()メソッドは引数のCSVファイルの内容を表示する. head=, tail=パラメータで先頭, 末尾からの表示行数を指定できる.\n",
    "#  末尾の行を表示することで行インデックスの値からファイルの行数を確認することができる.\n",
    "#   ※行インデックスは0からスタートするため, 末尾の行インデックスに+1したものが行数となる.\n",
    "display(nm.p(file_col1, head=5, tail=1))"
   ]
  },
  {
   "cell_type": "code",
   "execution_count": 3,
   "metadata": {
    "ExecuteTime": {
     "end_time": "2021-05-17T22:39:30.111785Z",
     "start_time": "2021-05-17T22:39:30.061615Z"
    }
   },
   "outputs": [
    {
     "name": "stderr",
     "output_type": "stream",
     "text": [
      "#END# kgcut f=企業管理コード,従業員数,所在地_市区郡コード,所在地_都道府県名 i=./in/1_company_data.csv o=./out_m/df_col2.csv; IN=1050 OUT=1050; 2021/05/18 07:39:30; 2021/05/18 07:39:30\n"
     ]
    },
    {
     "data": {
      "text/plain": [
       "'./out_m/df_col2.csv'"
      ]
     },
     "metadata": {},
     "output_type": "display_data"
    },
    {
     "data": {
      "text/html": [
       "<style scoped>\n",
       ".dataframe tbody tr th:only-of-type {\n",
       "vertical-align: middle;\n",
       "}\n",
       ".dataframe tbody tr th {\n",
       "vertical-align: top;\n",
       "}\n",
       ".dataframe thead th {\n",
       "text-align: right;\n",
       "}\n",
       "</style>\n",
       "<div>\n",
       "<table class='dataframe'>\n",
       "<thead>\n",
       "<tr>\n",
       "<th></th>\n",
       "<th>企業管理コード</th>\n",
       "<th>従業員数</th>\n",
       "<th>所在地_市区郡コード</th>\n",
       "<th>所在地_都道府県名</th>\n",
       "</tr>\n",
       "</thead>\n",
       "<tbody>\n",
       "<tr>\n",
       "<th>0</th>\n",
       "<td>A01132330</td>\n",
       "<td>378</td>\n",
       "<td>34203</td>\n",
       "<td>広島県</td>\n",
       "</tr>\n",
       "<tr>\n",
       "<th>1</th>\n",
       "<td>A01132330</td>\n",
       "<td>378</td>\n",
       "<td>34203</td>\n",
       "<td>広島県</td>\n",
       "</tr>\n",
       "<tr>\n",
       "<th>2</th>\n",
       "<td>A01132330</td>\n",
       "<td>378</td>\n",
       "<td>34203</td>\n",
       "<td>広島県</td>\n",
       "</tr>\n",
       "<tr>\n",
       "<th>3</th>\n",
       "<td>A03112202</td>\n",
       "<td>88</td>\n",
       "<td>40137</td>\n",
       "<td>福岡県</td>\n",
       "</tr>\n",
       "<tr>\n",
       "<th>4</th>\n",
       "<td>A03112202</td>\n",
       "<td>88</td>\n",
       "<td>40137</td>\n",
       "<td>福岡県</td>\n",
       "</tr>\n",
       "<tr>\n",
       "<th>...</th>\n",
       "<td>...</td>\n",
       "<td>...</td>\n",
       "<td>...</td>\n",
       "<td>...</td>\n",
       "</tr>\n",
       "<tr>\n",
       "<th>1049</th>\n",
       "<td>A08125753</td>\n",
       "<td>23</td>\n",
       "<td>02202</td>\n",
       "<td>青森県</td>\n",
       "</tr>\n",
       "</tbody>\n",
       "</table>\n",
       "</div>"
      ],
      "text/plain": [
       "<Nysol_Readcsv at 0x109594130>"
      ]
     },
     "metadata": {},
     "output_type": "display_data"
    }
   ],
   "source": [
    "# {コード3.5 必要なカラムを保持}\n",
    "file_col2='./out_m/df_col2.csv'\n",
    "#カラムの選択にはnm.mcut()メソッドを使用する.\n",
    "#  f=パラメータに選択する項目名を指定する（複数項目を指定する場合はカンマ区切りの1つの文字列を指定する）.\n",
    "f=None\n",
    "f<<=nm.mcut(i=file_col1, f='企業管理コード,従業員数,所在地_市区郡コード,所在地_都道府県名', o=file_col2)\n",
    "f.run(msg=\"on\")\n",
    "\n",
    "display(file_col2, nm.p(file_col2, head=5, tail=1))"
   ]
  },
  {
   "cell_type": "code",
   "execution_count": 4,
   "metadata": {
    "ExecuteTime": {
     "end_time": "2021-05-17T22:39:30.222689Z",
     "start_time": "2021-05-17T22:39:30.120850Z"
    }
   },
   "outputs": [
    {
     "name": "stderr",
     "output_type": "stream",
     "text": [
      "#END# kgcut -r f=資本金_千円,創業年,創業月,設立年,設立月 i=./in/1_company_data.csv o=./out_m/df_col2_2.csv; IN=1050 OUT=1050; 2021/05/18 07:39:30; 2021/05/18 07:39:30\n"
     ]
    },
    {
     "data": {
      "text/plain": [
       "'./out_m/df_col2_2.csv'"
      ]
     },
     "metadata": {},
     "output_type": "display_data"
    },
    {
     "data": {
      "text/html": [
       "<style scoped>\n",
       ".dataframe tbody tr th:only-of-type {\n",
       "vertical-align: middle;\n",
       "}\n",
       ".dataframe tbody tr th {\n",
       "vertical-align: top;\n",
       "}\n",
       ".dataframe thead th {\n",
       "text-align: right;\n",
       "}\n",
       "</style>\n",
       "<div>\n",
       "<table class='dataframe'>\n",
       "<thead>\n",
       "<tr>\n",
       "<th></th>\n",
       "<th>企業管理コード</th>\n",
       "<th>従業員数</th>\n",
       "<th>所在地_市区郡コード</th>\n",
       "<th>所在地_都道府県名</th>\n",
       "</tr>\n",
       "</thead>\n",
       "<tbody>\n",
       "<tr>\n",
       "<th>0</th>\n",
       "<td>A01132330</td>\n",
       "<td>378</td>\n",
       "<td>34203</td>\n",
       "<td>広島県</td>\n",
       "</tr>\n",
       "<tr>\n",
       "<th>1</th>\n",
       "<td>A01132330</td>\n",
       "<td>378</td>\n",
       "<td>34203</td>\n",
       "<td>広島県</td>\n",
       "</tr>\n",
       "<tr>\n",
       "<th>2</th>\n",
       "<td>A01132330</td>\n",
       "<td>378</td>\n",
       "<td>34203</td>\n",
       "<td>広島県</td>\n",
       "</tr>\n",
       "<tr>\n",
       "<th>3</th>\n",
       "<td>A03112202</td>\n",
       "<td>88</td>\n",
       "<td>40137</td>\n",
       "<td>福岡県</td>\n",
       "</tr>\n",
       "<tr>\n",
       "<th>4</th>\n",
       "<td>A03112202</td>\n",
       "<td>88</td>\n",
       "<td>40137</td>\n",
       "<td>福岡県</td>\n",
       "</tr>\n",
       "<tr>\n",
       "<th>...</th>\n",
       "<td>...</td>\n",
       "<td>...</td>\n",
       "<td>...</td>\n",
       "<td>...</td>\n",
       "</tr>\n",
       "<tr>\n",
       "<th>1049</th>\n",
       "<td>A08125753</td>\n",
       "<td>23</td>\n",
       "<td>02202</td>\n",
       "<td>青森県</td>\n",
       "</tr>\n",
       "</tbody>\n",
       "</table>\n",
       "</div>"
      ],
      "text/plain": [
       "<Nysol_Readcsv at 0x1095193a0>"
      ]
     },
     "metadata": {},
     "output_type": "display_data"
    }
   ],
   "source": [
    "# {コード3.6 不要なカラムを除去}\n",
    "file_col2_2='./out_m/df_col2_2.csv'\n",
    "#nm.mcut()メソッドにてr=パラメータにTrueを指定するとf=パラメータで指定した項目を除外する.\n",
    "f=None\n",
    "f<<=nm.mcut(i=file_col1, f='資本金_千円,創業年,創業月,設立年,設立月', r=True, o=file_col2_2)\n",
    "f.run(msg=\"on\")\n",
    "\n",
    "display(file_col2_2, nm.p(file_col2_2, head=5, tail=1))"
   ]
  },
  {
   "cell_type": "code",
   "execution_count": 5,
   "metadata": {
    "ExecuteTime": {
     "end_time": "2021-05-17T22:39:30.320542Z",
     "start_time": "2021-05-17T22:39:30.227525Z"
    }
   },
   "outputs": [
    {
     "name": "stderr",
     "output_type": "stream",
     "text": [
      "#END# kgcal a=所在地_都道府県名2 c=$s{所在地_都道府県名} i=./out_m/df_col2.csv o=./out_m/df_col3.csv; IN=1050 OUT=1050; 2021/05/18 07:39:30; 2021/05/18 07:39:30\n"
     ]
    },
    {
     "data": {
      "text/plain": [
       "'./out_m/df_col3.csv'"
      ]
     },
     "metadata": {},
     "output_type": "display_data"
    },
    {
     "data": {
      "text/html": [
       "<style scoped>\n",
       ".dataframe tbody tr th:only-of-type {\n",
       "vertical-align: middle;\n",
       "}\n",
       ".dataframe tbody tr th {\n",
       "vertical-align: top;\n",
       "}\n",
       ".dataframe thead th {\n",
       "text-align: right;\n",
       "}\n",
       "</style>\n",
       "<div>\n",
       "<table class='dataframe'>\n",
       "<thead>\n",
       "<tr>\n",
       "<th></th>\n",
       "<th>企業管理コード</th>\n",
       "<th>従業員数</th>\n",
       "<th>所在地_市区郡コード</th>\n",
       "<th>所在地_都道府県名</th>\n",
       "<th>所在地_都道府県名2</th>\n",
       "</tr>\n",
       "</thead>\n",
       "<tbody>\n",
       "<tr>\n",
       "<th>0</th>\n",
       "<td>A01132330</td>\n",
       "<td>378</td>\n",
       "<td>34203</td>\n",
       "<td>広島県</td>\n",
       "<td>広島県</td>\n",
       "</tr>\n",
       "<tr>\n",
       "<th>1</th>\n",
       "<td>A01132330</td>\n",
       "<td>378</td>\n",
       "<td>34203</td>\n",
       "<td>広島県</td>\n",
       "<td>広島県</td>\n",
       "</tr>\n",
       "<tr>\n",
       "<th>2</th>\n",
       "<td>A01132330</td>\n",
       "<td>378</td>\n",
       "<td>34203</td>\n",
       "<td>広島県</td>\n",
       "<td>広島県</td>\n",
       "</tr>\n",
       "<tr>\n",
       "<th>3</th>\n",
       "<td>A03112202</td>\n",
       "<td>88</td>\n",
       "<td>40137</td>\n",
       "<td>福岡県</td>\n",
       "<td>福岡県</td>\n",
       "</tr>\n",
       "<tr>\n",
       "<th>4</th>\n",
       "<td>A03112202</td>\n",
       "<td>88</td>\n",
       "<td>40137</td>\n",
       "<td>福岡県</td>\n",
       "<td>福岡県</td>\n",
       "</tr>\n",
       "<tr>\n",
       "<th>...</th>\n",
       "<td>...</td>\n",
       "<td>...</td>\n",
       "<td>...</td>\n",
       "<td>...</td>\n",
       "<td>...</td>\n",
       "</tr>\n",
       "<tr>\n",
       "<th>1049</th>\n",
       "<td>A08125753</td>\n",
       "<td>23</td>\n",
       "<td>02202</td>\n",
       "<td>青森県</td>\n",
       "<td>青森県</td>\n",
       "</tr>\n",
       "</tbody>\n",
       "</table>\n",
       "</div>"
      ],
      "text/plain": [
       "<Nysol_Readcsv at 0x10a9c2d00>"
      ]
     },
     "metadata": {},
     "output_type": "display_data"
    }
   ],
   "source": [
    "#{コード3.7, 3.8 都道府県名カラムの作成}\n",
    "file_col3='./out_m/df_col3.csv'\n",
    "#項目間演算のm.mcal()メソッドを利用する.\n",
    "#  a=パラメータに追加する項目名を文字列で指定し、c=パラメータに項目演算の式を指定する.\n",
    "#  c=パラメータでは${項目名}や$s{項目名}という形式で項目名を指定する.\n",
    "#  $と{}の間に指定する文字は項目値を取り扱う型を表し, 指定なしは数値, sは文字列となる.\n",
    "f=None\n",
    "f<<=nm.mcal(i=file_col2, c='$s{所在地_都道府県名}', a='所在地_都道府県名2', o=file_col3)\n",
    "f.run(msg=\"on\")\n",
    "\n",
    "display(file_col3, nm.p(file_col3, head=5, tail=1))"
   ]
  },
  {
   "cell_type": "code",
   "execution_count": 6,
   "metadata": {
    "ExecuteTime": {
     "end_time": "2021-05-17T22:39:30.364078Z",
     "start_time": "2021-05-17T22:39:30.327729Z"
    }
   },
   "outputs": [
    {
     "name": "stderr",
     "output_type": "stream",
     "text": [
      "#END# kgfldname f=従業員数:従業員数(人),所在地_市区郡コード:所在地_市区郡CD i=./out_m/df_col3.csv o=./out_m/df_col4.csv; IN=1050 OUT=1050; 2021/05/18 07:39:30; 2021/05/18 07:39:30\n"
     ]
    },
    {
     "data": {
      "text/plain": [
       "'./out_m/df_col4.csv'"
      ]
     },
     "metadata": {},
     "output_type": "display_data"
    },
    {
     "data": {
      "text/html": [
       "<style scoped>\n",
       ".dataframe tbody tr th:only-of-type {\n",
       "vertical-align: middle;\n",
       "}\n",
       ".dataframe tbody tr th {\n",
       "vertical-align: top;\n",
       "}\n",
       ".dataframe thead th {\n",
       "text-align: right;\n",
       "}\n",
       "</style>\n",
       "<div>\n",
       "<table class='dataframe'>\n",
       "<thead>\n",
       "<tr>\n",
       "<th></th>\n",
       "<th>企業管理コード</th>\n",
       "<th>従業員数(人)</th>\n",
       "<th>所在地_市区郡CD</th>\n",
       "<th>所在地_都道府県名</th>\n",
       "<th>所在地_都道府県名2</th>\n",
       "</tr>\n",
       "</thead>\n",
       "<tbody>\n",
       "<tr>\n",
       "<th>0</th>\n",
       "<td>A01132330</td>\n",
       "<td>378</td>\n",
       "<td>34203</td>\n",
       "<td>広島県</td>\n",
       "<td>広島県</td>\n",
       "</tr>\n",
       "<tr>\n",
       "<th>1</th>\n",
       "<td>A01132330</td>\n",
       "<td>378</td>\n",
       "<td>34203</td>\n",
       "<td>広島県</td>\n",
       "<td>広島県</td>\n",
       "</tr>\n",
       "<tr>\n",
       "<th>2</th>\n",
       "<td>A01132330</td>\n",
       "<td>378</td>\n",
       "<td>34203</td>\n",
       "<td>広島県</td>\n",
       "<td>広島県</td>\n",
       "</tr>\n",
       "<tr>\n",
       "<th>3</th>\n",
       "<td>A03112202</td>\n",
       "<td>88</td>\n",
       "<td>40137</td>\n",
       "<td>福岡県</td>\n",
       "<td>福岡県</td>\n",
       "</tr>\n",
       "<tr>\n",
       "<th>4</th>\n",
       "<td>A03112202</td>\n",
       "<td>88</td>\n",
       "<td>40137</td>\n",
       "<td>福岡県</td>\n",
       "<td>福岡県</td>\n",
       "</tr>\n",
       "<tr>\n",
       "<th>...</th>\n",
       "<td>...</td>\n",
       "<td>...</td>\n",
       "<td>...</td>\n",
       "<td>...</td>\n",
       "<td>...</td>\n",
       "</tr>\n",
       "<tr>\n",
       "<th>1049</th>\n",
       "<td>A08125753</td>\n",
       "<td>23</td>\n",
       "<td>02202</td>\n",
       "<td>青森県</td>\n",
       "<td>青森県</td>\n",
       "</tr>\n",
       "</tbody>\n",
       "</table>\n",
       "</div>"
      ],
      "text/plain": [
       "<Nysol_Readcsv at 0x1095944c0>"
      ]
     },
     "metadata": {},
     "output_type": "display_data"
    }
   ],
   "source": [
    "# {コード3.9 カラム名の変更}\n",
    "file_col4='./out_m/df_col4.csv'\n",
    "#項目名変更はnm.mfldname()メソッドを使用する.\n",
    "#  f=パラメータに  変更前項目名:変換後項目名  を指定する（複数項目を指定する場合はカンマ区切りの1つの文字列で指定する）.\n",
    "f=None\n",
    "f<<=nm.mfldname(i=file_col3, f='従業員数:従業員数(人),所在地_市区郡コード:所在地_市区郡CD', o=file_col4)\n",
    "f.run(msg=\"on\")\n",
    "\n",
    "display(file_col4, nm.p(file_col4, head=5, tail=1))"
   ]
  },
  {
   "cell_type": "code",
   "execution_count": 7,
   "metadata": {
    "ExecuteTime": {
     "end_time": "2021-05-17T22:39:30.372248Z",
     "start_time": "2021-05-17T22:39:30.367880Z"
    }
   },
   "outputs": [],
   "source": [
    "# {コード3.10 カラム属性の確認}\n",
    "# {コード3.11 文字列置換とカラムの属性変更}\n",
    "#    -> nysol_pythonでは処理途中での型変更は不要. "
   ]
  }
 ],
 "metadata": {
  "kernelspec": {
   "display_name": "Python 3",
   "language": "python",
   "name": "python3"
  },
  "language_info": {
   "codemirror_mode": {
    "name": "ipython",
    "version": 3
   },
   "file_extension": ".py",
   "mimetype": "text/x-python",
   "name": "python",
   "nbconvert_exporter": "python",
   "pygments_lexer": "ipython3",
   "version": "3.8.5"
  }
 },
 "nbformat": 4,
 "nbformat_minor": 4
}
