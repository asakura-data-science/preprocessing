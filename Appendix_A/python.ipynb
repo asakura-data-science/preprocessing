{
 "cells": [
  {
   "cell_type": "code",
   "execution_count": null,
   "metadata": {
    "ExecuteTime": {
     "end_time": "2020-09-16T02:42:40.874539Z",
     "start_time": "2020-09-16T02:42:40.868733Z"
    }
   },
   "outputs": [],
   "source": [
    "# コード A.1 2の8乗の計算結果を標準出力する命令文\n",
    "\n",
    "print(2**8)  # 256 が表示される"
   ]
  },
  {
   "cell_type": "code",
   "execution_count": null,
   "metadata": {
    "ExecuteTime": {
     "end_time": "2020-09-16T02:43:09.014580Z",
     "start_time": "2020-09-16T02:43:09.008641Z"
    }
   },
   "outputs": [],
   "source": [
    "# コード A.2 命令が上から順番に実行される\n",
    "\n",
    "print('プログラミングってよくわからない')\n",
    "print('でもわかってしまえば難しくない')"
   ]
  },
  {
   "cell_type": "code",
   "execution_count": null,
   "metadata": {
    "ExecuteTime": {
     "end_time": "2020-09-16T02:44:04.681414Z",
     "start_time": "2020-09-16T02:44:04.673407Z"
    }
   },
   "outputs": [],
   "source": [
    "# コード A.3 コメント例\n",
    "\n",
    "print(1+1) #命令文の後ろにmemoを残すこともできる\n",
    "#print(2+3)  #命令文をコメントアウトすると、その命令は実行されない\n",
    "\"\"\"\n",
    "ヒアドキュメント\n",
    "print(5+8)\n",
    "\"\"\""
   ]
  },
  {
   "cell_type": "code",
   "execution_count": null,
   "metadata": {
    "ExecuteTime": {
     "end_time": "2020-09-16T02:46:40.552953Z",
     "start_time": "2020-09-16T02:46:40.546818Z"
    }
   },
   "outputs": [],
   "source": [
    "# コード A.4 変数と代入の例\n",
    "\n",
    "a = 1 #aという名前の変数を宣言し、1を代入\n",
    "a = 3 #宣言済みの変数aに3を代入\n",
    "print(a)  # #aの中身を表示。3が表示される"
   ]
  },
  {
   "cell_type": "code",
   "execution_count": null,
   "metadata": {
    "ExecuteTime": {
     "end_time": "2020-09-16T02:47:23.171967Z",
     "start_time": "2020-09-16T02:47:23.159543Z"
    }
   },
   "outputs": [],
   "source": [
    "# コード A.5 数値演算（例）\n",
    "\n",
    "# 数値の足し算, 引き算 ： + , -\n",
    "print(1000+100000-20)   # 100980\n",
    "# 数値の掛け算 ： *     （×ではない）\n",
    "print(3.14*6)  # 18.84\n",
    "# 数値の割り算 ： /\n",
    "print(100/33)  # 3.0303030303030303\n",
    "# 数値の累乗 ： **\n",
    "print(0.03**2)  # 0.0009\n",
    "# 数値の平方根（ルート）\n",
    "print(5**(1/2))  # 2.23606797749979\n",
    "# 計算順序を指定する場合は()で囲む。演算順序のルールは算数・数学と同じ。ただし、()記号しか用いない。\n",
    "print(((3+5)*10)**2+3)  # 6403"
   ]
  },
  {
   "cell_type": "code",
   "execution_count": null,
   "metadata": {
    "ExecuteTime": {
     "end_time": "2020-09-16T02:47:45.551779Z",
     "start_time": "2020-09-16T02:47:45.546534Z"
    }
   },
   "outputs": [],
   "source": [
    "# コード A.6 文字結合（例）\n",
    "\n",
    "# 文字の結合は数値演算の足し算と同じ+演算子を使う\n",
    "print('A'+'B'+'C')  # 'ABC'"
   ]
  },
  {
   "cell_type": "code",
   "execution_count": null,
   "metadata": {
    "ExecuteTime": {
     "end_time": "2020-09-16T02:48:12.308702Z",
     "start_time": "2020-09-16T02:48:12.288632Z"
    }
   },
   "outputs": [],
   "source": [
    "# コード A.7 比較演算（例）\n",
    "\n",
    "# 同じかどうか ： ==\n",
    "print(1==1)  #同じ場合はTrueを算出\n",
    "print(\"a\"==\"A\")  #違う場合はFalseを算出\n",
    "# 違うかどうか ： !=\n",
    "print(3!=1) #違う場合はTrueを算出\n",
    "print(\"abc\"!=\"abc\") #同じ場合はFalseを算出\n",
    "# 大小比較\n",
    "print( 3 > 1 ) #比較が正しければTrue\n",
    "print( -3 < -4 ) #比較が間違っていればFalse\n",
    "print( 4 >= 4 ) #以上\n",
    "print( 4 <= 4 ) #以下"
   ]
  },
  {
   "cell_type": "code",
   "execution_count": null,
   "metadata": {
    "ExecuteTime": {
     "end_time": "2020-09-16T02:48:49.976878Z",
     "start_time": "2020-09-16T02:48:49.968428Z"
    }
   },
   "outputs": [],
   "source": [
    "# コード A.8 論理演算（例）\n",
    "\n",
    "# and\n",
    "print(1==1 and 'a'=='a')  #True\n",
    "print(1==2 and 'a'=='a')  #False\n",
    "# or\n",
    "print(1==2 or 'a'=='a')  #True\n",
    "print(1==2 or 'a'=='b')  #False\n",
    "# not（演算結果に対する否定）\n",
    "print(not 1==2)   #True\n",
    "print(not(1==2 or 'a'=='a'))  #否定対象を明確にする場合は()で括る"
   ]
  },
  {
   "cell_type": "code",
   "execution_count": null,
   "metadata": {
    "ExecuteTime": {
     "end_time": "2020-09-16T02:52:30.224146Z",
     "start_time": "2020-09-16T02:52:30.217747Z"
    }
   },
   "outputs": [],
   "source": [
    "# コード A.9 mathライブラリの読み込み\n",
    "\n",
    "import math  #mathライブラリ（数学演算）のインポート\n",
    "print(math.sqrt(5)) #5の平方根（2.23606797749979）を算出"
   ]
  },
  {
   "cell_type": "code",
   "execution_count": null,
   "metadata": {
    "ExecuteTime": {
     "end_time": "2020-09-16T03:01:18.212981Z",
     "start_time": "2020-09-16T03:01:18.208015Z"
    }
   },
   "outputs": [],
   "source": [
    "# コード A.10 None型\n",
    "\n",
    "a = None   # 値が空っぽの変数aを宣言\n",
    "print(type(a))   # NoneType"
   ]
  },
  {
   "cell_type": "code",
   "execution_count": null,
   "metadata": {
    "ExecuteTime": {
     "end_time": "2020-09-16T03:01:18.212981Z",
     "start_time": "2020-09-16T03:01:18.208015Z"
    }
   },
   "outputs": [],
   "source": [
    "# コード A.11 数値型\n",
    "\n",
    "a=1     # type(a): int\n",
    "b=-2    # int\n",
    "c=+10   # int\n",
    "d=2.5   # float\n",
    "e=10.0  # float\n",
    "f=0.3**10  # float  5.9048999999999975e-06  (e-06は1/10の6乗。つまり、5.9048999999999975 x 0.000001)\n",
    "g=3.14e+5   # float 314000.0 （e+5は10の5乗）\n",
    "\n",
    "print(type(a), a)\n",
    "print(type(b), b)\n",
    "print(type(c), c)\n",
    "print(type(d), d)\n",
    "print(type(e), e)\n",
    "print(type(f), f)\n",
    "print(type(g), g)"
   ]
  },
  {
   "cell_type": "code",
   "execution_count": null,
   "metadata": {
    "ExecuteTime": {
     "end_time": "2020-09-16T03:01:18.212981Z",
     "start_time": "2020-09-16T03:01:18.208015Z"
    }
   },
   "outputs": [],
   "source": [
    "# コード A.12 文字列型\n",
    "\n",
    "a='A' # str\n",
    "b=\"あ\" # str\n",
    "\n",
    "print(type(a), a)\n",
    "print(type(b), b)"
   ]
  },
  {
   "cell_type": "code",
   "execution_count": null,
   "metadata": {
    "ExecuteTime": {
     "end_time": "2020-09-16T03:01:18.212981Z",
     "start_time": "2020-09-16T03:01:18.208015Z"
    }
   },
   "outputs": [],
   "source": [
    "# コード A.13 論理型\n",
    "\n",
    "a=(3==3)   # print(a): True, type(a): bool\n",
    "b=((1+1)==1)  # False\n",
    "\n",
    "print(type(a), a)\n",
    "print(type(b), b)"
   ]
  },
  {
   "cell_type": "code",
   "execution_count": null,
   "metadata": {
    "ExecuteTime": {
     "end_time": "2020-09-16T03:01:18.212981Z",
     "start_time": "2020-09-16T03:01:18.208015Z"
    }
   },
   "outputs": [],
   "source": [
    "# コード A.14 日付型\n",
    "\n",
    "import datetime\n",
    "dt=datetime.datetime.now()   #現在日時を取得\n",
    "print(dt)   # 日時を表示    e.g. 2020-07-20 16:21:41.650336\n",
    "print(type(dt))  # datetime.datetime\n",
    "print(dt.year,dt.month,dt.day)   # 年,月,日（整数型） e.g. 2020,7,20\n",
    "print(dt.weekday())  # 曜日（整数型） 0:月,1:火,〜,5:土,6:日  e.g. 0\n",
    "# 時,分,秒,ミリ秒（整数型） e.g. 16,21,41,650336\n",
    "print(dt.hour,dt.minute,dt.second,dt.microsecond)"
   ]
  },
  {
   "cell_type": "code",
   "execution_count": null,
   "metadata": {
    "ExecuteTime": {
     "end_time": "2020-09-16T03:01:18.212981Z",
     "start_time": "2020-09-16T03:01:18.208015Z"
    }
   },
   "outputs": [],
   "source": [
    "# コード A.15 リスト\n",
    "\n",
    "a=[1,2    ,     3]  #リスト内での要素外の半角スペースは無視される\n",
    "b=[1, 'a', 2, 'b', 3, 'c', True]  #異なる型の要素を持てる\n",
    "print(a)    # [1, 2, 3]\n",
    "print(b)    # [1, 'a', 2, 'b', 3, 'c', True]"
   ]
  },
  {
   "cell_type": "code",
   "execution_count": null,
   "metadata": {
    "ExecuteTime": {
     "end_time": "2020-09-16T03:01:18.212981Z",
     "start_time": "2020-09-16T03:01:18.208015Z"
    }
   },
   "outputs": [],
   "source": [
    "# コード A.16 リスト内の要素を指定\n",
    "\n",
    "a=['A','B','C']\n",
    "print(a[0])  # A  （0番目=先頭から1個目）\n",
    "print(a[1])  # B  （1番目=先頭から2個目）\n",
    "# マイナス値を指定すると後ろから\n",
    "print(a[-1])  # C  （-1番目=後ろから1個目）\n",
    "print(a[-3])  # A  （-3番目=後ろから3個目）\n",
    "# 存在しない要素番目を指定したらエラー\n",
    "print(a[3])  # IndexError: list index out of range\n",
    "print(a[-4])  # IndexError: list index out of range"
   ]
  },
  {
   "cell_type": "code",
   "execution_count": null,
   "metadata": {
    "ExecuteTime": {
     "end_time": "2020-09-16T03:01:18.212981Z",
     "start_time": "2020-09-16T03:01:18.208015Z"
    }
   },
   "outputs": [],
   "source": [
    "# コード A.17 タプル\n",
    "\n",
    "a=('A','B','C')\n",
    "print(a[1])  # B"
   ]
  },
  {
   "cell_type": "code",
   "execution_count": null,
   "metadata": {
    "ExecuteTime": {
     "end_time": "2020-09-16T03:01:18.212981Z",
     "start_time": "2020-09-16T03:01:18.208015Z"
    }
   },
   "outputs": [],
   "source": [
    "# コード A.18 タプルの要素は変更不可\n",
    "\n",
    "# リストの要素は書き換え可能\n",
    "a=['A','B','C']\n",
    "a[0]='a'  # 0番目の要素を変更\n",
    "print(a)   # ['a', 'B', 'C']\n",
    "# タプルの要素は書き換え不可（エラー）\n",
    "b=('A','B','C')\n",
    "b[0]='a'  #  TypeError: 'tuple' object does not support item assignment"
   ]
  },
  {
   "cell_type": "code",
   "execution_count": null,
   "metadata": {
    "ExecuteTime": {
     "end_time": "2020-09-16T03:01:18.212981Z",
     "start_time": "2020-09-16T03:01:18.208015Z"
    }
   },
   "outputs": [],
   "source": [
    "# コード A.19 辞書型\n",
    "\n",
    "a={'名前':'朝倉太郎', '年齢':18, '出身地':'大阪'}\n",
    "print(a)  #{'名前':'朝倉太郎', '年齢':18, '出身地':'大阪'}\n",
    "\n",
    "#要素の取得には要素名を指定\n",
    "print(a['出身地']) # 大阪\n",
    "#要素の値の変更\n",
    "a['出身地']=\"東京\"\n",
    "print(a['出身地'])  # 東京\n",
    "#存在しない要素名を指定した場合はエラー\n",
    "print(a['性別'])   # KeyError: '性別'"
   ]
  },
  {
   "cell_type": "code",
   "execution_count": null,
   "metadata": {
    "ExecuteTime": {
     "end_time": "2020-09-16T03:01:18.212981Z",
     "start_time": "2020-09-16T03:01:18.208015Z"
    }
   },
   "outputs": [],
   "source": [
    "# コード A.20 str()関数を使った型変換の例\n",
    "\n",
    "# 文字と文字以外の値を文字として結合したい場合、\n",
    "# 文字以外の値をstr()関数で文字型に変換する\n",
    "print(\"(20+30)×10は\"+str((20+30)*10)+\"です\")  # (20+30)×10は500です\n",
    "\n",
    "# ちなみに、文字と文字以外を結合しようとするとエラーになる\n",
    "print('a'+1) # TypeError: can only concatenate str (not \"int\") to str"
   ]
  },
  {
   "cell_type": "code",
   "execution_count": null,
   "metadata": {
    "ExecuteTime": {
     "end_time": "2020-09-16T03:01:18.212981Z",
     "start_time": "2020-09-16T03:01:18.208015Z"
    }
   },
   "outputs": [],
   "source": [
    "# コード A.21 再代入と複合代入演算子の例\n",
    "\n",
    "a=10\n",
    "b=2\n",
    "a=a+5 #print(a): 15\n",
    "print(a)\n",
    "\n",
    "#複合演算子は=の前に数値演算子を書く\n",
    "a+=5  # +=演算子  a=a+5と同じ\n",
    "b**=8  # **=演算子  b=b**8と同じ\n",
    "print(a)\n",
    "print(b)"
   ]
  },
  {
   "cell_type": "code",
   "execution_count": null,
   "metadata": {
    "ExecuteTime": {
     "end_time": "2020-09-16T03:01:18.212981Z",
     "start_time": "2020-09-16T03:01:18.208015Z"
    }
   },
   "outputs": [],
   "source": [
    "# コード A.22 勝手な字下げはエラー\n",
    "\n",
    "print(\"top\")\n",
    "    # 勝手に字下げを深くするとエラー\n",
    "    print(\"second\")   # IndentationError: unexpected indent"
   ]
  },
  {
   "cell_type": "raw",
   "metadata": {
    "ExecuteTime": {
     "end_time": "2020-09-16T03:01:18.212981Z",
     "start_time": "2020-09-16T03:01:18.208015Z"
    }
   },
   "source": [
    "# コード A.23 if文の書き方\n",
    "\n",
    "if 条件式 :\n",
    "    if文のあとに字下げしてブロックを形成する。\n",
    "    条件式がTrueであれば、このブロックが実行される。\n",
    "elif 条件式 :\n",
    "    if文の条件式がFalseであれば、このelifの条件式が判定される。\n",
    "    elifの条件式がTrueの場合にこのブロックが実行される。\n",
    "    elif文とそのブロックの記述は任意である。\n",
    "    elif文とそのブロックは何個でも指定できる。\n",
    "else :\n",
    "    上述のif、elifのすべての条件式がFalseの場合にこのブロックが\n",
    "    実行される。else文とそのブロックの記述も任意である。"
   ]
  },
  {
   "cell_type": "code",
   "execution_count": null,
   "metadata": {
    "ExecuteTime": {
     "end_time": "2020-09-16T03:06:58.491081Z",
     "start_time": "2020-09-16T03:06:58.471817Z"
    }
   },
   "outputs": [],
   "source": [
    "# コード A.24 if文のコード例\n",
    "\n",
    "num = 6  #numの代入値を変更することでif文の動きを確認できる\n",
    "if num > 5 :\n",
    "    print(\"numは\"+str(num)+\"なので、5より大きい\")\n",
    "elif num > 2:\n",
    "    print(\"numは\"+str(num)+\"なので5以下で２より大きい\")\n",
    "else:\n",
    "    print(\"numは\"+str(num)+\"なので2以下\")"
   ]
  },
  {
   "cell_type": "raw",
   "metadata": {
    "ExecuteTime": {
     "end_time": "2020-09-16T03:06:58.491081Z",
     "start_time": "2020-09-16T03:06:58.471817Z"
    }
   },
   "source": [
    "# コード A.25 for文の書き方\n",
    "\n",
    "for 変数名 in 繰り返す対象のオブジェクト変数 :\n",
    "    for文のあとに字下げしてブロックを形成する。\n",
    "    in句に指定した「繰り返す対象のオブジェクト変数」の要素の個数分、\n",
    "    このブロックが繰り返し実行される。繰り返しの順番ごとに、要素の値が\n",
    "    for句のあとに指定した変数にセットされ、ブロック内で使用できる。"
   ]
  },
  {
   "cell_type": "code",
   "execution_count": null,
   "metadata": {
    "ExecuteTime": {
     "end_time": "2020-09-16T03:06:58.491081Z",
     "start_time": "2020-09-16T03:06:58.471817Z"
    }
   },
   "outputs": [],
   "source": [
    "# コード A.26 for文で指定回数繰り返す例\n",
    "\n",
    "for num in range(3) :\n",
    "    # このブロックが3回繰り返される\n",
    "    # range()関数を使うと指定した要素数の値の順序セットを取得できる。\n",
    "    # range(3)で0,1,2の値セットが生成される。\n",
    "    print(num)"
   ]
  },
  {
   "cell_type": "code",
   "execution_count": null,
   "metadata": {
    "ExecuteTime": {
     "end_time": "2020-09-16T03:06:58.491081Z",
     "start_time": "2020-09-16T03:06:58.471817Z"
    }
   },
   "outputs": [],
   "source": [
    "# コード A.27 for文でリストの要素分繰り返す例\n",
    "\n",
    "lst = ['A','B','C']  # 繰り返したいリスト変数\n",
    "for elem in lst :\n",
    "    print(elem)"
   ]
  },
  {
   "cell_type": "code",
   "execution_count": null,
   "metadata": {
    "ExecuteTime": {
     "end_time": "2020-09-16T03:06:58.491081Z",
     "start_time": "2020-09-16T03:06:58.471817Z"
    }
   },
   "outputs": [],
   "source": [
    "# コード A.28 for文で何回目の繰り返しか取得する方法\n",
    "\n",
    "lst = ['A','B','C']\n",
    "for num,elem in enumerate(lst):\n",
    "    # enumerate()関数の引数に繰り返し対象の変数を指定すると\n",
    "    # 要素番号（0からスタート）と要素値とのセットが取得できる\n",
    "    print(num, elem)"
   ]
  },
  {
   "cell_type": "code",
   "execution_count": null,
   "metadata": {
    "ExecuteTime": {
     "end_time": "2020-09-16T03:06:58.491081Z",
     "start_time": "2020-09-16T03:06:58.471817Z"
    }
   },
   "outputs": [],
   "source": [
    "# コード A.29 複数のリストをfor文で繰り返す\n",
    "\n",
    "lst1 = ['A','B','C']\n",
    "lst2 = [1, 2, 3]\n",
    "lst3 = [True,False,None]\n",
    "for e1,e2,e3 in zip(lst1,lst2,lst3):\n",
    "    # zip()関数の引数に同時に繰り返したいリストを指定すると\n",
    "    # 同一の要素番号のセット（要素は引数に指定した順番）が取得できる\n",
    "    print(e1,e2,e3)"
   ]
  },
  {
   "cell_type": "code",
   "execution_count": null,
   "metadata": {
    "ExecuteTime": {
     "end_time": "2020-09-16T03:07:12.324625Z",
     "start_time": "2020-09-16T03:07:12.315528Z"
    }
   },
   "outputs": [],
   "source": [
    "# コード A.30 for文で辞書型の要素分繰り返す例\n",
    "\n",
    "a={'名前':'朝倉太郎', '年齢':18, '出身地':'大阪'}\n",
    "for name,value in a.items() :\n",
    "    # in句に指定する辞書型変数に.items()メソッドを付加すると\n",
    "    # 項目キー名と項目値のセットが取得できる\n",
    "    print(name, value)  # 項目名, 値"
   ]
  },
  {
   "cell_type": "raw",
   "metadata": {
    "ExecuteTime": {
     "end_time": "2020-09-16T03:11:42.679102Z",
     "start_time": "2020-09-16T03:11:42.404643Z"
    }
   },
   "source": [
    "# コード A.31 while文の書き方\n",
    "\n",
    "while 繰り返しを判定する条件式 :\n",
    "    while文のあとに字下げしてブロックを形成する。\n",
    "    このブロックの処理が完了したら条件式の判定から繰り返される。\n",
    "    条件式がTrueである間、このブロックが繰り返し実行される。\n",
    "    最初から条件式がFalseの場合は一度もブロックは実行されない。"
   ]
  },
  {
   "cell_type": "code",
   "execution_count": null,
   "metadata": {
    "ExecuteTime": {
     "end_time": "2020-09-16T03:11:42.679102Z",
     "start_time": "2020-09-16T03:11:42.404643Z"
    }
   },
   "outputs": [],
   "source": [
    "# コード A.32 while文での繰り返し例\n",
    "\n",
    "num = 2\n",
    "while num < 100:   # この条件がFalseになれば繰り返し終了\n",
    "    print(num)\n",
    "    num = num**2  # numを累乗"
   ]
  },
  {
   "cell_type": "code",
   "execution_count": null,
   "metadata": {
    "ExecuteTime": {
     "end_time": "2020-09-16T03:11:42.679102Z",
     "start_time": "2020-09-16T03:11:42.404643Z"
    }
   },
   "outputs": [],
   "source": [
    "# コード A.33 分岐処理やループ処理の入れ子構造例\n",
    "\n",
    "X=[0,1]\n",
    "Y=[10,20]\n",
    "for x in X:\n",
    "    for y in Y:\n",
    "        if x==1 and y == 10 :\n",
    "            print('Y', x, y)\n",
    "        else:\n",
    "            print('N', x, y)"
   ]
  },
  {
   "cell_type": "code",
   "execution_count": null,
   "metadata": {
    "ExecuteTime": {
     "end_time": "2020-09-16T03:11:42.679102Z",
     "start_time": "2020-09-16T03:11:42.404643Z"
    }
   },
   "outputs": [],
   "source": [
    "# コード A.34 リストの内包表記の書き方\n",
    "\n",
    "# [ 式 for 変数名 in ループ対象 ] と書く。for文のあとの:（コロン）記号は\n",
    "# 記述せず、ブロック結果（式）をfor句の前に記述する。\n",
    "dbl = [num*2 for num in [1,2,3,4,5]]\n",
    "print(dbl)  # [2, 4, 6, 8, 10]\n",
    "\n",
    "#上記の内包表記は以下と同じリスト操作が行われている。\n",
    "dbl = []\n",
    "for num in [1,2,3,4,5]:\n",
    "    dbl.append(num*2) #リスト変数dblへ追加\n",
    "print(dbl)"
   ]
  },
  {
   "cell_type": "raw",
   "metadata": {
    "ExecuteTime": {
     "end_time": "2020-09-16T03:11:42.679102Z",
     "start_time": "2020-09-16T03:11:42.404643Z"
    }
   },
   "source": [
    "# コード A.35 関数の定義と呼び出し方\n",
    "\n",
    "def 関数名( 引数定義 ) :\n",
    "    def文のあとに字下げしてブロックを形成する。\n",
    "    関数が呼び出されると、このブロックが実行される。\n",
    "    引数定義には関数の呼び出し時にこのブロックに渡したい値の\n",
    "    代入先となる変数名（これを引数という）を定義する。\n",
    "    引数として定義した変数はブロック内で使用できる。\n",
    "    引数を複数指定する場合はカンマで区切る。\n",
    "    引数が不要の場合は何も書かなくてよい。\n",
    "\n",
    "# 関数を呼び出す\n",
    "関数名( 引数に代入する値 )"
   ]
  },
  {
   "cell_type": "code",
   "execution_count": null,
   "metadata": {
    "ExecuteTime": {
     "end_time": "2020-09-16T03:11:42.679102Z",
     "start_time": "2020-09-16T03:11:42.404643Z"
    }
   },
   "outputs": [],
   "source": [
    "# コード A.36 関数の定義と呼び出し例\n",
    "\n",
    "import datetime\n",
    "import time   # sleep関数を使うためtimeモジュールをimport\n",
    "\n",
    "#関数定義\n",
    "def tellTheTime(idx):\n",
    "    dt=datetime.datetime.now()\n",
    "    print(idx,'ただいま',dt.hour,'時',dt.minute,'分',dt.second,'秒')\n",
    "\n",
    "#関数呼び出し\n",
    "for i in range(3):\n",
    "    tellTheTime(i)  #ここでtellTheTime()関数を呼び出し\n",
    "    time.sleep(1)   #sleep関数。引数に指定した秒数間、処理を一時停止"
   ]
  },
  {
   "cell_type": "code",
   "execution_count": null,
   "metadata": {
    "ExecuteTime": {
     "end_time": "2020-09-16T03:11:42.679102Z",
     "start_time": "2020-09-16T03:11:42.404643Z"
    }
   },
   "outputs": [],
   "source": [
    "# コード A.37 関数の戻り値を定義する例\n",
    "\n",
    "import datetime\n",
    "import time\n",
    "\n",
    "def tellTheTime():\n",
    "    dt=datetime.datetime.now()\n",
    "    return dt   # 戻り値にdtを指定\n",
    "\n",
    "for i in range(2):\n",
    "    retDt = tellTheTime()  #関数を呼び出して戻り値をretDt変数に代入\n",
    "    print(retDt.second,'秒')\n",
    "    time.sleep(1)"
   ]
  },
  {
   "cell_type": "code",
   "execution_count": null,
   "metadata": {
    "ExecuteTime": {
     "end_time": "2020-09-16T03:11:42.679102Z",
     "start_time": "2020-09-16T03:11:42.404643Z"
    }
   },
   "outputs": [],
   "source": [
    "# コード A.38 さまざまなインポート方法\n",
    "\n",
    "# numpyライブラリのrandomクラスをインポート\n",
    "from numpy import random\n",
    "# randomクラスのrand()関数を呼び出し\n",
    "print(random.rand())  #0.0以上、1.0未満の乱数が生成される\n",
    "\n",
    "# インポートしたライブラリに別名をつける（処理は上記と同じ）\n",
    "from numpy import random as nr\n",
    "print(nr.rand())"
   ]
  },
  {
   "cell_type": "raw",
   "metadata": {
    "ExecuteTime": {
     "end_time": "2020-09-16T03:11:42.679102Z",
     "start_time": "2020-09-16T03:11:42.404643Z"
    }
   },
   "source": [
    "# コード A.39 テキストファイル操作の書き方\n",
    "\n",
    "#open関数でファイルをオープン\n",
    "#  ファイルを操作できるオブジェクトが戻り値として返される\n",
    "#  mode引数は、wが上書きモード、aが追記モード、rが読み込みモード\n",
    "f = open('ファイル名', mode=\"w\")\n",
    "#ファイルへの書き込み\n",
    "f.write('書き込む文字列')\n",
    "#ファイルの読み込み（ファイル内容全部）\n",
    "f.read()\n",
    "#ファイルの読み込み（行ごと）\n",
    "for line in f:\n",
    "    # for文のin句にファイルオブジェクトを指定すると行ごとにループ\n",
    "    # for文の変数に1行分の文字列が格納される\n",
    "    print(line)\n",
    "#ファイルオブジェクトをクローズ\n",
    "f.close()"
   ]
  },
  {
   "cell_type": "code",
   "execution_count": null,
   "metadata": {
    "ExecuteTime": {
     "end_time": "2020-09-16T03:13:03.895184Z",
     "start_time": "2020-09-16T03:13:03.708670Z"
    }
   },
   "outputs": [],
   "source": [
    "# コード A.40 テキストファイルの操作例（書き込み）\n",
    "\n",
    "f=open('sample.txt', mode=\"w\") #上書きモードでオープン\n",
    "f.write('今日は金曜日です。') #ファイルに書き込み\n",
    "f.write('\\n')  #改行を書き込み（'\\n'は改行コード）\n",
    "f.write('明日は土曜日です。') #ファイルに書き込み\n",
    "f.close() # ファイルをクローズ\n",
    "\n",
    "#出力ファイル参照\n",
    "!cat sample.txt"
   ]
  },
  {
   "cell_type": "code",
   "execution_count": null,
   "metadata": {
    "ExecuteTime": {
     "end_time": "2020-09-16T03:18:57.224644Z",
     "start_time": "2020-09-16T03:18:57.128715Z"
    }
   },
   "outputs": [],
   "source": [
    "# コード A.41 テキストファイルの操作例（読み込み）\n",
    "\n",
    "f=open('sample.txt', mode=\"r\") #読み込みモードでオープン\n",
    "print(f.read()) #ファイル内容を表示\n",
    "f.close() # ファイルをクローズ"
   ]
  },
  {
   "cell_type": "raw",
   "metadata": {
    "ExecuteTime": {
     "end_time": "2020-09-16T03:18:57.224644Z",
     "start_time": "2020-09-16T03:18:57.128715Z"
    }
   },
   "source": [
    "# コード A.42 withブロックの書き方\n",
    "\n",
    "with open('ファイル名', mode=\"モード\") as ファイル変数:\n",
    "    このブロックでファイル操作を行う\n",
    "    このブロックが終了すると自動的にファイルがクローズされる"
   ]
  },
  {
   "cell_type": "code",
   "execution_count": null,
   "metadata": {
    "ExecuteTime": {
     "end_time": "2020-09-16T03:18:57.224644Z",
     "start_time": "2020-09-16T03:18:57.128715Z"
    }
   },
   "outputs": [],
   "source": [
    "# コード A.43 withブロックでのファイル操作例\n",
    "\n",
    "with open('sample.txt', mode=\"a\") as f: #上書きモード\n",
    "  f.write('\\n')\n",
    "  f.write('明後日は日曜日です。')\n",
    "\n",
    "with open('sample.txt', mode=\"r\") as fl: #読み込みモード\n",
    "  for line in fl:\n",
    "    print(line.replace('\\n','')) #改行コードを削除して出力"
   ]
  },
  {
   "cell_type": "code",
   "execution_count": null,
   "metadata": {
    "ExecuteTime": {
     "end_time": "2020-09-16T03:18:57.224644Z",
     "start_time": "2020-09-16T03:18:57.128715Z"
    }
   },
   "outputs": [],
   "source": [
    "# コード A.44 メタ表現によるレコード抽出（正規表現）\n",
    "\n",
    "import pandas as pd\n",
    "\n",
    "s_org1 = pd.Series(['神','神奈川県','神戸市','姥神町','神神市'], index=['A', 'B', 'C', 'D','E'])\n",
    "df_seiki_1 = s_org1[s_org1.str.match(r'神[奈戸神].+')]\n",
    "print(df_seiki_1)"
   ]
  },
  {
   "cell_type": "code",
   "execution_count": null,
   "metadata": {
    "ExecuteTime": {
     "end_time": "2020-10-03T07:25:58.749662Z",
     "start_time": "2020-10-03T07:25:57.681359Z"
    }
   },
   "outputs": [],
   "source": [
    "# コード A.45 文字列集合指定の抽出（正規表現）\n",
    "\n",
    "import pandas as pd\n",
    "\n",
    "s_org2 = pd.Series(['12345','１２３４５','ABCD','ＡＢＣＤ','あいうえお'], index=['A', 'B', 'C', 'D','E'])\n",
    "\n",
    "df_seiki_2 = s_org2[s_org2.str.match(r'[０-９]+')]\n",
    "print(df_seiki_2)\n",
    "# B    １２３４５\n",
    "# dtype: object\n",
    "\n",
    "df_seiki_3 = s_org2[s_org2.str.match(r'[\\u3041-\\u309F]+')]\n",
    "print(df_seiki_3)\n",
    "# E    あいうえお\n",
    "# dtype: object"
   ]
  },
  {
   "cell_type": "code",
   "execution_count": null,
   "metadata": {
    "ExecuteTime": {
     "end_time": "2020-09-16T03:18:57.224644Z",
     "start_time": "2020-09-16T03:18:57.128715Z"
    }
   },
   "outputs": [],
   "source": [
    "# コード A.46 開始文字、終了文字指定の抽出（正規表現）\n",
    "\n",
    "import pandas as pd\n",
    "\n",
    "s_org3 = pd.Series(['abcdef','defabc','ABCDE','acsdefde'], index=['A', 'B', 'C', 'D'])\n",
    "df_seiki_4 = s_org3[s_org3.str.match(r'\\Aabc')]\n",
    "print(df_seiki_4)\n",
    "# A    abcdef\n",
    "# dtype: object\n",
    "\n",
    "df_seiki_5 = s_org3[s_org3.str.match(r'.*DE\\Z')]\n",
    "print(df_seiki_5)\n",
    "# C    ABCDE\n",
    "# dtype: object"
   ]
  },
  {
   "cell_type": "code",
   "execution_count": null,
   "metadata": {
    "ExecuteTime": {
     "end_time": "2020-09-30T09:31:53.700388Z",
     "start_time": "2020-09-30T09:31:53.046879Z"
    }
   },
   "outputs": [],
   "source": [
    "# コード A.47 デバッグ方法の例\n",
    "\n",
    "#45行目、26行目、35〜36行目と順番に処理コードをコメントアウトして処理を進めながらデバッグの方法を理解する。\n",
    "\n",
    "import sys\n",
    "import urllib\n",
    "from bs4 import BeautifulSoup\n",
    "\n",
    "_url='https://www.kantei.go.jp/jp/rekidainaikaku/index.html'\n",
    "_fileName='a_sample.html'\n",
    "\n",
    "def getHtmlFile():\n",
    "    urllib.request.urlretrieve(_url,_fileName)\n",
    "\n",
    "def readPrimeMinister():\n",
    "    with open(_fileName, mode='r', encoding='utf-8') as f:\n",
    "        soup = BeautifulSoup(f.read(), 'html.parser')\n",
    "        #titleタグの文字列を取得\n",
    "        _title = soup.find('title').get_text()\n",
    "        # デバッグ方法(1) print()関数で変数の中身を確認する。\n",
    "        print(_title)\n",
    "        # デバッグ方法(2) return文を使って関数途中で抜ける。\n",
    "        # 　この時点まで関数が意図したとおりに動作しているか確認するために\n",
    "        # 　return文で関数を終了させ、関数内の以降の処理を動かさない。\n",
    "        # 　確認OKであれば、このデバッグ文はコメントアウトか削除する。\n",
    "        return\n",
    "\n",
    "        #h3タグ内の文字列を取得\n",
    "        for num,_h3 in enumerate(soup.find_all('h3')):\n",
    "            # デバッグ方法(3) break文を使ってループ途中で抜ける。\n",
    "            # 　ループ回数が多い処理にはbreak処理を入れて\n",
    "            # 　ループを途中で抜けてそこまでの処理内容を確認する。\n",
    "            # 　確認OKであれば、if〜breakまでの一連のデバッグ文は\n",
    "            # 　コメントアウトか削除する。\n",
    "            if num > 4:\n",
    "                break\n",
    "            pmName = _h3.get_text()\n",
    "            print(pmName)\n",
    "            # 〜以降、省略\n",
    "\n",
    "getHtmlFile()\n",
    "# デバッグ方法(4) sys.exit()関数を使ってプログラム途中で強制終了する。\n",
    "# 　この時点で処理を止めて以降の処理を動かしたくない場合などで使用する。\n",
    "# 　確認結果がOKであれば、このデバッグ文はコメントアウトか削除する。\n",
    "sys.exit()\n",
    "readPrimeMinister()"
   ]
  },
  {
   "cell_type": "code",
   "execution_count": null,
   "metadata": {},
   "outputs": [],
   "source": []
  }
 ],
 "metadata": {
  "kernelspec": {
   "display_name": "Python 3",
   "language": "python",
   "name": "python3"
  },
  "language_info": {
   "codemirror_mode": {
    "name": "ipython",
    "version": 3
   },
   "file_extension": ".py",
   "mimetype": "text/x-python",
   "name": "python",
   "nbconvert_exporter": "python",
   "pygments_lexer": "ipython3",
   "version": "3.8.5"
  }
 },
 "nbformat": 4,
 "nbformat_minor": 4
}
